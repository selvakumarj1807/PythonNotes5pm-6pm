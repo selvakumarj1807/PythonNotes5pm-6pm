{
 "cells": [
  {
   "cell_type": "markdown",
   "id": "5b340b84-3ac9-4a0a-b4a5-8e5624498cd2",
   "metadata": {},
   "source": [
    "List\n",
    "----\n",
    "\n",
    "1. List is Collection Of Data Type. It will store Multiple Different Datatype Values can store in single variable\n",
    "2. It will be declare [ ]"
   ]
  },
  {
   "cell_type": "code",
   "execution_count": 1,
   "id": "cf9da2e7-63b4-43fb-a1dd-fe0c64748a15",
   "metadata": {},
   "outputs": [
    {
     "name": "stdout",
     "output_type": "stream",
     "text": [
      "[10, 'Sam', 25, 9500912258, True] <class 'list'>\n"
     ]
    }
   ],
   "source": [
    "a = [10, 'Sam', 25, 9500912258, True]\n",
    "\n",
    "print(a, type(a))"
   ]
  },
  {
   "cell_type": "markdown",
   "id": "de1ce05f-1c42-4310-ac7c-97ab5cd3feb1",
   "metadata": {},
   "source": [
    "Select a value using Indexing\n",
    "-----------------------------"
   ]
  },
  {
   "cell_type": "code",
   "execution_count": 6,
   "id": "e7888418-98ce-4058-851d-753403f21863",
   "metadata": {},
   "outputs": [
    {
     "name": "stdout",
     "output_type": "stream",
     "text": [
      "[10, 'Sam', 25, 9500912258, True, [88, 99, 98]] <class 'list'>\n",
      "---------------------------------------------------\n",
      "Sam <class 'str'>\n",
      "9500912258 <class 'int'>\n",
      "---------------------------------------------------\n",
      "[88, 99, 98] <class 'list'>\n",
      "[88, 99, 98] <class 'list'>\n"
     ]
    }
   ],
   "source": [
    "a = [10, 'Sam', 25, 9500912258, True, [88, 99, 98]] \n",
    "\n",
    "print(a, type(a))\n",
    "\n",
    "print('---------------------------------------------------')\n",
    "\n",
    "print(a[1], type(a[1]))\n",
    "\n",
    "print(a[3], type(a[3]))\n",
    "\n",
    "print('---------------------------------------------------')\n",
    "\n",
    "print(a[5], type(a[5]))\n",
    "\n",
    "print(a[-1], type(a[-1]))"
   ]
  },
  {
   "cell_type": "markdown",
   "id": "d0bcd223-977e-46db-b8f1-7ded747721f8",
   "metadata": {},
   "source": [
    "Example - 1\n",
    "-----------"
   ]
  },
  {
   "cell_type": "code",
   "execution_count": 13,
   "id": "6af89f03-30ac-4d7e-bc99-f57c692786bf",
   "metadata": {
    "scrolled": true
   },
   "outputs": [
    {
     "name": "stdout",
     "output_type": "stream",
     "text": [
      "[10, 'Sam', 25, 9500912258, True, [88, 99, 98]]\n",
      "---------------------------------------------------\n",
      "Student Id :  10\n",
      "Name :  Sam\n",
      "Age :  25\n",
      "Mobile :  9500912258\n",
      "Married :  True\n",
      "Marks :  [88, 99, 98]\n",
      "---------------------------------------------------\n",
      "Mark 01 :  88\n",
      "Mark 02 :  99\n",
      "Mark 03 :  98\n"
     ]
    }
   ],
   "source": [
    "a  = [10, 'Sam', 25, 9500912258, True, [88, 99, 98]] \n",
    "\n",
    "print(a)\n",
    "\n",
    "print('---------------------------------------------------')\n",
    "\n",
    "print('Student Id : ', a[0])\n",
    "\n",
    "print('Name : ', a[1])\n",
    "\n",
    "print('Age : ', a[2])\n",
    "\n",
    "print('Mobile : ', a[3])\n",
    "\n",
    "print('Married : ', a[4])\n",
    "\n",
    "print('Marks : ', a[5])\n",
    "\n",
    "print('---------------------------------------------------')\n",
    "\n",
    "print('Mark 01 : ', a[5] [0])\n",
    "\n",
    "print('Mark 02 : ', a[5] [1])\n",
    "\n",
    "print('Mark 03 : ', a[5] [2])"
   ]
  },
  {
   "cell_type": "markdown",
   "id": "b6e8be0a-d771-439d-8c66-6abb09ea402c",
   "metadata": {},
   "source": [
    "List Slicing\n",
    "------------\n",
    "\n",
    "variableName [starting Index Position : Ending Index Position - 1 ]"
   ]
  },
  {
   "cell_type": "code",
   "execution_count": 20,
   "id": "abea575a-463f-45fd-90be-8b4e8fac16f0",
   "metadata": {},
   "outputs": [
    {
     "name": "stdout",
     "output_type": "stream",
     "text": [
      "[10, 'Sam', 25, 9500912258, True, [88, 99, 98]]\n",
      "---------------------------------------------------\n",
      "[10, 'Sam', 25]\n",
      "[9500912258, True]\n",
      "[True, [88, 99, 98]]\n",
      "[10, 'Sam', 25, 9500912258]\n",
      "[[88, 99, 98], True, 9500912258, 25, 'Sam', 10]\n"
     ]
    }
   ],
   "source": [
    "a  = [10, 'Sam', 25, 9500912258, True, [88, 99, 98]] \n",
    "\n",
    "print(a)\n",
    "\n",
    "print('---------------------------------------------------')\n",
    "\n",
    "print(a[0:3])\n",
    "\n",
    "print(a[3:5])\n",
    "\n",
    "print(a[4:])\n",
    "\n",
    "print(a[:4])\n",
    "\n",
    "print(a[::-1])"
   ]
  },
  {
   "cell_type": "code",
   "execution_count": null,
   "id": "c097a924-a512-4cba-a588-c7a4c5ffe937",
   "metadata": {},
   "outputs": [],
   "source": []
  }
 ],
 "metadata": {
  "kernelspec": {
   "display_name": "Python 3 (ipykernel)",
   "language": "python",
   "name": "python3"
  },
  "language_info": {
   "codemirror_mode": {
    "name": "ipython",
    "version": 3
   },
   "file_extension": ".py",
   "mimetype": "text/x-python",
   "name": "python",
   "nbconvert_exporter": "python",
   "pygments_lexer": "ipython3",
   "version": "3.13.2"
  }
 },
 "nbformat": 4,
 "nbformat_minor": 5
}
