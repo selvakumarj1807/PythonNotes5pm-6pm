{
 "cells": [
  {
   "cell_type": "markdown",
   "id": "a2f646ba-4014-4be3-b819-86370dbc2e5a",
   "metadata": {},
   "source": [
    "String Manipulation:\n",
    "--------------------"
   ]
  },
  {
   "cell_type": "code",
   "execution_count": 1,
   "id": "f44d30f2-672f-4c7b-83b5-d0b2a69b4550",
   "metadata": {},
   "outputs": [
    {
     "name": "stdout",
     "output_type": "stream",
     "text": [
      "Welcome to Python <class 'str'>\n"
     ]
    }
   ],
   "source": [
    "msg = 'Welcome to Python'\n",
    "\n",
    "print(msg, type(msg))"
   ]
  },
  {
   "cell_type": "code",
   "execution_count": 3,
   "id": "a4f6c02f-c7db-44d1-bff0-5b770c653ce2",
   "metadata": {},
   "outputs": [
    {
     "name": "stdout",
     "output_type": "stream",
     "text": [
      "W\n",
      "e\n"
     ]
    }
   ],
   "source": [
    "print(msg[0])\n",
    "\n",
    "print(msg[6])"
   ]
  },
  {
   "cell_type": "code",
   "execution_count": 7,
   "id": "c673db22-3381-416e-9c7a-16e1572f75a1",
   "metadata": {},
   "outputs": [
    {
     "name": "stdout",
     "output_type": "stream",
     "text": [
      "Welcome\n",
      "Python\n",
      "Welcome\n",
      "Python\n"
     ]
    }
   ],
   "source": [
    "# variableName[starting Index Position : Ending Index Position + 1]\n",
    "\n",
    "print(msg[0:7])\n",
    "\n",
    "print(msg[11:17])\n",
    "\n",
    "print(msg[:7])\n",
    "\n",
    "print(msg[11:])"
   ]
  },
  {
   "cell_type": "code",
   "execution_count": 13,
   "id": "ef396433-031b-4a6a-a38d-5a440f7b68bd",
   "metadata": {},
   "outputs": [
    {
     "name": "stdout",
     "output_type": "stream",
     "text": [
      "Welcome to Python <class 'str'>\n",
      "---------------------------------\n",
      "Welcome\n",
      "Welcome\n"
     ]
    }
   ],
   "source": [
    "# Get Values Based on Negative Index Value\n",
    "\n",
    "msg = 'Welcome to Python'\n",
    "\n",
    "print(msg, type(msg))\n",
    "\n",
    "print('---------------------------------')\n",
    "\n",
    "print(msg[0:7])\n",
    "\n",
    "print(msg[-17:-11 + 1])"
   ]
  },
  {
   "cell_type": "code",
   "execution_count": 16,
   "id": "45282743-46f4-4cfb-8698-8ecf89d0c5f4",
   "metadata": {},
   "outputs": [
    {
     "name": "stdout",
     "output_type": "stream",
     "text": [
      "Welcome to Python\n",
      "---------------------------------\n",
      "nohtyP ot emocleW\n"
     ]
    }
   ],
   "source": [
    "msg = 'Welcome to Python'\n",
    "\n",
    "print(msg)\n",
    "\n",
    "print('---------------------------------')\n",
    "\n",
    "print(msg[::-1])"
   ]
  },
  {
   "cell_type": "markdown",
   "id": "81ea7c6b-39a9-49da-82a9-95327fc5b044",
   "metadata": {},
   "source": [
    "String Function\n",
    "---------------"
   ]
  },
  {
   "cell_type": "code",
   "execution_count": 28,
   "id": "08a2222a-07b5-483f-94b4-39201b10fe7b",
   "metadata": {},
   "outputs": [
    {
     "name": "stdout",
     "output_type": "stream",
     "text": [
      "wELcOmE tO pyTHOn\n",
      "---------------------------------\n",
      "WELCOME TO PYTHON\n",
      "welcome to python\n",
      "Welcome to python\n",
      "Welcome To Python\n",
      "---------------------------------\n",
      "3\n",
      "4\n",
      "wELc#mE t# pyTH#n\n",
      "wELcOmE tO Python Full Stack\n",
      "---------------------------------\n",
      "wELcOmE tO Python Full Stack\n"
     ]
    }
   ],
   "source": [
    "msg = 'wELcOmE tO pyTHOn'\n",
    "\n",
    "print(msg)\n",
    "\n",
    "print('---------------------------------')\n",
    "\n",
    "# Basic String Function\n",
    "\n",
    "print(msg.upper())\n",
    "\n",
    "print(msg.lower())\n",
    "\n",
    "print(msg.capitalize())\n",
    "\n",
    "print(msg.title())\n",
    "\n",
    "print('---------------------------------')\n",
    "\n",
    "print(msg.count('O'))\n",
    "\n",
    "print(msg.find('O')) # To Find the Index Position value\n",
    "\n",
    "print(msg.replace('O', '#'))\n",
    "\n",
    "print(msg.replace('pyTHOn', 'Python Full Stack'))\n",
    "\n",
    "print('---------------------------------')\n",
    "\n",
    "Course = msg.replace('pyTHOn', 'Python Full Stack')\n",
    "\n",
    "print(Course)"
   ]
  },
  {
   "cell_type": "code",
   "execution_count": null,
   "id": "33ca06cc-49cd-4fb6-94d9-1a0b0a4a02c1",
   "metadata": {},
   "outputs": [],
   "source": [
    "'''\n",
    "Today Task:\n",
    "-----------\n",
    "\n",
    "Question 01:\n",
    "------------\n",
    "To Write the Python Code for below output:(To Find the Index Positions for give value)\n",
    "\n",
    "Welcome to Python\n",
    "\n",
    "1. o : 4\n",
    "2. o : 9\n",
    "3. o : 15\n",
    "\n",
    "Question 02:\n",
    "------------\n",
    "To Write the Python Code for below output:(Using Replace)\n",
    "\n",
    "wELcOmE tO pyTHOn\n",
    "---------------------------------\n",
    "wELcOmE tO Python Full Stack\n",
    "\n",
    "Course : Python Full Stack\n",
    "\n",
    "'''"
   ]
  }
 ],
 "metadata": {
  "kernelspec": {
   "display_name": "Python 3 (ipykernel)",
   "language": "python",
   "name": "python3"
  },
  "language_info": {
   "codemirror_mode": {
    "name": "ipython",
    "version": 3
   },
   "file_extension": ".py",
   "mimetype": "text/x-python",
   "name": "python",
   "nbconvert_exporter": "python",
   "pygments_lexer": "ipython3",
   "version": "3.13.2"
  }
 },
 "nbformat": 4,
 "nbformat_minor": 5
}
