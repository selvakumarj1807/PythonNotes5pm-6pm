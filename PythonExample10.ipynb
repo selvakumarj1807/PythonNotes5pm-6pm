{
 "cells": [
  {
   "cell_type": "markdown",
   "id": "a2f646ba-4014-4be3-b819-86370dbc2e5a",
   "metadata": {},
   "source": [
    "String Manipulation:\n",
    "--------------------"
   ]
  },
  {
   "cell_type": "code",
   "execution_count": 1,
   "id": "f44d30f2-672f-4c7b-83b5-d0b2a69b4550",
   "metadata": {},
   "outputs": [
    {
     "name": "stdout",
     "output_type": "stream",
     "text": [
      "Welcome to Python <class 'str'>\n"
     ]
    }
   ],
   "source": [
    "msg = 'Welcome to Python'\n",
    "\n",
    "print(msg, type(msg))"
   ]
  },
  {
   "cell_type": "code",
   "execution_count": 3,
   "id": "a4f6c02f-c7db-44d1-bff0-5b770c653ce2",
   "metadata": {},
   "outputs": [
    {
     "name": "stdout",
     "output_type": "stream",
     "text": [
      "W\n",
      "e\n"
     ]
    }
   ],
   "source": [
    "print(msg[0])\n",
    "\n",
    "print(msg[6])"
   ]
  },
  {
   "cell_type": "code",
   "execution_count": 7,
   "id": "c673db22-3381-416e-9c7a-16e1572f75a1",
   "metadata": {},
   "outputs": [
    {
     "name": "stdout",
     "output_type": "stream",
     "text": [
      "Welcome\n",
      "Python\n",
      "Welcome\n",
      "Python\n"
     ]
    }
   ],
   "source": [
    "# variableName[starting Index Position : Ending Index Position + 1]\n",
    "\n",
    "print(msg[0:7])\n",
    "\n",
    "print(msg[11:17])\n",
    "\n",
    "print(msg[:7])\n",
    "\n",
    "print(msg[11:])"
   ]
  },
  {
   "cell_type": "code",
   "execution_count": 13,
   "id": "ef396433-031b-4a6a-a38d-5a440f7b68bd",
   "metadata": {},
   "outputs": [
    {
     "name": "stdout",
     "output_type": "stream",
     "text": [
      "Welcome to Python <class 'str'>\n",
      "---------------------------------\n",
      "Welcome\n",
      "Welcome\n"
     ]
    }
   ],
   "source": [
    "# Get Values Based on Negative Index Value\n",
    "\n",
    "msg = 'Welcome to Python'\n",
    "\n",
    "print(msg, type(msg))\n",
    "\n",
    "print('---------------------------------')\n",
    "\n",
    "print(msg[0:7])\n",
    "\n",
    "print(msg[-17:-11 + 1])"
   ]
  },
  {
   "cell_type": "code",
   "execution_count": 16,
   "id": "45282743-46f4-4cfb-8698-8ecf89d0c5f4",
   "metadata": {},
   "outputs": [
    {
     "name": "stdout",
     "output_type": "stream",
     "text": [
      "Welcome to Python\n",
      "---------------------------------\n",
      "nohtyP ot emocleW\n"
     ]
    }
   ],
   "source": [
    "msg = 'Welcome to Python'\n",
    "\n",
    "print(msg)\n",
    "\n",
    "print('---------------------------------')\n",
    "\n",
    "print(msg[::-1])"
   ]
  },
  {
   "cell_type": "markdown",
   "id": "81ea7c6b-39a9-49da-82a9-95327fc5b044",
   "metadata": {},
   "source": [
    "String Function\n",
    "---------------"
   ]
  },
  {
   "cell_type": "code",
   "execution_count": 28,
   "id": "08a2222a-07b5-483f-94b4-39201b10fe7b",
   "metadata": {},
   "outputs": [
    {
     "name": "stdout",
     "output_type": "stream",
     "text": [
      "wELcOmE tO pyTHOn\n",
      "---------------------------------\n",
      "WELCOME TO PYTHON\n",
      "welcome to python\n",
      "Welcome to python\n",
      "Welcome To Python\n",
      "---------------------------------\n",
      "3\n",
      "4\n",
      "wELc#mE t# pyTH#n\n",
      "wELcOmE tO Python Full Stack\n",
      "---------------------------------\n",
      "wELcOmE tO Python Full Stack\n"
     ]
    }
   ],
   "source": [
    "msg = 'wELcOmE tO pyTHOn'\n",
    "\n",
    "print(msg)\n",
    "\n",
    "print('---------------------------------')\n",
    "\n",
    "# Basic String Function\n",
    "\n",
    "print(msg.upper())\n",
    "\n",
    "print(msg.lower())\n",
    "\n",
    "print(msg.capitalize())\n",
    "\n",
    "print(msg.title())\n",
    "\n",
    "print('---------------------------------')\n",
    "\n",
    "print(msg.count('O'))\n",
    "\n",
    "print(msg.find('O')) # To Find the Index Position value\n",
    "\n",
    "print(msg.replace('O', '#'))\n",
    "\n",
    "print(msg.replace('pyTHOn', 'Python Full Stack'))\n",
    "\n",
    "print('---------------------------------')\n",
    "\n",
    "Course = msg.replace('pyTHOn', 'Python Full Stack')\n",
    "\n",
    "print(Course)"
   ]
  },
  {
   "cell_type": "code",
   "execution_count": null,
   "id": "33ca06cc-49cd-4fb6-94d9-1a0b0a4a02c1",
   "metadata": {},
   "outputs": [],
   "source": [
    "'''\n",
    "Today Task:\n",
    "-----------\n",
    "\n",
    "Question 01:\n",
    "------------\n",
    "To Write the Python Code for below output:(To Find the Index Positions for give value)\n",
    "\n",
    "Welcome to Python\n",
    "\n",
    "1. o : 4\n",
    "2. o : 9\n",
    "3. o : 15\n",
    "\n",
    "Question 02:\n",
    "------------\n",
    "To Write the Python Code for below output:(Using Replace)\n",
    "\n",
    "wELcOmE tO pyTHOn\n",
    "---------------------------------\n",
    "wELcOmE tO Python Full Stack\n",
    "\n",
    "Course : Python Full Stack\n",
    "\n",
    "'''"
   ]
  },
  {
   "cell_type": "markdown",
   "id": "37dc6003-b26d-4a90-8bd7-90504f07b665",
   "metadata": {},
   "source": [
    "String Functions:\n",
    "-----------------"
   ]
  },
  {
   "cell_type": "code",
   "execution_count": 14,
   "id": "af6dc97e-0990-4510-bdcf-4a246b29ea6b",
   "metadata": {},
   "outputs": [
    {
     "name": "stdout",
     "output_type": "stream",
     "text": [
      "js2025 <class 'str'>\n",
      "---------------------------------------------------\n",
      "True\n",
      "False\n",
      "---------------------------------------------------\n",
      "True\n",
      "False\n",
      "---------------------------------------------------\n",
      "False\n",
      "True\n",
      "---------------------------------------------------\n",
      "True\n",
      "False\n"
     ]
    }
   ],
   "source": [
    "var = \"js2025\"\n",
    "\n",
    "print(var, type(var))\n",
    "\n",
    "print('---------------------------------------------------')\n",
    "\n",
    "print(var.endswith(\"25\"))\n",
    "\n",
    "print(var.endswith(\"26\"))\n",
    "\n",
    "print('---------------------------------------------------')\n",
    "\n",
    "print(var.startswith('js'))\n",
    "\n",
    "print(var.startswith('jd'))\n",
    "\n",
    "print('---------------------------------------------------')\n",
    "\n",
    "print(var.isalpha())\n",
    "\n",
    "a = \"HiWelcome\"\n",
    "\n",
    "print(a.isalpha())\n",
    "print('---------------------------------------------------')\n",
    "\n",
    "print(var.isalnum())\n",
    "\n",
    "a = \"@\"\n",
    "\n",
    "print(a.isalnum())"
   ]
  },
  {
   "cell_type": "markdown",
   "id": "e5276980-1fe3-413e-9641-4848889a47d1",
   "metadata": {},
   "source": [
    "Split Function in String Datatype:\n",
    "----------------------------------"
   ]
  },
  {
   "cell_type": "code",
   "execution_count": 19,
   "id": "ba584a93-6234-4b29-a5d4-d0ea7a56e250",
   "metadata": {},
   "outputs": [
    {
     "name": "stdout",
     "output_type": "stream",
     "text": [
      "Sara, Lara, Flora, Meera <class 'str'>\n",
      "---------------------------------------------------\n",
      "['Sara', ' Lara', ' Flora', ' Meera'] <class 'list'>\n",
      "Sara\n",
      "Sara Lara Flora Meera <class 'str'>\n",
      "---------------------------------------------------\n",
      "['Sara', 'Lara', 'Flora', 'Meera'] <class 'list'>\n",
      "Sara\n"
     ]
    }
   ],
   "source": [
    "# Example 01\n",
    "#-----------\n",
    "\n",
    "a = \"Sara, Lara, Flora, Meera\"\n",
    "\n",
    "print(a, type(a))\n",
    "\n",
    "print('---------------------------------------------------')\n",
    "\n",
    "listA = a.split(',')\n",
    "\n",
    "print(listA, type(listA))\n",
    "\n",
    "print(listA[0])\n",
    "\n",
    "\n",
    "\n",
    "# Example 02\n",
    "#-----------\n",
    "\n",
    "b = \"Sara Lara Flora Meera\"\n",
    "\n",
    "print(b, type(b))\n",
    "\n",
    "print('---------------------------------------------------')\n",
    "\n",
    "listB = b.split(' ')\n",
    "\n",
    "print(listB, type(listB))\n",
    "\n",
    "print(listB[0])"
   ]
  },
  {
   "cell_type": "code",
   "execution_count": 20,
   "id": "60123e68-d287-463b-967f-cb529aac1602",
   "metadata": {},
   "outputs": [
    {
     "name": "stdin",
     "output_type": "stream",
     "text": [
      "Enter your student names :  Selva, Sara, Floora, Meera, Thara\n"
     ]
    },
    {
     "name": "stdout",
     "output_type": "stream",
     "text": [
      "Selva, Sara, Floora, Meera, Thara <class 'str'>\n"
     ]
    }
   ],
   "source": [
    "studentNames = input('Enter your student names : ')\n",
    "\n",
    "print(studentNames, type(studentNames))"
   ]
  },
  {
   "cell_type": "code",
   "execution_count": null,
   "id": "bdd0f395-a230-4cbc-b4c8-aeb6ad7f1deb",
   "metadata": {},
   "outputs": [],
   "source": [
    "'''\n",
    "Today Task:\n",
    "----------\n",
    "To write the python code for below output. using Split function\n",
    "\n",
    "Enter your student names :  Selva, Sara, Floora, Meera, Thara\n",
    "Selva, Sara, Floora, Meera, Thara \n",
    "\n",
    "Name 01: Selva\n",
    "Name 02: Sara\n",
    "Name 03: Floora\n",
    "Name 04: Meera\n",
    "Name 05: Thara\n",
    "'''"
   ]
  },
  {
   "cell_type": "markdown",
   "id": "107b8549-f34a-44b1-9562-2f496ac1f00d",
   "metadata": {},
   "source": [
    "Split Lines Function\n",
    "--------------------"
   ]
  },
  {
   "cell_type": "code",
   "execution_count": 23,
   "id": "024a4b43-7e9b-4bc1-8a2d-aaaa8e4ebae9",
   "metadata": {},
   "outputs": [
    {
     "name": "stdout",
     "output_type": "stream",
     "text": [
      "-------------------------------------------------------------------------------------------\n",
      "A paragraph is a distinct section of written text,\n",
      "typically consisting of several sentences,\n",
      "that focuses on a single idea or topic.\n",
      "It is a self-contained unit of discourse,\n",
      "often marked by an indentation at the beginning of the first line,\n",
      "and helps to organize and structure written work by breaking down information into manageable chunks.\n",
      "-------------------------------------------------------------------------------------------\n",
      "<class 'str'>\n",
      "-------------------------------------------------------------------------------------------\n",
      "-------------------------------------------------------------------------------------------\n",
      "A paragraph is a distinct section of written text,\n",
      " typically consisting of several sentences,\n",
      " that focuses on a single idea or topic. It is a self-contained unit of discourse,\n",
      " often marked by an indentation at the beginning of the first line,\n",
      " and helps to organize and structure written work by breaking down information into manageable chunks.\n",
      "-------------------------------------------------------------------------------------------\n",
      "<class 'str'>\n"
     ]
    }
   ],
   "source": [
    "# Example 01\n",
    "#-----------\n",
    "\n",
    "paragraph = '''A paragraph is a distinct section of written text,\n",
    "typically consisting of several sentences,\n",
    "that focuses on a single idea or topic.\n",
    "It is a self-contained unit of discourse,\n",
    "often marked by an indentation at the beginning of the first line,\n",
    "and helps to organize and structure written work by breaking down information into manageable chunks.'''\n",
    "\n",
    "print('-------------------------------------------------------------------------------------------')\n",
    "\n",
    "print(paragraph)\n",
    "\n",
    "print('-------------------------------------------------------------------------------------------')\n",
    "\n",
    "print(type(paragraph))\n",
    "\n",
    "\n",
    "print('-------------------------------------------------------------------------------------------')\n",
    "\n",
    "# Example 02\n",
    "#-----------\n",
    "\n",
    "paragraph = \"A paragraph is a distinct section of written text,\\n typically consisting of several sentences,\\n that focuses on a single idea or topic. It is a self-contained unit of discourse,\\n often marked by an indentation at the beginning of the first line,\\n and helps to organize and structure written work by breaking down information into manageable chunks.\"\n",
    "\n",
    "print('-------------------------------------------------------------------------------------------')\n",
    "\n",
    "print(paragraph)\n",
    "\n",
    "print('-------------------------------------------------------------------------------------------')\n",
    "\n",
    "print(type(paragraph))"
   ]
  },
  {
   "cell_type": "code",
   "execution_count": 26,
   "id": "67fdde20-ca3e-47f2-8fd3-5ce0e07f3f2f",
   "metadata": {},
   "outputs": [
    {
     "name": "stdout",
     "output_type": "stream",
     "text": [
      "-------------------------------------------------------------------------------------------\n",
      "A paragraph is a distinct section of written text,\n",
      "typically consisting of several sentences,\n",
      "that focuses on a single idea or topic.\n",
      "It is a self-contained unit of discourse,\n",
      "often marked by an indentation at the beginning of the first line,\n",
      "and helps to organize and structure written work by breaking down information into manageable chunks.\n",
      "-------------------------------------------------------------------------------------------\n",
      "['A paragraph is a distinct section of written text,', 'typically consisting of several sentences,', 'that focuses on a single idea or topic.', 'It is a self-contained unit of discourse,', 'often marked by an indentation at the beginning of the first line,', 'and helps to organize and structure written work by breaking down information into manageable chunks.'] <class 'list'>\n",
      "-------------------------------------------------------------------------------------------\n",
      "A paragraph is a distinct section of written text,\n"
     ]
    }
   ],
   "source": [
    "paragraph = '''A paragraph is a distinct section of written text,\n",
    "typically consisting of several sentences,\n",
    "that focuses on a single idea or topic.\n",
    "It is a self-contained unit of discourse,\n",
    "often marked by an indentation at the beginning of the first line,\n",
    "and helps to organize and structure written work by breaking down information into manageable chunks.'''\n",
    "\n",
    "print('-------------------------------------------------------------------------------------------')\n",
    "\n",
    "print(paragraph)\n",
    "\n",
    "print('-------------------------------------------------------------------------------------------')\n",
    "\n",
    "ListPara = paragraph.splitlines()\n",
    "\n",
    "print(ListPara,type(ListPara))\n",
    "\n",
    "print('-------------------------------------------------------------------------------------------')\n",
    "\n",
    "print(ListPara[0])"
   ]
  },
  {
   "cell_type": "markdown",
   "id": "75183c1e-e0d2-45a1-8575-0d104a3bd2ad",
   "metadata": {},
   "source": [
    "Join function using List Data type Values\n",
    "-----------------------------------------"
   ]
  },
  {
   "cell_type": "code",
   "execution_count": 30,
   "id": "989a24a3-92da-433e-8597-763edfe23f84",
   "metadata": {},
   "outputs": [
    {
     "name": "stdout",
     "output_type": "stream",
     "text": [
      "['Sara', 'Lara', 'Flora', 'Meera'] <class 'list'>\n",
      "---------------------------------------------------------------------\n",
      "Sara - Lara - Flora - Meera <class 'str'>\n",
      "---------------------------------------------------------------------\n",
      "Sara : Lara : Flora : Meera <class 'str'>\n"
     ]
    }
   ],
   "source": [
    "studentNames = ['Sara', 'Lara', 'Flora', 'Meera']\n",
    "\n",
    "print(studentNames,type(studentNames))\n",
    "\n",
    "print('---------------------------------------------------------------------')\n",
    "\n",
    "joinValue = ' - '.join(studentNames)\n",
    "\n",
    "print(joinValue, type(joinValue))\n",
    "\n",
    "print('---------------------------------------------------------------------')\n",
    "\n",
    "joinValue = ' : '.join(studentNames)\n",
    "\n",
    "print(joinValue, type(joinValue))"
   ]
  },
  {
   "cell_type": "markdown",
   "id": "ac2b3b77-41b8-4768-aac2-d35897783688",
   "metadata": {},
   "source": [
    "Strip Function\n",
    "--------------"
   ]
  },
  {
   "cell_type": "code",
   "execution_count": 5,
   "id": "ecd52fca-6c8f-4766-9c51-7d5dc53b167e",
   "metadata": {},
   "outputs": [
    {
     "name": "stdout",
     "output_type": "stream",
     "text": [
      "   SkillFort admin      \n",
      "24\n",
      "----------------------------------------\n",
      "SkillFort admin      \n",
      "21\n",
      "----------------------------------------\n",
      "   SkillFort admin\n",
      "18\n",
      "----------------------------------------\n",
      "SkillFort admin\n",
      "15\n"
     ]
    }
   ],
   "source": [
    "msg = \"   SkillFort admin      \"\n",
    "\n",
    "print(msg)\n",
    "\n",
    "print(len(msg))\n",
    "\n",
    "print('----------------------------------------')\n",
    "\n",
    "print(msg.lstrip())\n",
    "\n",
    "print(len(msg.lstrip()))\n",
    "\n",
    "print('----------------------------------------')\n",
    "\n",
    "print(msg.rstrip())\n",
    "\n",
    "print(len(msg.rstrip()))\n",
    "\n",
    "print('----------------------------------------')\n",
    "\n",
    "print(msg.strip())\n",
    "\n",
    "print(len(msg.strip()))"
   ]
  },
  {
   "cell_type": "code",
   "execution_count": 7,
   "id": "6b34db2b-ac52-4f35-986a-778a54124dfd",
   "metadata": {},
   "outputs": [
    {
     "name": "stdout",
     "output_type": "stream",
     "text": [
      "*****SkillFort admin******\n",
      "26\n",
      "----------------------------------------\n",
      "SkillFort admin******\n",
      "21\n",
      "----------------------------------------\n",
      "*****SkillFort admin\n",
      "20\n",
      "----------------------------------------\n",
      "SkillFort admin\n",
      "15\n"
     ]
    }
   ],
   "source": [
    "msg = \"*****SkillFort admin******\"\n",
    "\n",
    "print(msg)\n",
    "\n",
    "print(len(msg))\n",
    "\n",
    "print('----------------------------------------')\n",
    "\n",
    "print(msg.lstrip('*'))\n",
    "\n",
    "print(len(msg.lstrip('*')))\n",
    "\n",
    "print('----------------------------------------')\n",
    "\n",
    "print(msg.rstrip('*'))\n",
    "\n",
    "print(len(msg.rstrip('*')))\n",
    "\n",
    "print('----------------------------------------')\n",
    "\n",
    "print(msg.strip('*'))\n",
    "\n",
    "print(len(msg.strip('*')))"
   ]
  },
  {
   "cell_type": "code",
   "execution_count": null,
   "id": "ee017906-ab4d-4b29-8d4e-21c68aad5ecb",
   "metadata": {},
   "outputs": [],
   "source": []
  }
 ],
 "metadata": {
  "kernelspec": {
   "display_name": "Python 3 (ipykernel)",
   "language": "python",
   "name": "python3"
  },
  "language_info": {
   "codemirror_mode": {
    "name": "ipython",
    "version": 3
   },
   "file_extension": ".py",
   "mimetype": "text/x-python",
   "name": "python",
   "nbconvert_exporter": "python",
   "pygments_lexer": "ipython3",
   "version": "3.13.2"
  }
 },
 "nbformat": 4,
 "nbformat_minor": 5
}
