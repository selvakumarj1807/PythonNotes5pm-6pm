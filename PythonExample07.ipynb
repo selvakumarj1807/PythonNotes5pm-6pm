{
 "cells": [
  {
   "cell_type": "markdown",
   "id": "4aad9c50-f874-493d-8111-7bed772e1472",
   "metadata": {},
   "source": [
    "Tuple \n",
    "-----\n",
    "\n",
    "1. Tuple is Collection Of Data Type. It will store Multiple Different Datatype Values can store in single variable\n",
    "2. It will be declare ( )\n",
    "3. Tuple immutable"
   ]
  },
  {
   "cell_type": "code",
   "execution_count": 2,
   "id": "523cce00-1922-4e49-b29a-36906b1d2d7c",
   "metadata": {},
   "outputs": [
    {
     "name": "stdout",
     "output_type": "stream",
     "text": [
      "(21, 32, 33, 12, 42, 12, 1, 3, 14) <class 'tuple'>\n"
     ]
    }
   ],
   "source": [
    "age = (21,32,33,12,42,12,1,3,14,)\n",
    "\n",
    "print(age, type(age))"
   ]
  },
  {
   "cell_type": "markdown",
   "id": "10e3e673-f020-4d18-93a6-f53408058b64",
   "metadata": {},
   "source": [
    "Add values In Tuple Data type using Typecasting method\n",
    "------------------------------------------------------"
   ]
  },
  {
   "cell_type": "code",
   "execution_count": 5,
   "id": "9aac7f39-b2c4-4ece-986f-f20d7e6fe3f7",
   "metadata": {},
   "outputs": [
    {
     "name": "stdout",
     "output_type": "stream",
     "text": [
      "10 <class 'int'>\n",
      "25.5 <class 'float'>\n",
      "---------------------------------------------------------\n",
      "10.0 <class 'float'>\n",
      "25 <class 'int'>\n"
     ]
    }
   ],
   "source": [
    "# Type Casting\n",
    "\n",
    "a = 10\n",
    "\n",
    "b = 25.5\n",
    "\n",
    "print(a, type(a))\n",
    "\n",
    "print(b, type(b))\n",
    "\n",
    "print('---------------------------------------------------------')\n",
    "\n",
    "a = float(a)\n",
    "\n",
    "b = int(b)\n",
    "\n",
    "print(a, type(a))\n",
    "\n",
    "print(b, type(b))"
   ]
  },
  {
   "cell_type": "code",
   "execution_count": 11,
   "id": "9fddeb4d-3b44-4052-8e1d-f6149a53d8a2",
   "metadata": {},
   "outputs": [
    {
     "name": "stdout",
     "output_type": "stream",
     "text": [
      "(21, 32, 33, 12, 42, 12, 1, 3, 14) <class 'tuple'>\n",
      "---------------------------------------------------------\n",
      "[21, 32, 33, 12, 42, 12, 1, 3, 14] <class 'list'>\n",
      "[21, 32, 33, 12, 42, 12, 1, 3, 14, 'Sample Data']\n",
      "---------------------------------------------------------\n",
      "(21, 32, 33, 12, 42, 12, 1, 3, 14, 'Sample Data') <class 'tuple'>\n"
     ]
    }
   ],
   "source": [
    "age = (21,32,33,12,42,12,1,3,14,)\n",
    "\n",
    "print(age, type(age))\n",
    "\n",
    "print('---------------------------------------------------------')\n",
    "\n",
    "age = list(age)\n",
    "\n",
    "print(age, type(age))\n",
    "\n",
    "age.append('Sample Data')\n",
    "age\n",
    "\n",
    "print(age)\n",
    "\n",
    "print('---------------------------------------------------------')\n",
    "\n",
    "age = tuple(age)\n",
    "\n",
    "print(age, type(age))"
   ]
  },
  {
   "cell_type": "markdown",
   "id": "c9745ea1-dfa1-447f-bd2f-f40f25e39873",
   "metadata": {},
   "source": [
    "For Loop in Tuple Data type variable\n",
    "------------------------------------"
   ]
  },
  {
   "cell_type": "code",
   "execution_count": 12,
   "id": "91dc1665-1e46-4411-ba6a-db0c5b98681a",
   "metadata": {},
   "outputs": [
    {
     "name": "stdout",
     "output_type": "stream",
     "text": [
      "(21, 32, 33, 12, 42, 12, 1, 3, 14) <class 'tuple'>\n",
      "---------------------------------------------------------\n",
      "21\n",
      "32\n",
      "33\n",
      "12\n",
      "42\n",
      "12\n",
      "1\n",
      "3\n",
      "14\n"
     ]
    }
   ],
   "source": [
    "age = (21,32,33,12,42,12,1,3,14,)\n",
    "\n",
    "print(age, type(age))\n",
    "\n",
    "print('---------------------------------------------------------')\n",
    "\n",
    "for i in age:\n",
    "    print(i)"
   ]
  },
  {
   "cell_type": "code",
   "execution_count": 15,
   "id": "6a2fe526-8a5e-49c8-8e75-8a00f8d25f41",
   "metadata": {},
   "outputs": [
    {
     "name": "stdout",
     "output_type": "stream",
     "text": [
      "(21, 32, 33, 12, 42, 12, 1, 3, 14) <class 'tuple'>\n",
      "---------------------------------------------------------\n",
      "age is there\n"
     ]
    }
   ],
   "source": [
    "age = (21,32,33,12,42,12,1,3,14,)\n",
    "\n",
    "print(age, type(age))\n",
    "\n",
    "print('---------------------------------------------------------')\n",
    "\n",
    "if 21 in age:\n",
    "    print('age is there')\n",
    "\n",
    "else:\n",
    "    print('No values are there')"
   ]
  },
  {
   "cell_type": "code",
   "execution_count": null,
   "id": "fa3a80c2-afb7-4d66-96ba-f834b9826dcf",
   "metadata": {},
   "outputs": [],
   "source": []
  }
 ],
 "metadata": {
  "kernelspec": {
   "display_name": "Python 3 (ipykernel)",
   "language": "python",
   "name": "python3"
  },
  "language_info": {
   "codemirror_mode": {
    "name": "ipython",
    "version": 3
   },
   "file_extension": ".py",
   "mimetype": "text/x-python",
   "name": "python",
   "nbconvert_exporter": "python",
   "pygments_lexer": "ipython3",
   "version": "3.13.2"
  }
 },
 "nbformat": 4,
 "nbformat_minor": 5
}
