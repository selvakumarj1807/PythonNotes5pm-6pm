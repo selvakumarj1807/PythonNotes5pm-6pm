{
 "cells": [
  {
   "cell_type": "markdown",
   "id": "1fa6d4dd-ddca-4ba2-af66-6684ac0866c5",
   "metadata": {},
   "source": [
    "Dictionary\n",
    "----------\n",
    "\n",
    "1. Dictionary is Collection Of Data Type. It will store Multiple Different Datatype Values can store in single variable\n",
    "2. It will be declare { 'Key': 'values' }\n",
    "3. Dictionary Date type is used for remove duplicate values\n",
    "4. The values cannot store index based type"
   ]
  },
  {
   "cell_type": "code",
   "execution_count": 1,
   "id": "400acf25-d5f6-409e-9240-39f2f16e0d42",
   "metadata": {},
   "outputs": [
    {
     "name": "stdout",
     "output_type": "stream",
     "text": [
      "{'name': 'Sara', 'age': 26} <class 'dict'>\n"
     ]
    }
   ],
   "source": [
    "user = {'name': 'Sara', 'age': 26}\n",
    "\n",
    "print(user, type(user))"
   ]
  },
  {
   "cell_type": "code",
   "execution_count": 3,
   "id": "86d5bb18-b1fe-4a59-8ff9-5b778d9bedfd",
   "metadata": {},
   "outputs": [
    {
     "name": "stdout",
     "output_type": "stream",
     "text": [
      "User Name :  Sara\n"
     ]
    }
   ],
   "source": [
    "print('User Name : ', user['name'])"
   ]
  },
  {
   "cell_type": "code",
   "execution_count": 4,
   "id": "65ccdc9e-e84c-4f3a-a55a-7bd92f2b3b72",
   "metadata": {},
   "outputs": [
    {
     "name": "stdout",
     "output_type": "stream",
     "text": [
      "Sara  your age is  26\n"
     ]
    }
   ],
   "source": [
    "print(user['name'], ' your age is ', user['age'])"
   ]
  },
  {
   "cell_type": "code",
   "execution_count": 10,
   "id": "ba1ab4da-d2a5-4a8c-8210-7c8b8e06b786",
   "metadata": {},
   "outputs": [
    {
     "name": "stdout",
     "output_type": "stream",
     "text": [
      "{'name': 'Sara', 'age': 25, 'gender': 'male'} <class 'dict'>\n",
      "----------------------------------------------------------\n",
      "name  -  Sara\n",
      "age  -  25\n",
      "gender  -  male\n",
      "----------------------------------------------------------\n",
      "dict_keys(['name', 'age', 'gender'])\n",
      "----------------------------------------------------------\n",
      "dict_values(['Sara', 25, 'male'])\n",
      "----------------------------------------------------------\n",
      "dict_items([('name', 'Sara'), ('age', 25), ('gender', 'male')])\n"
     ]
    }
   ],
   "source": [
    "stidentDetails = {'name': 'Sara', 'age': 25, 'gender': 'male'}\n",
    "\n",
    "print(stidentDetails, type(stidentDetails))\n",
    "\n",
    "print('----------------------------------------------------------')\n",
    "\n",
    "for i in stidentDetails:\n",
    "    print(i, ' - ',stidentDetails[i] )\n",
    "\n",
    "print('----------------------------------------------------------')\n",
    "\n",
    "print(stidentDetails.keys())\n",
    "\n",
    "print('----------------------------------------------------------')\n",
    "\n",
    "print(stidentDetails.values())\n",
    "\n",
    "print('----------------------------------------------------------')\n",
    "\n",
    "print(stidentDetails.items())"
   ]
  },
  {
   "cell_type": "markdown",
   "id": "083073bc-115d-4fd5-af11-e03950f260b0",
   "metadata": {},
   "source": [
    "String Manipulation\n",
    "-------------------"
   ]
  },
  {
   "cell_type": "code",
   "execution_count": 16,
   "id": "c65e6c29-7a19-4b32-8179-928ac9429311",
   "metadata": {},
   "outputs": [
    {
     "name": "stdout",
     "output_type": "stream",
     "text": [
      "Welcome to Python <class 'str'>\n",
      "-----------------------------------------------------\n",
      "Welcome\n",
      "Python\n",
      "-----------------------------------------------------\n",
      "nohtyP ot emocleW\n",
      "nohtyP ot emocleW\n"
     ]
    }
   ],
   "source": [
    "msg = 'Welcome to Python'\n",
    "\n",
    "print(msg, type(msg))\n",
    "\n",
    "print('-----------------------------------------------------')\n",
    "\n",
    "print(msg[0:7])\n",
    "\n",
    "print(msg[11:])\n",
    "\n",
    "print('-----------------------------------------------------')\n",
    "\n",
    "print(msg[::-1])\n",
    "\n",
    "var = msg[::-1]\n",
    "\n",
    "print(var)"
   ]
  },
  {
   "cell_type": "code",
   "execution_count": 20,
   "id": "475c2592-4722-4c10-b083-3fb1ea9f7654",
   "metadata": {},
   "outputs": [
    {
     "name": "stdin",
     "output_type": "stream",
     "text": [
      "Enter a Palindrome value :  madam\n"
     ]
    },
    {
     "name": "stdout",
     "output_type": "stream",
     "text": [
      "Given Value :  madam\n",
      "Reverse Value :  madam\n"
     ]
    }
   ],
   "source": [
    "inputValue = input('Enter a Palindrome value : ')\n",
    "\n",
    "print('Given Value : ', inputValue)\n",
    "\n",
    "reverse = inputValue[::-1]\n",
    "\n",
    "print('Reverse Value : ', reverse)"
   ]
  },
  {
   "cell_type": "code",
   "execution_count": null,
   "id": "8988e8bb-d539-4196-ad49-90bc6b8dcbf0",
   "metadata": {},
   "outputs": [],
   "source": []
  }
 ],
 "metadata": {
  "kernelspec": {
   "display_name": "Python 3 (ipykernel)",
   "language": "python",
   "name": "python3"
  },
  "language_info": {
   "codemirror_mode": {
    "name": "ipython",
    "version": 3
   },
   "file_extension": ".py",
   "mimetype": "text/x-python",
   "name": "python",
   "nbconvert_exporter": "python",
   "pygments_lexer": "ipython3",
   "version": "3.13.2"
  }
 },
 "nbformat": 4,
 "nbformat_minor": 5
}
