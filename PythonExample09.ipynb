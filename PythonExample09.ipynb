{
 "cells": [
  {
   "cell_type": "markdown",
   "id": "1fa6d4dd-ddca-4ba2-af66-6684ac0866c5",
   "metadata": {},
   "source": [
    "Dictionary\n",
    "----------\n",
    "\n",
    "1. Dictionary is Collection Of Data Type. It will store Multiple Different Datatype Values can store in single variable\n",
    "2. It will be declare { 'Key': 'values' }\n",
    "3. Dictionary Date type is used for remove duplicate values\n",
    "4. The values cannot store index based type"
   ]
  },
  {
   "cell_type": "code",
   "execution_count": 1,
   "id": "400acf25-d5f6-409e-9240-39f2f16e0d42",
   "metadata": {},
   "outputs": [
    {
     "name": "stdout",
     "output_type": "stream",
     "text": [
      "{'name': 'Dev', 'age': 26} <class 'dict'>\n"
     ]
    }
   ],
   "source": [
    "user = {'name': 'Sara', 'age': 26, 'name': 'Dev'}\n",
    "\n",
    "print(user, type(user))"
   ]
  },
  {
   "cell_type": "code",
   "execution_count": null,
   "id": "86d5bb18-b1fe-4a59-8ff9-5b778d9bedfd",
   "metadata": {},
   "outputs": [],
   "source": []
  }
 ],
 "metadata": {
  "kernelspec": {
   "display_name": "Python 3 (ipykernel)",
   "language": "python",
   "name": "python3"
  },
  "language_info": {
   "codemirror_mode": {
    "name": "ipython",
    "version": 3
   },
   "file_extension": ".py",
   "mimetype": "text/x-python",
   "name": "python",
   "nbconvert_exporter": "python",
   "pygments_lexer": "ipython3",
   "version": "3.13.2"
  }
 },
 "nbformat": 4,
 "nbformat_minor": 5
}
