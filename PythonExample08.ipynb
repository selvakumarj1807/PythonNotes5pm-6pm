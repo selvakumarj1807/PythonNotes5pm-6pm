{
 "cells": [
  {
   "cell_type": "markdown",
   "id": "2487d403-136c-4778-92e5-a145ee2fb5a0",
   "metadata": {},
   "source": [
    "Set\n",
    "---\n",
    "\n",
    "1. Set is Collection Of Data Type. It will store Multiple Different Datatype Values can store in single variable\n",
    "2. It will be declare { }\n",
    "3. Set Date type is used for remove duplicate values\n",
    "4. The values cannot store index based type "
   ]
  },
  {
   "cell_type": "code",
   "execution_count": 1,
   "id": "323132a7-4faf-4d2d-b168-02306c420ccc",
   "metadata": {},
   "outputs": [
    {
     "name": "stdout",
     "output_type": "stream",
     "text": [
      "{32, 18, 20, 23, 25} <class 'set'>\n"
     ]
    }
   ],
   "source": [
    "age = {18, 20, 32, 18, 25, 18, 20, 23, 25, 18}\n",
    "\n",
    "print(age, type(age))"
   ]
  },
  {
   "cell_type": "markdown",
   "id": "6bdf2321-2897-4380-8d4c-612a7280e279",
   "metadata": {},
   "source": [
    "Add the values after variable declaration\n",
    "-----------------------------------------"
   ]
  },
  {
   "cell_type": "code",
   "execution_count": 9,
   "id": "46bba7b6-b5c4-431f-a243-0600a5efc9a4",
   "metadata": {},
   "outputs": [
    {
     "name": "stdout",
     "output_type": "stream",
     "text": [
      "{25, 10, 'Sara'}\n",
      "----------------------------------\n",
      "{25, 10, 'Sara', 'male'}\n"
     ]
    }
   ],
   "source": [
    "studentDetails = {10, 'Sara', 25}\n",
    "\n",
    "print(studentDetails)\n",
    "\n",
    "print('----------------------------------')\n",
    "\n",
    "studentDetails.add('male')\n",
    "\n",
    "print(studentDetails)"
   ]
  },
  {
   "cell_type": "code",
   "execution_count": 12,
   "id": "c4bc61b8-600b-45e0-a112-8b25e4f06b8c",
   "metadata": {},
   "outputs": [
    {
     "name": "stdout",
     "output_type": "stream",
     "text": [
      "{25, 10, 'Sara'}\n",
      "{80, 88, 89, 90, 78}\n",
      "----------------------------------\n",
      "{89, 10, 'Sara', 78, 80, 88, 25, 90}\n"
     ]
    }
   ],
   "source": [
    "\n",
    "# Add Multiple values\n",
    "\n",
    "studentDetails = {10, 'Sara', 25}\n",
    "\n",
    "studentMarkDetails = {80, 89, 88, 90, 78}\n",
    "\n",
    "print(studentDetails)\n",
    "\n",
    "print(studentMarkDetails)\n",
    "\n",
    "print('----------------------------------')\n",
    "\n",
    "studentDetails.update(studentMarkDetails)\n",
    "\n",
    "print(studentDetails)"
   ]
  },
  {
   "cell_type": "markdown",
   "id": "4f600dd5-e252-4ad6-930f-cbd09bce4ec9",
   "metadata": {},
   "source": [
    "Remove the Values:\n",
    "------------------"
   ]
  },
  {
   "cell_type": "code",
   "execution_count": 18,
   "id": "bd4e3344-6325-41aa-9154-b07d3bb7a155",
   "metadata": {},
   "outputs": [
    {
     "name": "stdout",
     "output_type": "stream",
     "text": [
      "{'Female', 25, 10, 'Sara', 'TN'}\n",
      "----------------------------------\n",
      "{'Female', 25, 'Sara', 'TN'}\n",
      "----------------------------------\n",
      "{'Female', 25, 'TN'}\n",
      "----------------------------------\n",
      "Difference between remove() & discard()\n",
      "---------------------------------------\n",
      "{'Female', 25, 10, 'Sara', 'TN'}\n",
      "{'Female', 25, 10, 'Sara', 'TN'}\n"
     ]
    },
    {
     "ename": "KeyError",
     "evalue": "'Chennai'",
     "output_type": "error",
     "traceback": [
      "\u001b[31m---------------------------------------------------------------------------\u001b[39m",
      "\u001b[31mKeyError\u001b[39m                                  Traceback (most recent call last)",
      "\u001b[36mCell\u001b[39m\u001b[36m \u001b[39m\u001b[32mIn[18]\u001b[39m\u001b[32m, line 38\u001b[39m\n\u001b[32m     34\u001b[39m \u001b[38;5;28mprint\u001b[39m(studentDetails)\n\u001b[32m     36\u001b[39m \u001b[38;5;66;03m# Using Remove method\u001b[39;00m\n\u001b[32m---> \u001b[39m\u001b[32m38\u001b[39m \u001b[43mstudentDetails\u001b[49m\u001b[43m.\u001b[49m\u001b[43mremove\u001b[49m\u001b[43m(\u001b[49m\u001b[33;43m'\u001b[39;49m\u001b[33;43mChennai\u001b[39;49m\u001b[33;43m'\u001b[39;49m\u001b[43m)\u001b[49m\n\u001b[32m     40\u001b[39m \u001b[38;5;28mprint\u001b[39m(studentDetails)\n",
      "\u001b[31mKeyError\u001b[39m: 'Chennai'"
     ]
    }
   ],
   "source": [
    "studentDetails = {10, 'Sara', 25, 'Female', 'TN'} \n",
    "\n",
    "print(studentDetails)\n",
    "\n",
    "print('----------------------------------')\n",
    "\n",
    "# Using Remove method\n",
    "\n",
    "studentDetails.remove(10)\n",
    "\n",
    "print(studentDetails)\n",
    "\n",
    "print('----------------------------------')\n",
    "\n",
    "# Using Discard method\n",
    "\n",
    "studentDetails.discard('Sara')\n",
    "\n",
    "print(studentDetails)\n",
    "\n",
    "print('----------------------------------')\n",
    "\n",
    "print('Difference between remove() & discard()')\n",
    "print('---------------------------------------')\n",
    "\n",
    "studentDetails = {10, 'Sara', 25, 'Female', 'TN'} \n",
    "\n",
    "print(studentDetails)\n",
    "\n",
    "# Using Discard method\n",
    "\n",
    "studentDetails.discard('Chennai')\n",
    "\n",
    "print(studentDetails)\n",
    "\n",
    "# Using Remove method\n",
    "\n",
    "studentDetails.remove('Chennai')\n",
    "\n",
    "print(studentDetails)\n"
   ]
  },
  {
   "cell_type": "code",
   "execution_count": null,
   "id": "7c84638e-96f5-4cf0-8046-3313308e0552",
   "metadata": {},
   "outputs": [],
   "source": [
    "'''\n",
    "Self Learn Topics in  Set Data Type\n",
    "-----------------------------------\n",
    "\n",
    "1. union\n",
    "2. union all\n",
    "3. intersect\n",
    "4. symmetric difference\n",
    "\n",
    "'''"
   ]
  }
 ],
 "metadata": {
  "kernelspec": {
   "display_name": "Python 3 (ipykernel)",
   "language": "python",
   "name": "python3"
  },
  "language_info": {
   "codemirror_mode": {
    "name": "ipython",
    "version": 3
   },
   "file_extension": ".py",
   "mimetype": "text/x-python",
   "name": "python",
   "nbconvert_exporter": "python",
   "pygments_lexer": "ipython3",
   "version": "3.13.2"
  }
 },
 "nbformat": 4,
 "nbformat_minor": 5
}
