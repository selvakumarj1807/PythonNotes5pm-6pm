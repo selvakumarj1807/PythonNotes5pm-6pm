{
 "cells": [
  {
   "cell_type": "markdown",
   "id": "05f77722-0dc4-413a-92f2-5a5396e22c2a",
   "metadata": {},
   "source": [
    "Python File Handling:\n",
    "---------------------"
   ]
  },
  {
   "cell_type": "markdown",
   "id": "0aef32e3-5a7d-4ace-a7be-dd25dab2ed1c",
   "metadata": {},
   "source": [
    "# 01. Read():\n",
    "-------------"
   ]
  },
  {
   "cell_type": "code",
   "execution_count": 4,
   "id": "70db4e14-25df-4b12-8435-9c1d039b29d4",
   "metadata": {},
   "outputs": [
    {
     "name": "stdout",
     "output_type": "stream",
     "text": [
      "Hi Welcome File Handling\n"
     ]
    }
   ],
   "source": [
    "try:\n",
    "    fileRead = open('test.txt', 'r')\n",
    "\n",
    "    print(fileRead.read())\n",
    "\n",
    "    fileRead.close()\n",
    "\n",
    "except Exception as e:\n",
    "    print(e)\n",
    "    print('Give a Correct file name')\n"
   ]
  },
  {
   "cell_type": "markdown",
   "id": "52e88a32-7a40-4747-90c8-585b49290c19",
   "metadata": {},
   "source": [
    "# 02. Write():\n",
    "--------------"
   ]
  },
  {
   "cell_type": "code",
   "execution_count": 8,
   "id": "59edc525-b7c6-479f-ae7b-21ca1b140d6a",
   "metadata": {},
   "outputs": [
    {
     "name": "stdout",
     "output_type": "stream",
     "text": [
      "File Handling Write method\n",
      "----------------------------------------\n",
      "----------------------------------------\n",
      "File Handling Write method Second Time\n"
     ]
    }
   ],
   "source": [
    "try:\n",
    "    fileRead = open('test.txt', 'r')\n",
    "\n",
    "    print(fileRead.read())\n",
    "\n",
    "    fileRead.close()\n",
    "\n",
    "    print('----------------------------------------')\n",
    "\n",
    "    fileWrite = open('test.txt', 'w')\n",
    "\n",
    "    fileWrite.write('File Handling Write method Second Time')\n",
    "\n",
    "    fileWrite.close()\n",
    "\n",
    "    print('----------------------------------------')\n",
    "\n",
    "    fileRead = open('test.txt', 'r')\n",
    "\n",
    "    print(fileRead.read())\n",
    "\n",
    "    fileRead.close()\n",
    "\n",
    "except Exception as e:\n",
    "    print(e)\n",
    "    print('Give a Correct file name')\n"
   ]
  },
  {
   "cell_type": "markdown",
   "id": "e11b7927-212e-42b6-a9b5-c6558cb11938",
   "metadata": {},
   "source": [
    "# 03. Append():\n",
    "---------------"
   ]
  },
  {
   "cell_type": "code",
   "execution_count": 9,
   "id": "8ca832b3-ce9f-4cd4-9e12-2e04619a5de1",
   "metadata": {},
   "outputs": [
    {
     "name": "stdout",
     "output_type": "stream",
     "text": [
      "File Handling Write method Second Time\n",
      "----------------------------------------\n",
      "----------------------------------------\n",
      "File Handling Write method Second Time File Handling Append Method\n"
     ]
    }
   ],
   "source": [
    "try:\n",
    "    fileRead = open('test.txt', 'r')\n",
    "\n",
    "    print(fileRead.read())\n",
    "\n",
    "    fileRead.close()\n",
    "\n",
    "    print('----------------------------------------')\n",
    "\n",
    "    fileAppend = open('test.txt', 'a')\n",
    "\n",
    "    fileAppend.write(' File Handling Append Method')\n",
    "\n",
    "    fileAppend.close()\n",
    "\n",
    "    print('----------------------------------------')\n",
    "\n",
    "    fileRead = open('test.txt', 'r')\n",
    "\n",
    "    print(fileRead.read())\n",
    "\n",
    "    fileRead.close()\n",
    "\n",
    "except Exception as e:\n",
    "    print(e)\n",
    "    print('Give a Correct file name')\n"
   ]
  },
  {
   "cell_type": "markdown",
   "id": "5a4914c6-d486-4ec4-82dc-317a14d846bb",
   "metadata": {},
   "source": [
    "# 04. ReadLine, ReadLines:\n",
    "--------------------------"
   ]
  },
  {
   "cell_type": "code",
   "execution_count": 11,
   "id": "c7a5d6e4-f3d5-4254-ad68-1eee06f75406",
   "metadata": {},
   "outputs": [
    {
     "name": "stdout",
     "output_type": "stream",
     "text": [
      "Lorem ipsum dolor sit amet consectetur adipisicing elit. Sunt odio ea consectetur esse laudantium \n",
      "aliquam quibusdam, mollitia delectus nihil? Et sit porro ipsa maxime esse aspernatur provident ut! \n",
      "Illo quas accusamus cumque, dolor blanditiis eum cum reiciendis, placeat architecto,\n",
      "fugiat nihil. Odio ab a odit quidem! Excepturi quibusdam vero veritatis? \n"
     ]
    }
   ],
   "source": [
    "# 01. File read()\n",
    "\n",
    "try:\n",
    "    fileRead = open('paragraph.txt', 'r')\n",
    "\n",
    "    print(fileRead.read())\n",
    "\n",
    "    fileRead.close()\n",
    "\n",
    "except Exception as e:\n",
    "    print(e)\n",
    "    print('Give a Correct file name')\n"
   ]
  },
  {
   "cell_type": "code",
   "execution_count": 15,
   "id": "d8ccd41d-4df6-4794-839c-5381482d2529",
   "metadata": {},
   "outputs": [
    {
     "name": "stdout",
     "output_type": "stream",
     "text": [
      "Lorem ipsum dolor sit amet consectetur adipisicing elit. Sunt odio ea consectetur esse laudantium \n",
      "\n",
      "aliquam qu\n"
     ]
    }
   ],
   "source": [
    "# 02. File readline()\n",
    "\n",
    "try:\n",
    "    fileRead = open('paragraph.txt', 'r')\n",
    "\n",
    "    print(fileRead.readline())\n",
    "\n",
    "    print(fileRead.readline(10))\n",
    "\n",
    "    fileRead.close()\n",
    "\n",
    "except Exception as e:\n",
    "    print(e)\n",
    "    print('Give a Correct file name')\n"
   ]
  },
  {
   "cell_type": "code",
   "execution_count": 19,
   "id": "0801fc8e-da53-4f2e-81d6-8b2db327bd28",
   "metadata": {},
   "outputs": [
    {
     "name": "stdout",
     "output_type": "stream",
     "text": [
      "['Lorem ipsum dolor sit amet consectetur adipisicing elit. Sunt odio ea consectetur esse laudantium \\n', 'aliquam quibusdam, mollitia delectus nihil? Et sit porro ipsa maxime esse aspernatur provident ut! \\n', 'Illo quas accusamus cumque, dolor blanditiis eum cum reiciendis, placeat architecto,\\n', 'fugiat nihil. Odio ab a odit quidem! Excepturi quibusdam vero veritatis? '] <class 'list'>\n",
      "----------------------\n",
      "Illo quas accusamus cumque, dolor blanditiis eum cum reiciendis, placeat architecto,\n",
      "\n"
     ]
    }
   ],
   "source": [
    "# 02. File readlines()\n",
    "\n",
    "try:\n",
    "    fileRead = open('paragraph.txt', 'r')\n",
    "\n",
    "    FileList = fileRead.readlines()\n",
    "\n",
    "    print(FileList, type(FileList))\n",
    "\n",
    "    print('----------------------')\n",
    "\n",
    "    print(FileList[2])\n",
    "\n",
    "    fileRead.close()\n",
    "\n",
    "except Exception as e:\n",
    "    print(e)\n",
    "    print('Give a Correct file name')\n"
   ]
  },
  {
   "cell_type": "markdown",
   "id": "51ae3358-8ca4-4600-9be5-ed550a5b6e1f",
   "metadata": {},
   "source": [
    "Delete the External file:\n",
    "-------------------------"
   ]
  },
  {
   "cell_type": "code",
   "execution_count": 22,
   "id": "53ca0e43-4a20-4d99-b804-af233196bc53",
   "metadata": {},
   "outputs": [
    {
     "name": "stdout",
     "output_type": "stream",
     "text": [
      "False\n"
     ]
    }
   ],
   "source": [
    "import os"
   ]
  },
  {
   "cell_type": "code",
   "execution_count": 25,
   "id": "cfef19f2-b94d-47ec-847c-36e9c542f00d",
   "metadata": {},
   "outputs": [
    {
     "name": "stdout",
     "output_type": "stream",
     "text": [
      "True\n",
      "---------------------------------------------------------------------\n",
      "Yes File Is There\n",
      "exampleRemove.txt File Deleted Successfully\n"
     ]
    }
   ],
   "source": [
    "fileName = 'exampleRemove.txt'\n",
    "\n",
    "print(os.path.exists(fileName))\n",
    "\n",
    "print('---------------------------------------------------------------------')\n",
    "\n",
    "if os.path.exists(fileName):\n",
    "    print('Yes File Is There')\n",
    "    os.remove(fileName)\n",
    "    print(fileName, 'File Deleted Successfully')\n",
    "\n",
    "else:\n",
    "    print('No file is not there')"
   ]
  },
  {
   "cell_type": "code",
   "execution_count": null,
   "id": "17024b08-5e43-49f1-9381-730bbf1c96de",
   "metadata": {},
   "outputs": [],
   "source": []
  }
 ],
 "metadata": {
  "kernelspec": {
   "display_name": "Python 3 (ipykernel)",
   "language": "python",
   "name": "python3"
  },
  "language_info": {
   "codemirror_mode": {
    "name": "ipython",
    "version": 3
   },
   "file_extension": ".py",
   "mimetype": "text/x-python",
   "name": "python",
   "nbconvert_exporter": "python",
   "pygments_lexer": "ipython3",
   "version": "3.13.2"
  }
 },
 "nbformat": 4,
 "nbformat_minor": 5
}
