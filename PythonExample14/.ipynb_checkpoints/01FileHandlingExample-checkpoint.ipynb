{
 "cells": [
  {
   "cell_type": "markdown",
   "id": "05f77722-0dc4-413a-92f2-5a5396e22c2a",
   "metadata": {},
   "source": [
    "Python File Handling:\n",
    "---------------------"
   ]
  },
  {
   "cell_type": "markdown",
   "id": "0aef32e3-5a7d-4ace-a7be-dd25dab2ed1c",
   "metadata": {},
   "source": [
    "# 01. Read():\n",
    "-------------"
   ]
  },
  {
   "cell_type": "code",
   "execution_count": 4,
   "id": "70db4e14-25df-4b12-8435-9c1d039b29d4",
   "metadata": {},
   "outputs": [
    {
     "name": "stdout",
     "output_type": "stream",
     "text": [
      "Hi Welcome File Handling\n"
     ]
    }
   ],
   "source": [
    "try:\n",
    "    fileRead = open('test.txt', 'r')\n",
    "\n",
    "    print(fileRead.read())\n",
    "\n",
    "    fileRead.close()\n",
    "\n",
    "except Exception as e:\n",
    "    print(e)\n",
    "    print('Give a Correct file name')\n"
   ]
  },
  {
   "cell_type": "markdown",
   "id": "52e88a32-7a40-4747-90c8-585b49290c19",
   "metadata": {},
   "source": [
    "# 02. Write():\n",
    "--------------"
   ]
  },
  {
   "cell_type": "code",
   "execution_count": 8,
   "id": "59edc525-b7c6-479f-ae7b-21ca1b140d6a",
   "metadata": {},
   "outputs": [
    {
     "name": "stdout",
     "output_type": "stream",
     "text": [
      "File Handling Write method\n",
      "----------------------------------------\n",
      "----------------------------------------\n",
      "File Handling Write method Second Time\n"
     ]
    }
   ],
   "source": [
    "try:\n",
    "    fileRead = open('test.txt', 'r')\n",
    "\n",
    "    print(fileRead.read())\n",
    "\n",
    "    fileRead.close()\n",
    "\n",
    "    print('----------------------------------------')\n",
    "\n",
    "    fileWrite = open('test.txt', 'w')\n",
    "\n",
    "    fileWrite.write('File Handling Write method Second Time')\n",
    "\n",
    "    fileWrite.close()\n",
    "\n",
    "    print('----------------------------------------')\n",
    "\n",
    "    fileRead = open('test.txt', 'r')\n",
    "\n",
    "    print(fileRead.read())\n",
    "\n",
    "    fileRead.close()\n",
    "\n",
    "except Exception as e:\n",
    "    print(e)\n",
    "    print('Give a Correct file name')\n"
   ]
  },
  {
   "cell_type": "markdown",
   "id": "e11b7927-212e-42b6-a9b5-c6558cb11938",
   "metadata": {},
   "source": [
    "# 03. Append():\n",
    "---------------"
   ]
  },
  {
   "cell_type": "code",
   "execution_count": 9,
   "id": "8ca832b3-ce9f-4cd4-9e12-2e04619a5de1",
   "metadata": {},
   "outputs": [
    {
     "name": "stdout",
     "output_type": "stream",
     "text": [
      "File Handling Write method Second Time\n",
      "----------------------------------------\n",
      "----------------------------------------\n",
      "File Handling Write method Second Time File Handling Append Method\n"
     ]
    }
   ],
   "source": [
    "try:\n",
    "    fileRead = open('test.txt', 'r')\n",
    "\n",
    "    print(fileRead.read())\n",
    "\n",
    "    fileRead.close()\n",
    "\n",
    "    print('----------------------------------------')\n",
    "\n",
    "    fileAppend = open('test.txt', 'a')\n",
    "\n",
    "    fileAppend.write(' File Handling Append Method')\n",
    "\n",
    "    fileAppend.close()\n",
    "\n",
    "    print('----------------------------------------')\n",
    "\n",
    "    fileRead = open('test.txt', 'r')\n",
    "\n",
    "    print(fileRead.read())\n",
    "\n",
    "    fileRead.close()\n",
    "\n",
    "except Exception as e:\n",
    "    print(e)\n",
    "    print('Give a Correct file name')\n"
   ]
  },
  {
   "cell_type": "code",
   "execution_count": null,
   "id": "afe1aaac-7d26-4051-bbf2-b7356527f63f",
   "metadata": {},
   "outputs": [],
   "source": []
  }
 ],
 "metadata": {
  "kernelspec": {
   "display_name": "Python 3 (ipykernel)",
   "language": "python",
   "name": "python3"
  },
  "language_info": {
   "codemirror_mode": {
    "name": "ipython",
    "version": 3
   },
   "file_extension": ".py",
   "mimetype": "text/x-python",
   "name": "python",
   "nbconvert_exporter": "python",
   "pygments_lexer": "ipython3",
   "version": "3.13.2"
  }
 },
 "nbformat": 4,
 "nbformat_minor": 5
}
