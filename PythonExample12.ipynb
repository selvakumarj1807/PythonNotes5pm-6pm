{
 "cells": [
  {
   "cell_type": "markdown",
   "id": "1a33c891-5af3-4a36-8811-71e1eba8bce2",
   "metadata": {},
   "source": [
    "Python Date Time Module:\n",
    "------------------------"
   ]
  },
  {
   "cell_type": "code",
   "execution_count": 4,
   "id": "dcfeb39d-929b-4556-b6f2-bae7e67891fc",
   "metadata": {},
   "outputs": [],
   "source": [
    "import datetime "
   ]
  },
  {
   "cell_type": "code",
   "execution_count": 5,
   "id": "5ca6acf7-bdaa-45a1-89d8-97a7ecaf2b38",
   "metadata": {},
   "outputs": [
    {
     "name": "stdout",
     "output_type": "stream",
     "text": [
      "2025-06-23 <class 'datetime.date'>\n"
     ]
    }
   ],
   "source": [
    "# Example 01:\n",
    "# -----------\n",
    "\n",
    "currentDate = datetime.date.today()\n",
    "\n",
    "print(currentDate, type(currentDate))"
   ]
  },
  {
   "cell_type": "code",
   "execution_count": 9,
   "id": "85d24c55-4bea-45e5-a06d-5e8f9862c9b1",
   "metadata": {},
   "outputs": [
    {
     "name": "stdout",
     "output_type": "stream",
     "text": [
      "2025-06-20 <class 'datetime.date'>\n"
     ]
    }
   ],
   "source": [
    "# Example 02:\n",
    "# -----------\n",
    "\n",
    "customDate = datetime.date(2025, 6, 20)\n",
    "\n",
    "print(customDate, type(customDate))"
   ]
  },
  {
   "cell_type": "code",
   "execution_count": 10,
   "id": "4a56e7bf-4eeb-489f-a2f7-a310d62ac0db",
   "metadata": {},
   "outputs": [
    {
     "name": "stdout",
     "output_type": "stream",
     "text": [
      "2025-06-23 17:23:58.341668 <class 'datetime.datetime'>\n"
     ]
    }
   ],
   "source": [
    "# Example 03:\n",
    "# -----------\n",
    "\n",
    "currentDateTime = datetime.datetime.now()\n",
    "\n",
    "print(currentDateTime, type(currentDateTime))"
   ]
  },
  {
   "cell_type": "code",
   "execution_count": 11,
   "id": "248ab4b0-cc5d-46be-a34a-19beb933bcd8",
   "metadata": {},
   "outputs": [
    {
     "name": "stdout",
     "output_type": "stream",
     "text": [
      "2020-05-15 12:30:40 <class 'datetime.datetime'>\n"
     ]
    }
   ],
   "source": [
    "# Example 04:\n",
    "# -----------\n",
    "\n",
    "customDateTime = datetime.datetime(2020,5,15, 12, 30, 40)\n",
    "\n",
    "print(customDateTime, type(customDateTime))"
   ]
  },
  {
   "cell_type": "markdown",
   "id": "6ede9727-40f2-4390-a6e4-b5864e2f2754",
   "metadata": {},
   "source": [
    "Split the Date & Time from Given Variable:\n",
    "------------------------------------------"
   ]
  },
  {
   "cell_type": "code",
   "execution_count": 14,
   "id": "db5e720d-1544-4e64-91de-5c1b9dcd9fd3",
   "metadata": {},
   "outputs": [
    {
     "name": "stdout",
     "output_type": "stream",
     "text": [
      "2025-06-23 17:30:24.600200\n",
      "--------------------------------------------------------------\n",
      "Current Date :  2025-06-23\n",
      "Current Time :  17:30:24.600200\n"
     ]
    }
   ],
   "source": [
    "# Example 05:\n",
    "# -----------\n",
    "\n",
    "currentDateTime = datetime.datetime.now()\n",
    "\n",
    "print(currentDateTime)\n",
    "\n",
    "print('--------------------------------------------------------------')\n",
    "\n",
    "currentDate = currentDateTime.date()\n",
    "\n",
    "currentTime = currentDateTime.time()\n",
    "\n",
    "print('Current Date : ', currentDate )\n",
    "\n",
    "print('Current Time : ', currentTime)"
   ]
  },
  {
   "cell_type": "markdown",
   "id": "68d54ebc-26c5-420a-bdc7-3173416accd7",
   "metadata": {},
   "source": [
    "Split Day, Month, Year from given variable:\n",
    "-------------------------------------------"
   ]
  },
  {
   "cell_type": "code",
   "execution_count": 16,
   "id": "731d078a-d30e-4078-8457-16cb1ca7b23f",
   "metadata": {},
   "outputs": [
    {
     "name": "stdout",
     "output_type": "stream",
     "text": [
      "2025-06-23 17:39:42.792238\n",
      "--------------------------------------------------------------\n",
      "Current Date :  2025-06-23\n",
      "--------------------------------------------------------------\n",
      "Day :  23\n",
      "Month :  6\n",
      "Year :  2025\n"
     ]
    }
   ],
   "source": [
    "# Example 06:\n",
    "# -----------\n",
    "\n",
    "currentDateTime = datetime.datetime.now()\n",
    "\n",
    "print(currentDateTime)\n",
    "\n",
    "print('--------------------------------------------------------------')\n",
    "\n",
    "currentDate = currentDateTime.date()\n",
    "\n",
    "print('Current Date : ', currentDate )\n",
    "\n",
    "print('--------------------------------------------------------------')\n",
    "\n",
    "print('Day : ', currentDate.day)\n",
    "\n",
    "print('Month : ', currentDate.month)\n",
    "\n",
    "print('Year : ', currentDate.year)"
   ]
  },
  {
   "cell_type": "markdown",
   "id": "0fcb9941-e685-40f4-9e1a-7bf972a78ef3",
   "metadata": {},
   "source": [
    "Split Hour, Minutes, Seconds, Micro Seconds from give variable:\n",
    "---------------------------------------------------------------"
   ]
  },
  {
   "cell_type": "code",
   "execution_count": 18,
   "id": "c7c2aa22-d5dc-4209-b37c-68fa044214b7",
   "metadata": {},
   "outputs": [
    {
     "name": "stdout",
     "output_type": "stream",
     "text": [
      "2025-06-23 17:42:21.023525\n",
      "--------------------------------------------------------------\n",
      "Current Time :  17:42:21.023525\n",
      "--------------------------------------------------------------\n",
      "Hour :  17\n",
      "Minutes :  42\n",
      "Seconds :  21\n",
      "Micro Second :  23525\n"
     ]
    }
   ],
   "source": [
    "# Example 07:\n",
    "# -----------\n",
    "\n",
    "currentDateTime = datetime.datetime.now()\n",
    "\n",
    "print(currentDateTime)\n",
    "\n",
    "print('--------------------------------------------------------------')\n",
    "\n",
    "currentTime = currentDateTime.time()\n",
    "\n",
    "print('Current Time : ', currentTime)\n",
    "\n",
    "print('--------------------------------------------------------------')\n",
    "\n",
    "print('Hour : ', currentTime.hour)\n",
    "\n",
    "print('Minutes : ', currentTime.minute)\n",
    "\n",
    "print('Seconds : ', currentTime.second)\n",
    "\n",
    "print('Micro Second : ', currentTime.microsecond)"
   ]
  },
  {
   "cell_type": "markdown",
   "id": "a5597816-b9cb-46b0-b695-4c3f262bf1bf",
   "metadata": {},
   "source": [
    "Difference between Two Dates:\n",
    "-----------------------------"
   ]
  },
  {
   "cell_type": "code",
   "execution_count": 26,
   "id": "399e80dd-196d-4659-8273-d0c3dda7981b",
   "metadata": {},
   "outputs": [
    {
     "name": "stdout",
     "output_type": "stream",
     "text": [
      "2025-06-23\n",
      "1999-07-18\n",
      "--------------------------------------------------------------\n",
      "Difference between Two Days :  9472 days, 0:00:00\n"
     ]
    }
   ],
   "source": [
    "# Example 08:\n",
    "# -----------\n",
    "\n",
    "currentDate = datetime.date.today()\n",
    "\n",
    "print(currentDate)\n",
    "\n",
    "customDate = datetime.date(1999, 7, 18)\n",
    "\n",
    "print(customDate)\n",
    "\n",
    "print('--------------------------------------------------------------')\n",
    "\n",
    "Diff = currentDate - customDate\n",
    "\n",
    "print('Difference between Two Days : ', Diff)\n",
    "\n"
   ]
  },
  {
   "cell_type": "markdown",
   "id": "e8357ed5-f250-4837-a98a-e1f82ea9f33c",
   "metadata": {},
   "source": [
    "Date Time Format:\n",
    "----------------"
   ]
  },
  {
   "cell_type": "code",
   "execution_count": 30,
   "id": "ee6379e9-e077-4061-82bd-3b40e6af8c5f",
   "metadata": {},
   "outputs": [
    {
     "name": "stdout",
     "output_type": "stream",
     "text": [
      "2025-06-23 17:52:51.426986\n",
      "--------------------------------------------------------------\n",
      "Format 01 :  Monday June 23 2025\n",
      "--------------------------------------------------------------\n",
      "Format 02 :  June : 23 / 2025\n"
     ]
    }
   ],
   "source": [
    "# Example 09:\n",
    "# -----------\n",
    "\n",
    "currentDateTime = datetime.datetime.now()\n",
    "\n",
    "print(currentDateTime)\n",
    "\n",
    "print('--------------------------------------------------------------')\n",
    "\n",
    "format01 = currentDateTime.strftime(\"%A %B %d %Y\")\n",
    "\n",
    "print('Format 01 : ', format01)\n",
    "print('--------------------------------------------------------------')\n",
    "\n",
    "format02 = currentDateTime.strftime(\"%B : %d / %Y\")\n",
    "\n",
    "print('Format 02 : ', format02)\n"
   ]
  },
  {
   "cell_type": "code",
   "execution_count": null,
   "id": "fd2d3931-f359-4d4d-aa95-1914da40ec4b",
   "metadata": {},
   "outputs": [],
   "source": []
  }
 ],
 "metadata": {
  "kernelspec": {
   "display_name": "Python 3 (ipykernel)",
   "language": "python",
   "name": "python3"
  },
  "language_info": {
   "codemirror_mode": {
    "name": "ipython",
    "version": 3
   },
   "file_extension": ".py",
   "mimetype": "text/x-python",
   "name": "python",
   "nbconvert_exporter": "python",
   "pygments_lexer": "ipython3",
   "version": "3.13.2"
  }
 },
 "nbformat": 4,
 "nbformat_minor": 5
}
