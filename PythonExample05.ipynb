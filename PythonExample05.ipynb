{
 "cells": [
  {
   "cell_type": "markdown",
   "id": "a1dc8816-7968-4e7b-9423-2c745e48b7f4",
   "metadata": {},
   "source": [
    "Nested For Loop\n",
    "---------------"
   ]
  },
  {
   "cell_type": "code",
   "execution_count": 3,
   "id": "a176a7a8-ee57-4131-97e4-6823193be1f0",
   "metadata": {},
   "outputs": [
    {
     "name": "stdout",
     "output_type": "stream",
     "text": [
      "1\n",
      "2\n",
      "3\n",
      "4\n",
      "5\n"
     ]
    }
   ],
   "source": [
    "for i in range(1, 6):\n",
    "    print(i)"
   ]
  },
  {
   "cell_type": "code",
   "execution_count": 5,
   "id": "2d92ef15-42f5-4528-840c-5054e6e8c682",
   "metadata": {},
   "outputs": [
    {
     "name": "stdout",
     "output_type": "stream",
     "text": [
      "1 2 3 4 5 "
     ]
    }
   ],
   "source": [
    "for i in range(1, 6):\n",
    "    print(i, end=' ')"
   ]
  },
  {
   "cell_type": "code",
   "execution_count": 8,
   "id": "5805d95a-3bc3-4d83-9e1a-a987db64a94c",
   "metadata": {},
   "outputs": [
    {
     "name": "stdout",
     "output_type": "stream",
     "text": [
      "1 \n",
      "2 2 \n",
      "3 3 3 \n",
      "4 4 4 4 \n",
      "5 5 5 5 5 \n"
     ]
    }
   ],
   "source": [
    "# Nested Loop Example 01 \n",
    "\n",
    "'''\n",
    "Step 01:\n",
    "-------\n",
    "Outer Loop\n",
    "i = 1 True\n",
    "\n",
    "Inner Loop\n",
    "i = 1\n",
    "j = 0 True\n",
    "\n",
    "j = 1 False\n",
    "\n",
    "Output : 1\n",
    "\n",
    "Step 02:\n",
    "--------\n",
    "Outer Loop\n",
    "i = 2 True\n",
    "\n",
    "Inner Loop\n",
    "i = 2\n",
    "j = 0 True\n",
    "\n",
    "j = 1 True\n",
    "\n",
    "j = 2 False\n",
    "\n",
    "Output: 2 2\n",
    " \n",
    "'''\n",
    "\n",
    "for i in range(1, 6):\n",
    "    for j in range(i):\n",
    "        print(i, end=' ')\n",
    "\n",
    "    print('')\n",
    "    "
   ]
  },
  {
   "cell_type": "code",
   "execution_count": 10,
   "id": "cdfbd5fa-b12c-4326-8a50-dccc04990fd5",
   "metadata": {},
   "outputs": [
    {
     "name": "stdout",
     "output_type": "stream",
     "text": [
      "1 \n",
      "1 2 \n",
      "1 2 3 \n",
      "1 2 3 4 \n",
      "1 2 3 4 5 \n"
     ]
    }
   ],
   "source": [
    "# Nested Loop Example 02\n",
    "\n",
    "for i in range(1, 6):\n",
    "    for j in range(1, i+1):\n",
    "        print(j, end=' ')\n",
    "\n",
    "    print('')\n",
    "    "
   ]
  },
  {
   "cell_type": "code",
   "execution_count": 11,
   "id": "c23dfe98-a349-482f-8e76-43ae185534e6",
   "metadata": {},
   "outputs": [
    {
     "name": "stdout",
     "output_type": "stream",
     "text": [
      "* \n",
      "* * \n",
      "* * * \n",
      "* * * * \n",
      "* * * * * \n"
     ]
    }
   ],
   "source": [
    "# Nested Loop Example 03\n",
    "\n",
    "for i in range(1, 6):\n",
    "    for j in range(1, i+1):\n",
    "        print('*', end=' ')\n",
    "\n",
    "    print('')"
   ]
  },
  {
   "cell_type": "code",
   "execution_count": 16,
   "id": "1621fbe1-ecc3-462a-9bee-173b125d21a9",
   "metadata": {},
   "outputs": [
    {
     "name": "stdout",
     "output_type": "stream",
     "text": [
      "A\n",
      "-----------------------------------\n",
      "A \n",
      "B B \n",
      "C C C \n",
      "D D D D \n",
      "E E E E E \n"
     ]
    }
   ],
   "source": [
    "# Nested Loop Example 04\n",
    "\n",
    "print(chr(65))\n",
    "\n",
    "'''\n",
    "A - Z = 65 - 90\n",
    "a - z = 97 - 122 \n",
    "'''\n",
    "\n",
    "print('-----------------------------------')\n",
    "\n",
    "for i in range(65, 70):\n",
    "    for j in range(65, i+1):\n",
    "        print(chr(i), end=' ')\n",
    "\n",
    "    print('')"
   ]
  },
  {
   "cell_type": "code",
   "execution_count": null,
   "id": "2e627be4-0a46-498c-855b-e1b94fc93937",
   "metadata": {},
   "outputs": [],
   "source": [
    "# Today Task\n",
    "'''\n",
    "To Write the Python Code for Below Outputs\n",
    "\n",
    "Output 01:\n",
    "----------\n",
    "a\n",
    "a b\n",
    "a b c\n",
    "a b c d\n",
    "a b c d e\n",
    "\n",
    "Output 02:\n",
    "----------\n",
    "\n",
    "a b c d e\n",
    "a b c d e\n",
    "a b c d e\n",
    "a b c d e\n",
    "a b c d e\n",
    "\n",
    "Output 03:\n",
    "----------\n",
    "\n",
    "5 4 3 2 1\n",
    "5 4 3 2 \n",
    "5 4 3 \n",
    "5 4\n",
    "5\n",
    "\n",
    "Output 04:\n",
    "----------\n",
    "1 2 3 4 5\n",
    "1 2 3 4 \n",
    "1 2 3\n",
    "1 2\n",
    "1\n",
    "'''"
   ]
  }
 ],
 "metadata": {
  "kernelspec": {
   "display_name": "Python 3 (ipykernel)",
   "language": "python",
   "name": "python3"
  },
  "language_info": {
   "codemirror_mode": {
    "name": "ipython",
    "version": 3
   },
   "file_extension": ".py",
   "mimetype": "text/x-python",
   "name": "python",
   "nbconvert_exporter": "python",
   "pygments_lexer": "ipython3",
   "version": "3.13.2"
  }
 },
 "nbformat": 4,
 "nbformat_minor": 5
}
