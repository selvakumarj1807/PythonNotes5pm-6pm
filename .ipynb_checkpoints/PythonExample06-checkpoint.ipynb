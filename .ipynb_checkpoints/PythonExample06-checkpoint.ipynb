{
 "cells": [
  {
   "cell_type": "markdown",
   "id": "5b340b84-3ac9-4a0a-b4a5-8e5624498cd2",
   "metadata": {},
   "source": [
    "List\n",
    "----\n",
    "\n",
    "1. List is Collection Of Data Type. It will store Multiple Different Datatype Values can store in single variable\n",
    "2. It will be declare [ ]"
   ]
  },
  {
   "cell_type": "code",
   "execution_count": 1,
   "id": "cf9da2e7-63b4-43fb-a1dd-fe0c64748a15",
   "metadata": {},
   "outputs": [
    {
     "name": "stdout",
     "output_type": "stream",
     "text": [
      "[10, 'Sam', 25, 9500912258, True] <class 'list'>\n"
     ]
    }
   ],
   "source": [
    "a = [10, 'Sam', 25, 9500912258, True]\n",
    "\n",
    "print(a, type(a))"
   ]
  },
  {
   "cell_type": "markdown",
   "id": "de1ce05f-1c42-4310-ac7c-97ab5cd3feb1",
   "metadata": {},
   "source": [
    "Select a value using Indexing\n",
    "-----------------------------"
   ]
  },
  {
   "cell_type": "code",
   "execution_count": 6,
   "id": "e7888418-98ce-4058-851d-753403f21863",
   "metadata": {},
   "outputs": [
    {
     "name": "stdout",
     "output_type": "stream",
     "text": [
      "[10, 'Sam', 25, 9500912258, True, [88, 99, 98]] <class 'list'>\n",
      "---------------------------------------------------\n",
      "Sam <class 'str'>\n",
      "9500912258 <class 'int'>\n",
      "---------------------------------------------------\n",
      "[88, 99, 98] <class 'list'>\n",
      "[88, 99, 98] <class 'list'>\n"
     ]
    }
   ],
   "source": [
    "a = [10, 'Sam', 25, 9500912258, True, [88, 99, 98]] \n",
    "\n",
    "print(a, type(a))\n",
    "\n",
    "print('---------------------------------------------------')\n",
    "\n",
    "print(a[1], type(a[1]))\n",
    "\n",
    "print(a[3], type(a[3]))\n",
    "\n",
    "print('---------------------------------------------------')\n",
    "\n",
    "print(a[5], type(a[5]))\n",
    "\n",
    "print(a[-1], type(a[-1]))"
   ]
  },
  {
   "cell_type": "markdown",
   "id": "d0bcd223-977e-46db-b8f1-7ded747721f8",
   "metadata": {},
   "source": [
    "Example - 1\n",
    "-----------"
   ]
  },
  {
   "cell_type": "code",
   "execution_count": 13,
   "id": "6af89f03-30ac-4d7e-bc99-f57c692786bf",
   "metadata": {
    "scrolled": true
   },
   "outputs": [
    {
     "name": "stdout",
     "output_type": "stream",
     "text": [
      "[10, 'Sam', 25, 9500912258, True, [88, 99, 98]]\n",
      "---------------------------------------------------\n",
      "Student Id :  10\n",
      "Name :  Sam\n",
      "Age :  25\n",
      "Mobile :  9500912258\n",
      "Married :  True\n",
      "Marks :  [88, 99, 98]\n",
      "---------------------------------------------------\n",
      "Mark 01 :  88\n",
      "Mark 02 :  99\n",
      "Mark 03 :  98\n"
     ]
    }
   ],
   "source": [
    "a  = [10, 'Sam', 25, 9500912258, True, [88, 99, 98]] \n",
    "\n",
    "print(a)\n",
    "\n",
    "print('---------------------------------------------------')\n",
    "\n",
    "print('Student Id : ', a[0])\n",
    "\n",
    "print('Name : ', a[1])\n",
    "\n",
    "print('Age : ', a[2])\n",
    "\n",
    "print('Mobile : ', a[3])\n",
    "\n",
    "print('Married : ', a[4])\n",
    "\n",
    "print('Marks : ', a[5])\n",
    "\n",
    "print('---------------------------------------------------')\n",
    "\n",
    "print('Mark 01 : ', a[5] [0])\n",
    "\n",
    "print('Mark 02 : ', a[5] [1])\n",
    "\n",
    "print('Mark 03 : ', a[5] [2])"
   ]
  },
  {
   "cell_type": "markdown",
   "id": "b6e8be0a-d771-439d-8c66-6abb09ea402c",
   "metadata": {},
   "source": [
    "List Slicing\n",
    "------------\n",
    "\n",
    "variableName [starting Index Position : Ending Index Position - 1 ]"
   ]
  },
  {
   "cell_type": "code",
   "execution_count": 20,
   "id": "abea575a-463f-45fd-90be-8b4e8fac16f0",
   "metadata": {},
   "outputs": [
    {
     "name": "stdout",
     "output_type": "stream",
     "text": [
      "[10, 'Sam', 25, 9500912258, True, [88, 99, 98]]\n",
      "---------------------------------------------------\n",
      "[10, 'Sam', 25]\n",
      "[9500912258, True]\n",
      "[True, [88, 99, 98]]\n",
      "[10, 'Sam', 25, 9500912258]\n",
      "[[88, 99, 98], True, 9500912258, 25, 'Sam', 10]\n"
     ]
    }
   ],
   "source": [
    "a  = [10, 'Sam', 25, 9500912258, True, [88, 99, 98]] \n",
    "\n",
    "print(a)\n",
    "\n",
    "print('---------------------------------------------------')\n",
    "\n",
    "print(a[0:3])\n",
    "\n",
    "print(a[3:5])\n",
    "\n",
    "print(a[4:])\n",
    "\n",
    "print(a[:4])\n",
    "\n",
    "print(a[::-1])"
   ]
  },
  {
   "cell_type": "markdown",
   "id": "ccbcc174-4c2c-4310-a88b-c447e325cfba",
   "metadata": {},
   "source": [
    "List Functions:\n",
    "---------------"
   ]
  },
  {
   "cell_type": "code",
   "execution_count": 2,
   "id": "e319b5e1-6a7a-44f8-9242-b35b18732194",
   "metadata": {},
   "outputs": [
    {
     "name": "stdout",
     "output_type": "stream",
     "text": [
      "[18, 15, 20, 25, 22, 10, 25, 20, 22, 25] <class 'list'>\n"
     ]
    }
   ],
   "source": [
    "age = [18, 15, 20, 25, 22, 10, 25, 20, 22, 25]\n",
    "\n",
    "print(age, type(age))"
   ]
  },
  {
   "cell_type": "code",
   "execution_count": 7,
   "id": "b5bdcb0c-2272-46be-89e6-d73635c7bb0e",
   "metadata": {},
   "outputs": [
    {
     "name": "stdout",
     "output_type": "stream",
     "text": [
      "Count :  3\n",
      "Find Index Position :  3\n",
      "To Find Length of Variable values :  10\n",
      "To Find Maximum value of the Variable values :  25\n",
      "To Find Minimum value of the Variable values :  10\n",
      "To Find sum value of the Variable values :  202\n"
     ]
    }
   ],
   "source": [
    "print('Count : ', age.count(25))\n",
    "\n",
    "print('Find Index Position : ', age.index(25))\n",
    "\n",
    "print('To Find Length of Variable values : ', len(age))\n",
    "\n",
    "print('To Find Maximum value of the Variable values : ', max(age))\n",
    "\n",
    "print('To Find Minimum value of the Variable values : ', min(age))\n",
    "\n",
    "print('To Find sum value of the Variable values : ', sum(age))\n"
   ]
  },
  {
   "cell_type": "markdown",
   "id": "7652baa5-3aea-42fa-a475-da2766db045c",
   "metadata": {},
   "source": [
    "# Values remove from the given list\n",
    "-----------------------------------"
   ]
  },
  {
   "cell_type": "code",
   "execution_count": 10,
   "id": "19729e32-3604-4f9e-87df-f55a93f43637",
   "metadata": {},
   "outputs": [
    {
     "name": "stdout",
     "output_type": "stream",
     "text": [
      "[18, 15, 20, 25, 22, 10, 25, 20, 22, 25] <class 'list'>\n",
      "------------------------------------------------------------\n",
      "[18, 15, 20, 25, 22, 10, 25, 20, 22]\n",
      "------------------------------------------------------------\n",
      "[18, 20, 25, 22, 10, 25, 20, 22]\n",
      "------------------------------------------------------------\n",
      "[18, 20, 22, 10, 25, 20, 22]\n"
     ]
    }
   ],
   "source": [
    "# Values remove from the given list\n",
    "\n",
    "age = [18, 15, 20, 25, 22, 10, 25, 20, 22, 25]\n",
    "\n",
    "print(age, type(age))\n",
    "\n",
    "print('------------------------------------------------------------')\n",
    "\n",
    "age.pop() # To remove last index value\n",
    "\n",
    "print(age)\n",
    "\n",
    "print('------------------------------------------------------------')\n",
    "\n",
    "age.pop(1) # To remove selected index value\n",
    "\n",
    "print(age)\n",
    "\n",
    "print('------------------------------------------------------------')\n",
    "\n",
    "age.remove(25) # To remove selected value\n",
    "\n",
    "print(age)"
   ]
  },
  {
   "cell_type": "markdown",
   "id": "bb30ca9f-369d-4d68-ba21-bca3e695571e",
   "metadata": {},
   "source": [
    "# Values add from after list variable declaration\n",
    "-------------------------------------------------"
   ]
  },
  {
   "cell_type": "code",
   "execution_count": 15,
   "id": "e9f6844b-9c59-4e90-8194-ae277201ae5e",
   "metadata": {},
   "outputs": [
    {
     "name": "stdout",
     "output_type": "stream",
     "text": [
      "[10, 'Sara', 25]\n",
      "------------------------------------------\n",
      "[10, 'Sara', 25, 9500912258, 'sara@gmail.com']\n",
      "------------------------------------------\n",
      "[10, 'Sara', 25, 9500912258, 'sara@gmail.com', 'SIB0001', 'Sara Dev']\n"
     ]
    }
   ],
   "source": [
    "studentDetails = [10, 'Sara', 25]\n",
    "\n",
    "print(studentDetails)\n",
    "\n",
    "print('------------------------------------------')\n",
    "\n",
    "# Use append method\n",
    "\n",
    "studentDetails.append(9500912258)\n",
    "\n",
    "studentDetails.append('sara@gmail.com')\n",
    "\n",
    "print(studentDetails)\n",
    "\n",
    "print('------------------------------------------')\n",
    "\n",
    "studentBankDetails = ['SIB0001', 'Sara Dev']\n",
    "\n",
    "# Use Extend method\n",
    "\n",
    "studentDetails.extend(studentBankDetails)\n",
    "\n",
    "print(studentDetails)\n"
   ]
  },
  {
   "cell_type": "markdown",
   "id": "c7c4af38-42df-4cbe-ace8-e758768c3b11",
   "metadata": {},
   "source": [
    "# Sorting (Ascending or descending)\n",
    "-----------------------------------"
   ]
  },
  {
   "cell_type": "code",
   "execution_count": 18,
   "id": "92806733-533c-4c0a-a188-ad9d82a5e0be",
   "metadata": {},
   "outputs": [
    {
     "name": "stdout",
     "output_type": "stream",
     "text": [
      "[18, 15, 20, 25, 22, 10, 25, 20, 22, 25] <class 'list'>\n",
      "------------------------------------------------------\n",
      "[10, 15, 18, 20, 20, 22, 22, 25, 25, 25]\n",
      "------------------------------------------------------\n",
      "[25, 25, 25, 22, 22, 20, 20, 18, 15, 10]\n"
     ]
    }
   ],
   "source": [
    "age = [18, 15, 20, 25, 22, 10, 25, 20, 22, 25]\n",
    "\n",
    "print(age, type(age))\n",
    "\n",
    "print('------------------------------------------------------')\n",
    "\n",
    "age.sort()\n",
    "\n",
    "print(age)\n",
    "\n",
    "print('------------------------------------------------------')\n",
    "\n",
    "age.sort(reverse=True)\n",
    "\n",
    "print(age)"
   ]
  },
  {
   "cell_type": "code",
   "execution_count": null,
   "id": "461851d5-c161-4e36-a367-b56b817980c9",
   "metadata": {},
   "outputs": [],
   "source": []
  }
 ],
 "metadata": {
  "kernelspec": {
   "display_name": "Python 3 (ipykernel)",
   "language": "python",
   "name": "python3"
  },
  "language_info": {
   "codemirror_mode": {
    "name": "ipython",
    "version": 3
   },
   "file_extension": ".py",
   "mimetype": "text/x-python",
   "name": "python",
   "nbconvert_exporter": "python",
   "pygments_lexer": "ipython3",
   "version": "3.13.2"
  }
 },
 "nbformat": 4,
 "nbformat_minor": 5
}
