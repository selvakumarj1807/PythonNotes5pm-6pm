{
 "cells": [
  {
   "cell_type": "markdown",
   "id": "7891e9d7-1b25-4af0-8ef1-bb192955cc83",
   "metadata": {},
   "source": [
    "Python Operators:\n",
    "-----------------\n",
    "\n",
    "1. Arithmatic Operators\n",
    "2. Arithmatic Assignment Operators\n",
    "3. Relational or Comparision Operators\n",
    "4. Logical Operators\n",
    "5. In & Not In\n",
    "6. Is & Is Not\n",
    "7. Bitwise Operators "
   ]
  },
  {
   "cell_type": "markdown",
   "id": "1b960fde-86be-44b0-bde6-5f5a4ee6b584",
   "metadata": {},
   "source": [
    "# 1. Arithmatic Operators :\n",
    "---------------------------\n",
    "1. Addition(+)\n",
    "2. Subtration(-)\n",
    "3. Multiplication(*)\n",
    "4. Division(/)\n",
    "5. Floor Division(//)\n",
    "6. Exponentiation(**)\n",
    "7. modulas(%)"
   ]
  },
  {
   "cell_type": "code",
   "execution_count": 7,
   "id": "6594e60b-d951-48e1-b52b-55d9ef3ca54c",
   "metadata": {},
   "outputs": [
    {
     "name": "stdout",
     "output_type": "stream",
     "text": [
      "Addition(+) :  12\n",
      "Subtration(-) :  8\n",
      "Multiplication(*) :  20\n",
      "Division(/) :  5.0\n",
      "Floor Division(//) :  5\n",
      "Exponentiation(**) :  100\n",
      "Modulas(%) :  1\n",
      "Division(/) :  3.5\n"
     ]
    }
   ],
   "source": [
    "print('Addition(+) : ',10 + 2 )\n",
    "\n",
    "print('Subtration(-) : ',10 - 2 )\n",
    "\n",
    "print('Multiplication(*) : ',10 * 2 )\n",
    "\n",
    "print('Division(/) : ',10 / 2 )\n",
    "\n",
    "print('Floor Division(//) : ',10 // 2 )\n",
    "\n",
    "print('Exponentiation(**) : ',10 ** 2 ) # 10 * 10 = 100\n",
    "\n",
    "print('Modulas(%) : ', 7 % 2) # return remainder value\n",
    "\n",
    "print('Division(/) : ',7 / 2 ) # return qutiont value\n"
   ]
  },
  {
   "cell_type": "markdown",
   "id": "62c3f7c5-70e0-4e83-bf44-b29eccd859a7",
   "metadata": {},
   "source": [
    "# 2. Arithmatic Assignment Operators\n",
    "------------------------------------"
   ]
  },
  {
   "cell_type": "code",
   "execution_count": 16,
   "id": "104c6a09-2ac8-4810-9fc0-79c0f5894d88",
   "metadata": {},
   "outputs": [
    {
     "name": "stdout",
     "output_type": "stream",
     "text": [
      "Assignment Operators(=) :  10\n",
      "Arithmatic Assignment Operators (+=) :  11\n",
      "Arithmatic Assignment Operators (-=) :  9\n",
      "Arithmatic Assignment Operators (*=) :  20\n",
      "Arithmatic Assignment Operators (/=) :  5.0\n",
      "Arithmatic Assignment Operators (//=) :  10\n",
      "Arithmatic Assignment Operators (**=) :  100\n",
      "Arithmatic Assignment Operators (%=) :  0\n"
     ]
    }
   ],
   "source": [
    "# Assignment Operators :\n",
    "\n",
    "a = 10\n",
    "\n",
    "print('Assignment Operators(=) : ', a)\n",
    "\n",
    "# Arithmatic Assignment Operators\n",
    "\n",
    "a = 10\n",
    "a += 1 # a = a + 1 = a = 10 + 1\n",
    "print('Arithmatic Assignment Operators (+=) : ', a)\n",
    "\n",
    "a = 10\n",
    "a -= 1 # a = a - 1 = a = 10 - 1\n",
    "print('Arithmatic Assignment Operators (-=) : ', a)\n",
    "\n",
    "a = 10\n",
    "a *= 2 # a = a * 2 = a = 10 * 2\n",
    "print('Arithmatic Assignment Operators (*=) : ', a)\n",
    "\n",
    "a = 10\n",
    "a /= 2 # a = a / 2 = a = 10 / 2\n",
    "print('Arithmatic Assignment Operators (/=) : ', a)\n",
    "\n",
    "a = 10\n",
    "a //= 1 \n",
    "print('Arithmatic Assignment Operators (//=) : ', a)\n",
    "\n",
    "a = 10\n",
    "a **= 2\n",
    "print('Arithmatic Assignment Operators (**=) : ', a)\n",
    "\n",
    "a = 10\n",
    "a %= 2 # a = a % 2 = a = 10 * 2\n",
    "print('Arithmatic Assignment Operators (%=) : ', a)"
   ]
  },
  {
   "cell_type": "markdown",
   "id": "3c57569e-afb8-4350-86de-7a23c3e31746",
   "metadata": {},
   "source": [
    "# 3. Relational or Comparision Operators\n",
    "----------------------------------------\n",
    "\n",
    "1. Equal(==)\n",
    "2. NotEqual(!=)\n",
    "3. Greterthan(>)\n",
    "4. Lessthan(<)\n",
    "5. Greterthan or Equal(>=)\n",
    "6. Lessthan or Equal(<=)"
   ]
  },
  {
   "cell_type": "code",
   "execution_count": 20,
   "id": "cd8775e0-f3a6-47d5-a753-561ce3545e4b",
   "metadata": {},
   "outputs": [
    {
     "name": "stdout",
     "output_type": "stream",
     "text": [
      "Equal(==) :  False\n",
      "NotEqual(!=) :  True\n",
      "Greterthan(>) :  True\n",
      "Lessthan(<) :  False\n",
      "Greterthan or Equal(>=) :  True\n",
      "Lessthan or Equal(<=) :  False\n"
     ]
    }
   ],
   "source": [
    "\n",
    "age = 20\n",
    "\n",
    "print('Equal(==) : ', age == 18)\n",
    "\n",
    "print('NotEqual(!=) : ', age != 18)\n",
    "\n",
    "print('Greterthan(>) : ', age > 18)\n",
    "\n",
    "print('Lessthan(<) : ', age < 18)\n",
    "\n",
    "print('Greterthan or Equal(>=) : ', age >= 18)\n",
    "\n",
    "print('Lessthan or Equal(<=) : ', age <= 18)"
   ]
  },
  {
   "cell_type": "markdown",
   "id": "71c3630e-83b4-4e83-ae03-afe1d5bbc469",
   "metadata": {},
   "source": [
    "Python Input:\n",
    "-------------"
   ]
  },
  {
   "cell_type": "code",
   "execution_count": 31,
   "id": "f3505c41-0e05-4751-92cc-2b6fa6d8a19c",
   "metadata": {},
   "outputs": [
    {
     "name": "stdin",
     "output_type": "stream",
     "text": [
      "Enter your name :  admin\n"
     ]
    },
    {
     "name": "stdout",
     "output_type": "stream",
     "text": [
      "admin <class 'str'>\n"
     ]
    },
    {
     "name": "stdin",
     "output_type": "stream",
     "text": [
      "Enter your age :  22\n"
     ]
    },
    {
     "name": "stdout",
     "output_type": "stream",
     "text": [
      "22 <class 'int'>\n",
      "2003\n",
      "----------------------------------------------\n",
      "admin  your age is  22  and your Birth year is  2003\n"
     ]
    }
   ],
   "source": [
    "name = input('Enter your name : ')\n",
    "\n",
    "print(name, type(name))\n",
    "\n",
    "age = int(input('Enter your age : '))\n",
    "\n",
    "print(age, type(age))\n",
    "\n",
    "birthYear = 2025 - age\n",
    "\n",
    "print(birthYear)\n",
    "\n",
    "print('----------------------------------------------')\n",
    "\n",
    "print(name, ' your age is ', age, ' and your Birth year is ', birthYear)"
   ]
  },
  {
   "cell_type": "code",
   "execution_count": null,
   "id": "31dcad1c-60d3-4c42-a136-1d814223b73a",
   "metadata": {},
   "outputs": [],
   "source": [
    "'''\n",
    "ToDay Task:\n",
    "-----------\n",
    "\n",
    "To Write the python code for below Output.\n",
    "\n",
    "Output:\n",
    "-------\n",
    "\n",
    "Enter a Value 01 : 20\n",
    "\n",
    "Enter a Value 02 : 10\n",
    "\n",
    "20 + 10 = 30\n",
    "20 - 10 = 10\n",
    "'''"
   ]
  },
  {
   "cell_type": "markdown",
   "id": "83f5a7db-a45a-431b-b7a0-1cbf5ebb7edb",
   "metadata": {},
   "source": [
    "If \n",
    "--"
   ]
  },
  {
   "cell_type": "code",
   "execution_count": 3,
   "id": "167ef552-4bb0-40cb-98fd-3b3bbfc3b63c",
   "metadata": {},
   "outputs": [
    {
     "name": "stdout",
     "output_type": "stream",
     "text": [
      "True\n",
      "------------------------------------------------\n",
      "20  Eligible for vote\n"
     ]
    }
   ],
   "source": [
    "age = 20\n",
    "\n",
    "print(age >= 18)\n",
    "\n",
    "print('------------------------------------------------')\n",
    "\n",
    "if age >= 18:\n",
    "    print(age, ' Eligible for vote')"
   ]
  },
  {
   "cell_type": "markdown",
   "id": "37cba61d-2cb8-44aa-8106-f059bb7e164f",
   "metadata": {},
   "source": [
    "If Else\n",
    "-------"
   ]
  },
  {
   "cell_type": "code",
   "execution_count": 5,
   "id": "34699ad6-dd88-4a51-a02f-7bd420895177",
   "metadata": {},
   "outputs": [
    {
     "name": "stdout",
     "output_type": "stream",
     "text": [
      "False\n",
      "------------------------------------------------\n",
      "10  Not Eligible for vote\n"
     ]
    }
   ],
   "source": [
    "age = 10\n",
    "\n",
    "print(age >= 18)\n",
    "\n",
    "print('------------------------------------------------')\n",
    "\n",
    "if age >= 18:\n",
    "    print(age, ' Eligible for vote')\n",
    "\n",
    "else:\n",
    "    print(age, ' Not Eligible for vote')"
   ]
  },
  {
   "cell_type": "markdown",
   "id": "6b675600-642f-4605-98b0-763d037786d1",
   "metadata": {},
   "source": [
    "If Elif Else\n",
    "------------"
   ]
  },
  {
   "cell_type": "code",
   "execution_count": 14,
   "id": "7cef1ead-d233-4c24-8819-e8011b90cf7d",
   "metadata": {},
   "outputs": [
    {
     "name": "stdin",
     "output_type": "stream",
     "text": [
      "Enter Your age :  8\n"
     ]
    },
    {
     "name": "stdout",
     "output_type": "stream",
     "text": [
      "False\n",
      "False\n",
      "False\n",
      "------------------------------------------------\n",
      "8  Not Eligible for vote\n"
     ]
    }
   ],
   "source": [
    "age = int(input('Enter Your age : '))\n",
    "\n",
    "print(age > 18)\n",
    "print(age == 18)\n",
    "print(age == 17)\n",
    "\n",
    "print('------------------------------------------------')\n",
    "\n",
    "if age > 18:\n",
    "    print(age, ' Eligible for vote')\n",
    "\n",
    "elif age == 18:\n",
    "    print(age, ' Now your are 18+')\n",
    "\n",
    "elif age == 17:\n",
    "    print(age, ' Wait One Year to have 18+')\n",
    "    \n",
    "else:\n",
    "    print(age, ' Not Eligible for vote')"
   ]
  },
  {
   "cell_type": "markdown",
   "id": "3b2b47c0-5864-49bd-bf21-4ba836641273",
   "metadata": {},
   "source": [
    "# 4. Logical Operators\n",
    "----------------------\n",
    "\n",
    "1. and\n",
    "2. or\n",
    "3. not"
   ]
  },
  {
   "cell_type": "code",
   "execution_count": 18,
   "id": "9263b3fe-53a3-4117-b0d9-efa303a55810",
   "metadata": {},
   "outputs": [
    {
     "name": "stdout",
     "output_type": "stream",
     "text": [
      "False\n",
      "True\n",
      "---------------------------------------------\n",
      "False\n"
     ]
    }
   ],
   "source": [
    "# and Operators\n",
    "\n",
    "'''\n",
    "True - True = True\n",
    "True - False = False\n",
    "False - True = False\n",
    "False - False = False\n",
    "'''\n",
    "\n",
    "name = 'Dev'\n",
    "\n",
    "age = 22\n",
    "\n",
    "print((name == 'Developer'))\n",
    "print((age == 22))\n",
    "\n",
    "print('---------------------------------------------')\n",
    "\n",
    "print((name == 'Developer') and (age == 21))"
   ]
  },
  {
   "cell_type": "code",
   "execution_count": 20,
   "id": "381ff174-f68f-4110-aee4-e28da5ec327f",
   "metadata": {},
   "outputs": [
    {
     "name": "stdout",
     "output_type": "stream",
     "text": [
      "False\n",
      "True\n",
      "---------------------------------------------\n",
      "True\n"
     ]
    }
   ],
   "source": [
    "# or Operators\n",
    "\n",
    "'''\n",
    "True - True = True\n",
    "True - False = True\n",
    "False - True = True\n",
    "False - False = False\n",
    "'''\n",
    "\n",
    "name = 'Dev'\n",
    "\n",
    "age = 22\n",
    "\n",
    "print((name == 'Developer'))\n",
    "print((age == 22))\n",
    "\n",
    "print('---------------------------------------------')\n",
    "\n",
    "print((name == 'Developer') or (age == 22))"
   ]
  },
  {
   "cell_type": "code",
   "execution_count": 23,
   "id": "ea235bf8-8ee3-4e13-8d99-a0e76e34ab53",
   "metadata": {},
   "outputs": [
    {
     "name": "stdout",
     "output_type": "stream",
     "text": [
      "False\n",
      "True\n",
      "---------------------------------------------\n",
      "True\n",
      "---------------------------------------------\n",
      "False\n"
     ]
    }
   ],
   "source": [
    "# not Operators\n",
    "\n",
    "'''\n",
    "True = False\n",
    "False = True\n",
    "'''\n",
    "\n",
    "name = 'Dev'\n",
    "\n",
    "age = 22\n",
    "\n",
    "print((name == 'Developer'))\n",
    "print((age == 22))\n",
    "\n",
    "print('---------------------------------------------')\n",
    "\n",
    "print((name == 'Developer') or (age == 22))\n",
    "\n",
    "print('---------------------------------------------')\n",
    "\n",
    "print(not((name == 'Developer') or (age == 22)))"
   ]
  },
  {
   "cell_type": "markdown",
   "id": "b1d4ca8d-a9f4-4124-b506-1a2835c28bea",
   "metadata": {},
   "source": [
    "# 5. In & Not In Operators\n",
    "--------------------------"
   ]
  },
  {
   "cell_type": "code",
   "execution_count": 30,
   "id": "382ef095-73ff-4c1a-89cc-e43bb1f9706a",
   "metadata": {},
   "outputs": [
    {
     "name": "stdout",
     "output_type": "stream",
     "text": [
      "['Dev', 22, 'Male', 'TN'] <class 'list'>\n",
      "-------------------------------------------------\n",
      "True\n",
      "False\n",
      "-----------------------------------------------------------------------------\n",
      "False\n",
      "True\n"
     ]
    }
   ],
   "source": [
    "details = ['Dev', 22, 'Male', 'TN']\n",
    "\n",
    "print(details, type(details))\n",
    "\n",
    "print('-------------------------------------------------')\n",
    "\n",
    "# In Operators\n",
    "\n",
    "print('Dev' in details)\n",
    "\n",
    "print('Developer' in details)\n",
    "\n",
    "print('-----------------------------------------------------------------------------')\n",
    "\n",
    "# Not In Operators\n",
    "\n",
    "print('Dev' not in details)\n",
    "\n",
    "print('Developer' not in details)\n"
   ]
  },
  {
   "cell_type": "markdown",
   "id": "2436e0aa-e129-45f1-b519-dd5c3e78c9d0",
   "metadata": {},
   "source": [
    "# 6. Is & Is Not\n",
    "----------------"
   ]
  },
  {
   "cell_type": "code",
   "execution_count": 33,
   "id": "a595a1dd-376c-447d-96ea-a7bbfcb586c4",
   "metadata": {},
   "outputs": [
    {
     "name": "stdout",
     "output_type": "stream",
     "text": [
      "1894934565472\n",
      "1894934565472\n",
      "-------------------------------------------------------\n",
      "True\n",
      "-------------------------------------------------------\n",
      "False\n"
     ]
    }
   ],
   "source": [
    "# Example 01\n",
    "\n",
    "studentName = 'Dev'\n",
    "\n",
    "employeeName = 'Dev'\n",
    "\n",
    "print(id(studentName))\n",
    "\n",
    "print(id(employeeName))\n",
    "\n",
    "print('-------------------------------------------------------')\n",
    "\n",
    "# Is Operators\n",
    "\n",
    "print(studentName is employeeName)\n",
    "\n",
    "print('-------------------------------------------------------')\n",
    "\n",
    "# Is Not Operators\n",
    "\n",
    "print(studentName is not employeeName)"
   ]
  },
  {
   "cell_type": "code",
   "execution_count": 34,
   "id": "79d91cd4-e19b-4f3b-8191-fc684db8ffea",
   "metadata": {},
   "outputs": [
    {
     "name": "stdout",
     "output_type": "stream",
     "text": [
      "1894940878528\n",
      "1894941009728\n",
      "-------------------------------------------------------\n",
      "False\n",
      "-------------------------------------------------------\n",
      "True\n"
     ]
    }
   ],
   "source": [
    "# Example 02\n",
    "\n",
    "studentDetails = ['Dev', 22, 'Male', 'TN']\n",
    "\n",
    "employeeDetails = ['Dev', 22, 'Male', 'TN']\n",
    "\n",
    "print(id(studentDetails))\n",
    "\n",
    "print(id(employeeDetails))\n",
    "\n",
    "print('-------------------------------------------------------')\n",
    "\n",
    "# Is Operators\n",
    "\n",
    "print(studentDetails is employeeDetails)\n",
    "\n",
    "print('-------------------------------------------------------')\n",
    "\n",
    "# Is Not Operators\n",
    "\n",
    "print(studentDetails is not employeeDetails)"
   ]
  },
  {
   "cell_type": "code",
   "execution_count": null,
   "id": "fbf09a5d-2d7e-4541-ba18-4de7324cdb7a",
   "metadata": {},
   "outputs": [],
   "source": []
  }
 ],
 "metadata": {
  "kernelspec": {
   "display_name": "Python 3 (ipykernel)",
   "language": "python",
   "name": "python3"
  },
  "language_info": {
   "codemirror_mode": {
    "name": "ipython",
    "version": 3
   },
   "file_extension": ".py",
   "mimetype": "text/x-python",
   "name": "python",
   "nbconvert_exporter": "python",
   "pygments_lexer": "ipython3",
   "version": "3.13.2"
  }
 },
 "nbformat": 4,
 "nbformat_minor": 5
}
