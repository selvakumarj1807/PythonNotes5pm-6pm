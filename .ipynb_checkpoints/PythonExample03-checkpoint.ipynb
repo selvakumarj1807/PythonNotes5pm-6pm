{
 "cells": [
  {
   "cell_type": "markdown",
   "id": "4e2cad28-59ce-4700-b169-52e26aecb7fc",
   "metadata": {},
   "source": [
    "Nested If:\n",
    "----------"
   ]
  },
  {
   "cell_type": "code",
   "execution_count": 11,
   "id": "ed9599aa-bf23-4d24-bb53-fcf288d0e17a",
   "metadata": {},
   "outputs": [
    {
     "name": "stdin",
     "output_type": "stream",
     "text": [
      "Enter a mark1 value :  32\n",
      "Enter a mark2 value :  30\n",
      "Enter a mark3 value :  29\n"
     ]
    },
    {
     "name": "stdout",
     "output_type": "stream",
     "text": [
      "Fail\n",
      "32  is < 35 So You are fail\n",
      "30  is < 35 So You are fail\n",
      "29  is < 35 So You are fail\n"
     ]
    }
   ],
   "source": [
    "mark1 = int(input('Enter a mark1 value : '))\n",
    "mark2 = int(input('Enter a mark2 value : '))\n",
    "mark3 = int(input('Enter a mark3 value : '))\n",
    "\n",
    "if ((mark1 >= 35) and (mark2 >= 35) and (mark3 >= 35)):\n",
    "    total = mark1 + mark2 + mark3\n",
    "    average = total / 3.0\n",
    "\n",
    "    print('Total : ', total)\n",
    "    print('Average : ', average)\n",
    "\n",
    "    if ((average >=90) and (average <= 100)):\n",
    "        print('A - Grade')\n",
    "\n",
    "    elif ((average >= 80) and (average <= 90)):\n",
    "        print('B - Grade')\n",
    "\n",
    "    elif ((average >= 70) and (average <= 80)):\n",
    "        print('C - Grade')\n",
    "\n",
    "    else:\n",
    "        print('D - Grade')\n",
    "\n",
    "else:\n",
    "    print('Fail')\n",
    "\n",
    "    if (mark1 <= 35):\n",
    "        print(mark1, ' is < 35 So You are fail')\n",
    "\n",
    "    if (mark2 <= 35):\n",
    "        print(mark2, ' is < 35 So You are fail')\n",
    "\n",
    "    if (mark3 <= 35):\n",
    "        print(mark3, ' is < 35 So You are fail')"
   ]
  },
  {
   "cell_type": "markdown",
   "id": "cdb94c1b-2a96-496f-9494-f183cffb9877",
   "metadata": {},
   "source": [
    "While Loop:\n",
    "-----------"
   ]
  },
  {
   "cell_type": "code",
   "execution_count": 15,
   "id": "fb2033d0-c73d-48e2-92ed-a1f366104d69",
   "metadata": {},
   "outputs": [
    {
     "name": "stdout",
     "output_type": "stream",
     "text": [
      "0\n",
      "1\n",
      "2\n",
      "3\n",
      "4\n",
      "5\n",
      "6\n",
      "7\n",
      "8\n",
      "9\n"
     ]
    }
   ],
   "source": [
    "'''\n",
    "Example 01\n",
    "----------\n",
    "'''\n",
    "\n",
    "i = 0\n",
    "\n",
    "while i < 10: \n",
    "    print(i)\n",
    "\n",
    "    i = i + 1\n"
   ]
  },
  {
   "cell_type": "code",
   "execution_count": 16,
   "id": "3c1369ee-7da8-4f5f-9069-67b9f34290f1",
   "metadata": {},
   "outputs": [
    {
     "name": "stdout",
     "output_type": "stream",
     "text": [
      "0\n",
      "2\n",
      "4\n",
      "6\n",
      "8\n"
     ]
    },
    {
     "data": {
      "text/plain": [
       "'\\n0\\n2\\n4\\n6\\n8\\n'"
      ]
     },
     "execution_count": 16,
     "metadata": {},
     "output_type": "execute_result"
    }
   ],
   "source": [
    "'''\n",
    "Example 02\n",
    "----------\n",
    "'''\n",
    "\n",
    "i = 0\n",
    "\n",
    "while i < 10: # 10 < 10\n",
    "    print(i)\n",
    "\n",
    "    i = i + 2\n"
   ]
  },
  {
   "cell_type": "code",
   "execution_count": 20,
   "id": "4b529ace-73b6-4599-915b-5db04c75ec2c",
   "metadata": {},
   "outputs": [
    {
     "name": "stdout",
     "output_type": "stream",
     "text": [
      "1  X 2  =  2\n",
      "2  X 2  =  4\n",
      "3  X 2  =  6\n",
      "4  X 2  =  8\n",
      "5  X 2  =  10\n"
     ]
    }
   ],
   "source": [
    "'''\n",
    "Example 03\n",
    "----------\n",
    "'''\n",
    "\n",
    "i = 1\n",
    "\n",
    "while i <= 5: \n",
    "    answer = i * 2 \n",
    "\n",
    "    print(i, ' X 2  = ', answer)\n",
    "\n",
    "    i = i + 1 "
   ]
  },
  {
   "cell_type": "code",
   "execution_count": 23,
   "id": "765b6956-fb3b-4e4f-a3cc-31d17b7c3ff1",
   "metadata": {},
   "outputs": [
    {
     "name": "stdout",
     "output_type": "stream",
     "text": [
      "1  X  3   =  3\n",
      "2  X  3   =  6\n",
      "3  X  3   =  9\n",
      "4  X  3   =  12\n",
      "5  X  3   =  15\n",
      "6  X  3   =  18\n",
      "7  X  3   =  21\n",
      "8  X  3   =  24\n",
      "9  X  3   =  27\n",
      "10  X  3   =  30\n"
     ]
    }
   ],
   "source": [
    "'''\n",
    "Example 04\n",
    "----------\n",
    "'''\n",
    "\n",
    "i = 1\n",
    "\n",
    "n = 10\n",
    "\n",
    "table = 3\n",
    "\n",
    "while i <= n: \n",
    "    answer = i * table \n",
    "\n",
    "    print(i, ' X ', table, '  = ', answer)\n",
    "\n",
    "    i = i + 1 "
   ]
  },
  {
   "cell_type": "markdown",
   "id": "fcbab24d-2d15-4a59-937f-d823567f8919",
   "metadata": {},
   "source": [
    "Break Statement\n",
    "---------------"
   ]
  },
  {
   "cell_type": "code",
   "execution_count": 6,
   "id": "2a7e10d1-d14a-443f-b2a5-6a6bf4cf5d2f",
   "metadata": {},
   "outputs": [
    {
     "name": "stdout",
     "output_type": "stream",
     "text": [
      "0\n",
      "1\n",
      "2\n",
      "3\n",
      "4\n"
     ]
    }
   ],
   "source": [
    "'''\n",
    "Example 05\n",
    "----------\n",
    "'''\n",
    "\n",
    "i = 0\n",
    "\n",
    "while i < 10: \n",
    "    if i == 5:\n",
    "        i = i + 1\n",
    "        break\n",
    "        print('Break Statement')\n",
    "        \n",
    "    print(i)\n",
    "    i = i + 1"
   ]
  },
  {
   "cell_type": "markdown",
   "id": "ef9f0316-9931-4673-9f65-d6031e4f99a9",
   "metadata": {},
   "source": [
    "Pass Statement \n",
    "--------------"
   ]
  },
  {
   "cell_type": "code",
   "execution_count": 7,
   "id": "e222bc3a-5b4b-4913-ab6e-907880fc1adb",
   "metadata": {},
   "outputs": [
    {
     "name": "stdout",
     "output_type": "stream",
     "text": [
      "0\n",
      "1\n",
      "2\n",
      "3\n",
      "4\n",
      "Break Statement\n",
      "6\n",
      "7\n",
      "8\n",
      "9\n"
     ]
    }
   ],
   "source": [
    "'''\n",
    "Example 06\n",
    "----------\n",
    "'''\n",
    "\n",
    "i = 0\n",
    "\n",
    "while i < 10: \n",
    "    if i == 5:\n",
    "        i = i + 1\n",
    "        pass\n",
    "        print('Break Statement')\n",
    "        \n",
    "    print(i)\n",
    "    i = i + 1"
   ]
  },
  {
   "cell_type": "markdown",
   "id": "3d1d8825-29ec-4332-9bba-ededca90f585",
   "metadata": {},
   "source": [
    "Continue\n",
    "--------"
   ]
  },
  {
   "cell_type": "code",
   "execution_count": 8,
   "id": "c1a625d6-b5c8-41ce-8296-980cb4b12edd",
   "metadata": {},
   "outputs": [
    {
     "name": "stdout",
     "output_type": "stream",
     "text": [
      "0\n",
      "1\n",
      "2\n",
      "3\n",
      "4\n",
      "6\n",
      "7\n",
      "8\n",
      "9\n"
     ]
    }
   ],
   "source": [
    "'''\n",
    "Example 07\n",
    "----------\n",
    "'''\n",
    "\n",
    "i = 0\n",
    "\n",
    "while i < 10: \n",
    "    if i == 5:\n",
    "        i = i + 1\n",
    "        continue\n",
    "        print('Break Statement')\n",
    "        \n",
    "    print(i)\n",
    "    i = i + 1"
   ]
  },
  {
   "cell_type": "code",
   "execution_count": 10,
   "id": "ad355a62-7e19-4da8-92ac-1618137f409f",
   "metadata": {},
   "outputs": [
    {
     "name": "stdout",
     "output_type": "stream",
     "text": [
      "0\n",
      "1\n",
      "2\n",
      "3\n",
      "4\n"
     ]
    }
   ],
   "source": [
    "'''\n",
    "Example 08\n",
    "----------\n",
    "'''\n",
    "i = 0\n",
    "\n",
    "condition = True\n",
    "\n",
    "while condition:\n",
    "    print(i)\n",
    "\n",
    "    i = i + 1\n",
    "\n",
    "    if i == 5:\n",
    "        condition = False\n",
    "    "
   ]
  },
  {
   "cell_type": "code",
   "execution_count": null,
   "id": "13a4c3e5-c7e3-40da-8801-42ec42fc0ad7",
   "metadata": {},
   "outputs": [],
   "source": []
  }
 ],
 "metadata": {
  "kernelspec": {
   "display_name": "Python 3 (ipykernel)",
   "language": "python",
   "name": "python3"
  },
  "language_info": {
   "codemirror_mode": {
    "name": "ipython",
    "version": 3
   },
   "file_extension": ".py",
   "mimetype": "text/x-python",
   "name": "python",
   "nbconvert_exporter": "python",
   "pygments_lexer": "ipython3",
   "version": "3.13.2"
  }
 },
 "nbformat": 4,
 "nbformat_minor": 5
}
