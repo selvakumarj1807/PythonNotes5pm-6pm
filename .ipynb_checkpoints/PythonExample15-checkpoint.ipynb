{
 "cells": [
  {
   "cell_type": "markdown",
   "id": "4ebd898c-f9b4-4112-a714-7f50473cde52",
   "metadata": {},
   "source": [
    "Exception Handling or Error Handling:\n",
    "-------------------------------------"
   ]
  },
  {
   "cell_type": "code",
   "execution_count": 4,
   "id": "6e15117d-002e-419a-87bf-aa2ffd7aeb7c",
   "metadata": {},
   "outputs": [
    {
     "name": "stdout",
     "output_type": "stream",
     "text": [
      "Denominator Cannot be zero\n"
     ]
    }
   ],
   "source": [
    "# Example 01:\n",
    "# -----------\n",
    "\n",
    "try:\n",
    "    a = 10\n",
    "\n",
    "    b = 0\n",
    "    \n",
    "    c = a / b\n",
    "    \n",
    "    print(c)\n",
    "\n",
    "except:\n",
    "    print('Denominator Cannot be zero')"
   ]
  },
  {
   "cell_type": "code",
   "execution_count": 7,
   "id": "162cf5fe-216f-4776-84bc-7cfcfe87b33c",
   "metadata": {},
   "outputs": [
    {
     "name": "stdout",
     "output_type": "stream",
     "text": [
      "2.0\n"
     ]
    }
   ],
   "source": [
    "# Example 02:\n",
    "# -----------\n",
    "\n",
    "try:\n",
    "    a = 10\n",
    "\n",
    "    b = 5\n",
    "    \n",
    "    c = a / b\n",
    "\n",
    "except:\n",
    "    print('Denominator Cannot be zero')\n",
    "\n",
    "else:\n",
    "    print(c)"
   ]
  },
  {
   "cell_type": "code",
   "execution_count": 8,
   "id": "8c2bd4cb-4db3-4cf3-80b4-e8647a9f1f7c",
   "metadata": {},
   "outputs": [
    {
     "name": "stdout",
     "output_type": "stream",
     "text": [
      "2.0\n",
      "Thank You\n"
     ]
    }
   ],
   "source": [
    "# Example 03:\n",
    "# -----------\n",
    "\n",
    "try:\n",
    "    a = 10\n",
    "\n",
    "    b = 5\n",
    "    \n",
    "    c = a / b\n",
    "\n",
    "except:\n",
    "    print('Denominator Cannot be zero')\n",
    "\n",
    "else:\n",
    "    print(c)\n",
    "\n",
    "finally:\n",
    "    print('Thank You')"
   ]
  },
  {
   "cell_type": "code",
   "execution_count": 9,
   "id": "d4ac01f3-987f-4cbc-854b-c35cfefd9e39",
   "metadata": {},
   "outputs": [
    {
     "name": "stdout",
     "output_type": "stream",
     "text": [
      "Denominator Cannot be zero\n",
      "Thank You\n"
     ]
    }
   ],
   "source": [
    "# Example 04:\n",
    "# -----------\n",
    "\n",
    "try:\n",
    "    a = 10\n",
    "\n",
    "    b = 0\n",
    "    \n",
    "    c = a / b\n",
    "\n",
    "except:\n",
    "    print('Denominator Cannot be zero')\n",
    "\n",
    "else:\n",
    "    print(c)\n",
    "\n",
    "finally:\n",
    "    print('Thank You')"
   ]
  },
  {
   "cell_type": "markdown",
   "id": "78e841ca-15d4-4860-a865-874a1c6f8a24",
   "metadata": {},
   "source": [
    "To Find the Error Message:\n",
    "--------------------------"
   ]
  },
  {
   "cell_type": "code",
   "execution_count": 11,
   "id": "a2d5c3d5-cde2-48d5-9968-f44f54474622",
   "metadata": {},
   "outputs": [
    {
     "name": "stdout",
     "output_type": "stream",
     "text": [
      "division by zero\n",
      "Denominator Cannot be zero\n"
     ]
    }
   ],
   "source": [
    "# Example 05:\n",
    "# -----------\n",
    "\n",
    "try:\n",
    "    a = 10\n",
    "\n",
    "    b = 0\n",
    "    \n",
    "    c = a / b\n",
    "    \n",
    "    print(c)\n",
    "\n",
    "except Exception as e:\n",
    "    print(e)\n",
    "    print('Denominator Cannot be zero')"
   ]
  },
  {
   "cell_type": "markdown",
   "id": "ea112e2e-b4a3-4819-80a8-49aff5e17f33",
   "metadata": {},
   "source": [
    "To Find the Predefind Exceptions:\n",
    "---------------------------------"
   ]
  },
  {
   "cell_type": "code",
   "execution_count": 13,
   "id": "6c1b8045-fdb9-4c30-b4fb-d8424b9a5346",
   "metadata": {},
   "outputs": [
    {
     "name": "stdout",
     "output_type": "stream",
     "text": [
      "['ArithmeticError', 'AssertionError', 'AttributeError', 'BaseException', 'BaseExceptionGroup', 'BlockingIOError', 'BrokenPipeError', 'BufferError', 'BytesWarning', 'ChildProcessError', 'ConnectionAbortedError', 'ConnectionError', 'ConnectionRefusedError', 'ConnectionResetError', 'DeprecationWarning', 'EOFError', 'Ellipsis', 'EncodingWarning', 'EnvironmentError', 'Exception', 'ExceptionGroup', 'False', 'FileExistsError', 'FileNotFoundError', 'FloatingPointError', 'FutureWarning', 'GeneratorExit', 'IOError', 'ImportError', 'ImportWarning', 'IndentationError', 'IndexError', 'InterruptedError', 'IsADirectoryError', 'KeyError', 'KeyboardInterrupt', 'LookupError', 'MemoryError', 'ModuleNotFoundError', 'NameError', 'None', 'NotADirectoryError', 'NotImplemented', 'NotImplementedError', 'OSError', 'OverflowError', 'PendingDeprecationWarning', 'PermissionError', 'ProcessLookupError', 'PythonFinalizationError', 'RecursionError', 'ReferenceError', 'ResourceWarning', 'RuntimeError', 'RuntimeWarning', 'StopAsyncIteration', 'StopIteration', 'SyntaxError', 'SyntaxWarning', 'SystemError', 'SystemExit', 'TabError', 'TimeoutError', 'True', 'TypeError', 'UnboundLocalError', 'UnicodeDecodeError', 'UnicodeEncodeError', 'UnicodeError', 'UnicodeTranslateError', 'UnicodeWarning', 'UserWarning', 'ValueError', 'Warning', 'WindowsError', 'ZeroDivisionError', '_IncompleteInputError', '__IPYTHON__', '__build_class__', '__debug__', '__doc__', '__import__', '__loader__', '__name__', '__package__', '__spec__', 'abs', 'aiter', 'all', 'anext', 'any', 'ascii', 'bin', 'bool', 'breakpoint', 'bytearray', 'bytes', 'callable', 'chr', 'classmethod', 'compile', 'complex', 'copyright', 'credits', 'delattr', 'dict', 'dir', 'display', 'divmod', 'enumerate', 'eval', 'exec', 'execfile', 'filter', 'float', 'format', 'frozenset', 'get_ipython', 'getattr', 'globals', 'hasattr', 'hash', 'help', 'hex', 'id', 'input', 'int', 'isinstance', 'issubclass', 'iter', 'len', 'license', 'list', 'locals', 'map', 'max', 'memoryview', 'min', 'next', 'object', 'oct', 'open', 'ord', 'pow', 'print', 'property', 'range', 'repr', 'reversed', 'round', 'runfile', 'set', 'setattr', 'slice', 'sorted', 'staticmethod', 'str', 'sum', 'super', 'tuple', 'type', 'vars', 'zip']\n"
     ]
    }
   ],
   "source": [
    "print(dir(locals()['__builtins__']))"
   ]
  },
  {
   "cell_type": "code",
   "execution_count": 15,
   "id": "a1843b8b-b704-487b-b6e3-3ea439ab55e2",
   "metadata": {},
   "outputs": [
    {
     "name": "stdout",
     "output_type": "stream",
     "text": [
      "163\n"
     ]
    }
   ],
   "source": [
    "print(len(dir(locals()['__builtins__'])))"
   ]
  },
  {
   "cell_type": "code",
   "execution_count": 27,
   "id": "2a8376be-3f7c-4908-88e1-d28a352dbfe6",
   "metadata": {},
   "outputs": [
    {
     "name": "stdout",
     "output_type": "stream",
     "text": [
      "name 'demo' is not defined\n"
     ]
    }
   ],
   "source": [
    "# Example 06:\n",
    "# -----------\n",
    "# Example for Name Error\n",
    "\n",
    "try:\n",
    "    print(demo)\n",
    "\n",
    "except Exception as e:\n",
    "    print(e)\n",
    "    "
   ]
  },
  {
   "cell_type": "code",
   "execution_count": 30,
   "id": "376121fe-ca9a-4a69-9a17-e872688a70f2",
   "metadata": {},
   "outputs": [
    {
     "name": "stdin",
     "output_type": "stream",
     "text": [
      "Enter your age :  seveti\n"
     ]
    },
    {
     "name": "stdout",
     "output_type": "stream",
     "text": [
      "invalid literal for int() with base 10: 'seveti'\n",
      "Give a valid Age Value use numeric only\n"
     ]
    },
    {
     "name": "stdin",
     "output_type": "stream",
     "text": [
      "Enter your Age in Except Block :  21\n"
     ]
    },
    {
     "name": "stdout",
     "output_type": "stream",
     "text": [
      "21\n"
     ]
    }
   ],
   "source": [
    "# Example 07:\n",
    "# -----------\n",
    "# Example for Value Error\n",
    "\n",
    "try:\n",
    "    age = int(input('Enter your age : '))\n",
    "\n",
    "    print(age)\n",
    "\n",
    "except Exception as e:\n",
    "    print(e)\n",
    "    print('Give a valid Age Value use numeric only')\n",
    "    age = int(input('Enter your Age in Except Block : '))\n",
    "    print(age)\n",
    "    "
   ]
  },
  {
   "cell_type": "code",
   "execution_count": 34,
   "id": "1d5f8606-b545-4411-ad49-58cc472114ab",
   "metadata": {},
   "outputs": [
    {
     "name": "stdout",
     "output_type": "stream",
     "text": [
      "list index out of range\n"
     ]
    }
   ],
   "source": [
    "# Example 08:\n",
    "# -----------\n",
    "\n",
    "try:\n",
    "    a = [10, 20, 30, 40]\n",
    "    \n",
    "    print(a[10])\n",
    "\n",
    "except Exception as e:\n",
    "    print(e)"
   ]
  },
  {
   "cell_type": "markdown",
   "id": "8908177f-2e70-4f26-8b09-d3e4fe2b6fb7",
   "metadata": {},
   "source": [
    "Multiple Exceptions :\n",
    "---------------------"
   ]
  },
  {
   "cell_type": "code",
   "execution_count": 38,
   "id": "2b6498d0-6ce1-4a69-b306-bc5f53c301f7",
   "metadata": {},
   "outputs": [
    {
     "name": "stdout",
     "output_type": "stream",
     "text": [
      "Denominator Cannot be zero\n"
     ]
    }
   ],
   "source": [
    "# Example 09:\n",
    "# -----------\n",
    "\n",
    "try:\n",
    "    a = 10\n",
    "\n",
    "    b = 0\n",
    "    \n",
    "    c = a / b\n",
    "    \n",
    "    print(c)\n",
    "\n",
    "    print(name)\n",
    "\n",
    "except ZeroDivisionError:\n",
    "    print('Denominator Cannot be zero')\n",
    "\n",
    "except NameError:\n",
    "    print('Variable Declaration is must')"
   ]
  },
  {
   "cell_type": "markdown",
   "id": "0a2b1bcb-4441-4090-a9d0-c0a9cb26b3a4",
   "metadata": {},
   "source": [
    "User Defined Exceptions:\n",
    "------------------------"
   ]
  },
  {
   "cell_type": "code",
   "execution_count": 40,
   "id": "cbe69724-d6cc-465b-8fb2-2d69be6bbaf0",
   "metadata": {},
   "outputs": [
    {
     "name": "stdin",
     "output_type": "stream",
     "text": [
      "Enter your age:  20\n"
     ]
    },
    {
     "name": "stdout",
     "output_type": "stream",
     "text": [
      "You are eligible!\n"
     ]
    }
   ],
   "source": [
    "class AgeTooSmallError(Exception):\n",
    "    \"\"\"Raised when the age is below 18\"\"\"\n",
    "    pass\n",
    "\n",
    "age = int(input(\"Enter your age: \"))\n",
    "\n",
    "try:\n",
    "    if age < 18:\n",
    "        raise AgeTooSmallError(\"Age must be at least 18\")\n",
    "    print(\"You are eligible!\")\n",
    "except AgeTooSmallError as e:\n",
    "    print(e)\n"
   ]
  },
  {
   "cell_type": "code",
   "execution_count": null,
   "id": "df758dca-045a-4980-b202-fd395bbaeacd",
   "metadata": {},
   "outputs": [],
   "source": []
  }
 ],
 "metadata": {
  "kernelspec": {
   "display_name": "Python 3 (ipykernel)",
   "language": "python",
   "name": "python3"
  },
  "language_info": {
   "codemirror_mode": {
    "name": "ipython",
    "version": 3
   },
   "file_extension": ".py",
   "mimetype": "text/x-python",
   "name": "python",
   "nbconvert_exporter": "python",
   "pygments_lexer": "ipython3",
   "version": "3.13.2"
  }
 },
 "nbformat": 4,
 "nbformat_minor": 5
}
