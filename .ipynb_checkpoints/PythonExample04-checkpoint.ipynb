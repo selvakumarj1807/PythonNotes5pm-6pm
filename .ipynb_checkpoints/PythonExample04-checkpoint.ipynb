{
 "cells": [
  {
   "cell_type": "markdown",
   "id": "c9f4b57f-8ce9-4fa3-ab87-b5b1c091a7f4",
   "metadata": {},
   "source": [
    "For Loop:\n",
    "---------"
   ]
  },
  {
   "cell_type": "code",
   "execution_count": 1,
   "id": "ac4873d9-4cfa-4b6a-b232-b4f5104307c4",
   "metadata": {},
   "outputs": [
    {
     "name": "stdout",
     "output_type": "stream",
     "text": [
      "0\n",
      "1\n",
      "2\n",
      "3\n",
      "4\n",
      "5\n",
      "6\n",
      "7\n",
      "8\n",
      "9\n"
     ]
    }
   ],
   "source": [
    "for i in range(10):\n",
    "    print(i)"
   ]
  },
  {
   "cell_type": "code",
   "execution_count": 3,
   "id": "14d2c710-46fc-4e18-ad8c-67614944ced0",
   "metadata": {},
   "outputs": [
    {
     "name": "stdout",
     "output_type": "stream",
     "text": [
      "1\n",
      "3\n",
      "5\n",
      "7\n",
      "9\n"
     ]
    }
   ],
   "source": [
    "'''\n",
    "Example 01:\n",
    "-----------\n",
    "'''\n",
    "n = 10\n",
    "\n",
    "for i in range(1, n, 2):\n",
    "    print(i)"
   ]
  },
  {
   "cell_type": "markdown",
   "id": "3483edda-55aa-43e3-9182-341bad1a042c",
   "metadata": {},
   "source": [
    "For Loop Example\n",
    "----------------"
   ]
  },
  {
   "cell_type": "code",
   "execution_count": 4,
   "id": "2423041e-2f6a-4c56-983e-69eb8711520f",
   "metadata": {},
   "outputs": [
    {
     "name": "stdin",
     "output_type": "stream",
     "text": [
      "Enter your name :  admin\n",
      "Enter your age :  22\n"
     ]
    },
    {
     "name": "stdout",
     "output_type": "stream",
     "text": [
      "admin  your age is  22\n"
     ]
    }
   ],
   "source": [
    "name = input('Enter your name : ')\n",
    "age = int(input('Enter your age : '))\n",
    "\n",
    "print(name, ' your age is ', age)"
   ]
  },
  {
   "cell_type": "code",
   "execution_count": 8,
   "id": "c67db48f-50ca-4b83-8266-794fb2555e48",
   "metadata": {},
   "outputs": [
    {
     "name": "stdin",
     "output_type": "stream",
     "text": [
      "Enter your name :  s\n",
      "Enter your age :  2\n"
     ]
    },
    {
     "name": "stdout",
     "output_type": "stream",
     "text": [
      "s  your age is  2\n",
      "\n"
     ]
    },
    {
     "name": "stdin",
     "output_type": "stream",
     "text": [
      "Enter your name :  d\n",
      "Enter your age :  3\n"
     ]
    },
    {
     "name": "stdout",
     "output_type": "stream",
     "text": [
      "d  your age is  3\n",
      "\n"
     ]
    },
    {
     "name": "stdin",
     "output_type": "stream",
     "text": [
      "Enter your name :  f\n",
      "Enter your age :  4\n"
     ]
    },
    {
     "name": "stdout",
     "output_type": "stream",
     "text": [
      "f  your age is  4\n",
      "\n"
     ]
    }
   ],
   "source": [
    "for i in range(3):\n",
    "    name = input('Enter your name : ')\n",
    "    age = int(input('Enter your age : '))\n",
    "    \n",
    "    print(name, ' your age is ', age)\n",
    "    print('')"
   ]
  },
  {
   "cell_type": "code",
   "execution_count": null,
   "id": "2d9399bf-52d1-4630-97c7-dcfa56b7c0b0",
   "metadata": {},
   "outputs": [],
   "source": []
  }
 ],
 "metadata": {
  "kernelspec": {
   "display_name": "Python 3 (ipykernel)",
   "language": "python",
   "name": "python3"
  },
  "language_info": {
   "codemirror_mode": {
    "name": "ipython",
    "version": 3
   },
   "file_extension": ".py",
   "mimetype": "text/x-python",
   "name": "python",
   "nbconvert_exporter": "python",
   "pygments_lexer": "ipython3",
   "version": "3.13.2"
  }
 },
 "nbformat": 4,
 "nbformat_minor": 5
}
