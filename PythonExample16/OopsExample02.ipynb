{
 "cells": [
  {
   "cell_type": "markdown",
   "id": "48652da1-8981-4b49-8fea-5a97992eecbd",
   "metadata": {},
   "source": [
    "Function Creation in Class:\n",
    "---------------------------"
   ]
  },
  {
   "cell_type": "code",
   "execution_count": 4,
   "id": "7e612cc0-7e1f-4681-924a-41e8865381d4",
   "metadata": {},
   "outputs": [],
   "source": [
    "class Student:\n",
    "    name = 'Sara'\n",
    "    age = 25 \n",
    "\n",
    "    def details():\n",
    "        print(Student.name, ' your age is ', Student.age)\n",
    "        "
   ]
  },
  {
   "cell_type": "markdown",
   "id": "b81077d5-2c70-4c91-9a0f-a4309f4af6cc",
   "metadata": {},
   "source": [
    "Call the Function from Class:\n",
    "-----------------------------"
   ]
  },
  {
   "cell_type": "code",
   "execution_count": 8,
   "id": "a4537ee1-d4d0-430b-b7da-32ecc13d59fb",
   "metadata": {},
   "outputs": [
    {
     "name": "stdout",
     "output_type": "stream",
     "text": [
      "Sara  your age is  25\n",
      "Sara  your age is  25\n"
     ]
    }
   ],
   "source": [
    "# Dot (.) Notation Method\n",
    "\n",
    "Student.details()\n",
    "\n",
    "# Get Attribute Method\n",
    "\n",
    "getattr(Student, 'details')()"
   ]
  },
  {
   "cell_type": "markdown",
   "id": "e5c01f3a-4b53-4e33-8a45-dd00a7bbec7a",
   "metadata": {},
   "source": [
    "Object Creation:\n",
    "----------------"
   ]
  },
  {
   "cell_type": "code",
   "execution_count": 13,
   "id": "939c9dd4-b290-490f-9ae4-76c3ad4c8b43",
   "metadata": {},
   "outputs": [
    {
     "name": "stdout",
     "output_type": "stream",
     "text": [
      "-----------------------------------------------------------\n"
     ]
    }
   ],
   "source": [
    "class Student:\n",
    "    name = 'Sara'\n",
    "    age = 25 \n",
    "\n",
    "    def details(self):\n",
    "        print(Student.name, ' your age is ', Student.age)\n",
    "\n",
    "print('-----------------------------------------------------------')\n",
    "\n",
    "stud01 = Student()"
   ]
  },
  {
   "cell_type": "markdown",
   "id": "b74bf430-1ac2-4832-8c0b-9dbe6ba742c8",
   "metadata": {},
   "source": [
    "Call the variable using Object:\n",
    "-------------------------------"
   ]
  },
  {
   "cell_type": "code",
   "execution_count": 14,
   "id": "93ff00a7-d6b9-475e-b340-b8405bab8fb3",
   "metadata": {},
   "outputs": [
    {
     "name": "stdout",
     "output_type": "stream",
     "text": [
      "Sara  your age is  25\n"
     ]
    }
   ],
   "source": [
    "print(stud01.name, ' your age is ', stud01.age)"
   ]
  },
  {
   "cell_type": "markdown",
   "id": "c2aa7fd7-8e97-4942-828a-9243cdb81195",
   "metadata": {},
   "source": [
    "Call the Function using Object:\n",
    "-------------------------------"
   ]
  },
  {
   "cell_type": "code",
   "execution_count": 15,
   "id": "88cfb4fe-c73a-4f4a-8f6a-9f60d0001dc8",
   "metadata": {},
   "outputs": [
    {
     "name": "stdout",
     "output_type": "stream",
     "text": [
      "Sara  your age is  25\n"
     ]
    }
   ],
   "source": [
    "stud01.details()"
   ]
  },
  {
   "cell_type": "markdown",
   "id": "b789457e-94ab-49a3-b6be-317dbf2871f1",
   "metadata": {},
   "source": [
    "Use of Self Parameter:\n",
    "----------------------"
   ]
  },
  {
   "cell_type": "code",
   "execution_count": 20,
   "id": "dd036b7f-fba4-4896-8765-66e8b0ecfe1e",
   "metadata": {},
   "outputs": [
    {
     "name": "stdout",
     "output_type": "stream",
     "text": [
      "-----------------------------------------------------------\n"
     ]
    }
   ],
   "source": [
    "class Student:\n",
    "    name = 'Sara'\n",
    "    age = 25 \n",
    "\n",
    "    def details(self):\n",
    "        print(self.name, ' your age is ', self.age)\n",
    "\n",
    "print('-----------------------------------------------------------')\n",
    "\n",
    "stud01 = Student()"
   ]
  },
  {
   "cell_type": "code",
   "execution_count": 21,
   "id": "915a0136-0394-4a88-95fa-04dca61f9f62",
   "metadata": {},
   "outputs": [
    {
     "name": "stdout",
     "output_type": "stream",
     "text": [
      "Sara  your age is  25\n",
      "-----------------------------------------------------------\n",
      "-----------------------------------------------------------\n",
      "Developer  your age is  29\n"
     ]
    }
   ],
   "source": [
    "stud01.details()\n",
    "\n",
    "print('-----------------------------------------------------------')\n",
    "\n",
    "# Class variable Value change using Object\n",
    "\n",
    "stud01.name = 'Developer'\n",
    "\n",
    "stud01.age = 29\n",
    "\n",
    "print('-----------------------------------------------------------')\n",
    "\n",
    "stud01.details()"
   ]
  },
  {
   "cell_type": "code",
   "execution_count": 22,
   "id": "e2f82ae1-b52e-4193-9b02-213f0bb237ae",
   "metadata": {},
   "outputs": [
    {
     "name": "stdout",
     "output_type": "stream",
     "text": [
      "-----------------------------------------------------------\n",
      "Sara  your age is  25\n",
      "-----------------------------------------------------------\n",
      "-----------------------------------------------------------\n",
      "Admin  your age is  22\n"
     ]
    }
   ],
   "source": [
    "# Create Onther Object for Student Class\n",
    "\n",
    "print('-----------------------------------------------------------')\n",
    "\n",
    "stud02 = Student()\n",
    "\n",
    "stud02.details()\n",
    "\n",
    "print('-----------------------------------------------------------')\n",
    "\n",
    "# Class variable Value change using Object\n",
    "\n",
    "stud02.name = 'Admin'\n",
    "\n",
    "stud02.age = 22\n",
    "\n",
    "print('-----------------------------------------------------------')\n",
    "\n",
    "stud02.details()"
   ]
  },
  {
   "cell_type": "code",
   "execution_count": 23,
   "id": "a4924e39-fd73-4e4e-a043-aa8996085c87",
   "metadata": {},
   "outputs": [
    {
     "name": "stdout",
     "output_type": "stream",
     "text": [
      "Object 03: \n",
      "Sara  your age is  25\n",
      "Object 02: \n",
      "Admin  your age is  22\n",
      "Object 01: \n",
      "Developer  your age is  29\n"
     ]
    }
   ],
   "source": [
    "# Another Object Creation:\n",
    "\n",
    "stud03 = Student()\n",
    "\n",
    "print('Object 03: ')\n",
    "stud03.details()\n",
    "\n",
    "print('Object 02: ')\n",
    "stud02.details()\n",
    "\n",
    "print('Object 01: ')\n",
    "stud01.details()\n"
   ]
  },
  {
   "cell_type": "code",
   "execution_count": null,
   "id": "479ec855-d13d-4a4a-8ac3-d032f7fd6670",
   "metadata": {},
   "outputs": [],
   "source": []
  }
 ],
 "metadata": {
  "kernelspec": {
   "display_name": "Python 3 (ipykernel)",
   "language": "python",
   "name": "python3"
  },
  "language_info": {
   "codemirror_mode": {
    "name": "ipython",
    "version": 3
   },
   "file_extension": ".py",
   "mimetype": "text/x-python",
   "name": "python",
   "nbconvert_exporter": "python",
   "pygments_lexer": "ipython3",
   "version": "3.13.2"
  }
 },
 "nbformat": 4,
 "nbformat_minor": 5
}
