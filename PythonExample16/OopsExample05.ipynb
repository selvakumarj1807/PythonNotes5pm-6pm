{
 "cells": [
  {
   "cell_type": "markdown",
   "id": "40033c48-1f63-4e8f-901d-b4a4bc258150",
   "metadata": {},
   "source": [
    "Abstraction & Encapsulation:\n",
    "----------------------------"
   ]
  },
  {
   "cell_type": "code",
   "execution_count": 17,
   "id": "a6dfdd32-7341-49b2-9e58-0ce2dd2db584",
   "metadata": {},
   "outputs": [],
   "source": [
    "class libraryManagement:\n",
    "    def __init__(self, books):\n",
    "        self.books = books\n",
    "\n",
    "    def displayBook(self):\n",
    "        for book in self.books:\n",
    "            print(book)\n",
    "\n",
    "    def borrowBook(self, book):\n",
    "        if (book in self.books):\n",
    "            print(book, 'Borrow Book Successfully!')\n",
    "            self.books.remove(book)   \n",
    "\n",
    "        else:\n",
    "            print(book, ' book not available')\n",
    "\n",
    "    def receiveBook(self, book):\n",
    "        print(book, 'Received Successfully!')\n",
    "\n",
    "        self.books.append(book)"
   ]
  },
  {
   "cell_type": "code",
   "execution_count": null,
   "id": "2202e2da-10c9-4f86-adca-aae0941ed923",
   "metadata": {},
   "outputs": [
    {
     "name": "stdout",
     "output_type": "stream",
     "text": [
      " 1. Display Book\n",
      " 2. Borrow Book\n",
      " 3. Receive Book\n"
     ]
    },
    {
     "name": "stdin",
     "output_type": "stream",
     "text": [
      "Enter your Choice (1/2/3):  1\n"
     ]
    },
    {
     "name": "stdout",
     "output_type": "stream",
     "text": [
      "Enter Choice 01 - Display Book\n",
      "\n",
      "C\n",
      "C++\n",
      "Java\n",
      "\n",
      " 1. Display Book\n",
      " 2. Borrow Book\n",
      " 3. Receive Book\n"
     ]
    },
    {
     "name": "stdin",
     "output_type": "stream",
     "text": [
      "Enter your Choice (1/2/3):  2\n"
     ]
    },
    {
     "name": "stdout",
     "output_type": "stream",
     "text": [
      "Enter Choice 02 - Borrow Book\n",
      "\n"
     ]
    },
    {
     "name": "stdin",
     "output_type": "stream",
     "text": [
      "Enter your Borrow Book Name :  Java\n"
     ]
    },
    {
     "name": "stdout",
     "output_type": "stream",
     "text": [
      "Java Borrow Book Successfully!\n",
      "\n",
      " 1. Display Book\n",
      " 2. Borrow Book\n",
      " 3. Receive Book\n"
     ]
    },
    {
     "name": "stdin",
     "output_type": "stream",
     "text": [
      "Enter your Choice (1/2/3):  1\n"
     ]
    },
    {
     "name": "stdout",
     "output_type": "stream",
     "text": [
      "Enter Choice 01 - Display Book\n",
      "\n",
      "C\n",
      "C++\n",
      "\n",
      " 1. Display Book\n",
      " 2. Borrow Book\n",
      " 3. Receive Book\n"
     ]
    },
    {
     "name": "stdin",
     "output_type": "stream",
     "text": [
      "Enter your Choice (1/2/3):  3\n"
     ]
    },
    {
     "name": "stdout",
     "output_type": "stream",
     "text": [
      "Enter Choice 03 - Receive Book\n",
      "\n"
     ]
    },
    {
     "name": "stdin",
     "output_type": "stream",
     "text": [
      "Enter your Recive Book Name :  Java\n"
     ]
    },
    {
     "name": "stdout",
     "output_type": "stream",
     "text": [
      "Java Received Successfully!\n",
      "\n",
      " 1. Display Book\n",
      " 2. Borrow Book\n",
      " 3. Receive Book\n"
     ]
    },
    {
     "name": "stdin",
     "output_type": "stream",
     "text": [
      "Enter your Choice (1/2/3):  1\n"
     ]
    },
    {
     "name": "stdout",
     "output_type": "stream",
     "text": [
      "Enter Choice 01 - Display Book\n",
      "\n",
      "C\n",
      "C++\n",
      "Java\n",
      "\n",
      " 1. Display Book\n",
      " 2. Borrow Book\n",
      " 3. Receive Book\n"
     ]
    }
   ],
   "source": [
    "message = ' 1. Display Book\\n 2. Borrow Book\\n 3. Receive Book'\n",
    "\n",
    "books = ['C', 'C++', 'Java']\n",
    "\n",
    "libraryObject01 = libraryManagement(books)\n",
    "\n",
    "while True:\n",
    "\n",
    "    print(message)\n",
    "\n",
    "    ch = int(input('Enter your Choice (1/2/3): '))\n",
    "\n",
    "    if (ch == 1):\n",
    "        print('Enter Choice 01 - Display Book')\n",
    "        print('')\n",
    "\n",
    "        libraryObject01.displayBook()\n",
    "\n",
    "        print('')\n",
    "\n",
    "    elif (ch == 2):\n",
    "        print('Enter Choice 02 - Borrow Book')\n",
    "        print('')\n",
    "\n",
    "        book = input('Enter your Borrow Book Name : ')\n",
    "\n",
    "        libraryObject01.borrowBook(book)\n",
    "\n",
    "        print('')\n",
    "\n",
    "    elif (ch == 3):\n",
    "        print('Enter Choice 03 - Receive Book')\n",
    "        print('')\n",
    "\n",
    "        book = input('Enter your Recive Book Name : ')\n",
    "\n",
    "        libraryObject01.receiveBook(book)\n",
    "\n",
    "        print('')\n",
    "\n",
    "    else:\n",
    "        print('Enter a Valid Input (1/2/3)')\n",
    "        break"
   ]
  },
  {
   "cell_type": "code",
   "execution_count": null,
   "id": "03d1fb1d-5333-4537-8739-ad41fe344220",
   "metadata": {},
   "outputs": [],
   "source": []
  }
 ],
 "metadata": {
  "kernelspec": {
   "display_name": "Python 3 (ipykernel)",
   "language": "python",
   "name": "python3"
  },
  "language_info": {
   "codemirror_mode": {
    "name": "ipython",
    "version": 3
   },
   "file_extension": ".py",
   "mimetype": "text/x-python",
   "name": "python",
   "nbconvert_exporter": "python",
   "pygments_lexer": "ipython3",
   "version": "3.13.2"
  }
 },
 "nbformat": 4,
 "nbformat_minor": 5
}
