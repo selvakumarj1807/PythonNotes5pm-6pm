{
 "cells": [
  {
   "cell_type": "code",
   "execution_count": 1,
   "id": "09200410-a196-495f-98b0-d271fe2463f3",
   "metadata": {
    "scrolled": true
   },
   "outputs": [
    {
     "name": "stdout",
     "output_type": "stream",
     "text": [
      "-----------------------------------------------------------\n",
      "Sara  your age is  25\n",
      "-----------------------------------------------------------\n",
      "-----------------------------------------------------------\n",
      "Developer  your age is  29\n",
      "-----------------------------------------------------------\n",
      "-----------------------------------------------------------\n",
      "Sara  your age is  25\n",
      "-----------------------------------------------------------\n",
      "-----------------------------------------------------------\n",
      "Admin  your age is  22\n"
     ]
    }
   ],
   "source": [
    "class Student:\n",
    "    name = 'Sara'\n",
    "    age = 25 \n",
    "\n",
    "    def details(self):\n",
    "        print(self.name, ' your age is ', self.age)\n",
    "\n",
    "print('-----------------------------------------------------------')\n",
    "\n",
    "stud01 = Student()\n",
    "\n",
    "stud01.details()\n",
    "\n",
    "print('-----------------------------------------------------------')\n",
    "\n",
    "# Class variable Value change using Object\n",
    "\n",
    "stud01.name = 'Developer'\n",
    "\n",
    "stud01.age = 29\n",
    "\n",
    "print('-----------------------------------------------------------')\n",
    "\n",
    "stud01.details()\n",
    "\n",
    "print('-----------------------------------------------------------')\n",
    "\n",
    "# Create Onther Object for Student Class\n",
    "\n",
    "print('-----------------------------------------------------------')\n",
    "\n",
    "stud02 = Student()\n",
    "\n",
    "stud02.details()\n",
    "\n",
    "print('-----------------------------------------------------------')\n",
    "\n",
    "# Class variable Value change using Object\n",
    "\n",
    "stud02.name = 'Admin'\n",
    "\n",
    "stud02.age = 22\n",
    "\n",
    "print('-----------------------------------------------------------')\n",
    "\n",
    "stud02.details()"
   ]
  },
  {
   "cell_type": "code",
   "execution_count": null,
   "id": "b3751e64-a1ed-48ce-820f-c528746887f1",
   "metadata": {},
   "outputs": [],
   "source": [
    "'''\n",
    "__init__ method\n",
    "'''"
   ]
  },
  {
   "cell_type": "code",
   "execution_count": 7,
   "id": "034c3fe9-f3f1-477f-97fb-a9b8816283b1",
   "metadata": {},
   "outputs": [
    {
     "name": "stdout",
     "output_type": "stream",
     "text": [
      "-----------------------------------------------------------\n",
      "__init__ method - Constructor method for value Intialization\n",
      "-----------------------------------------------------------\n",
      "Admin  your age is  25\n",
      "-----------------------------------------------------------\n",
      "__init__ method - Constructor method for value Intialization\n",
      "-----------------------------------------------------------\n",
      "Selva  your age is  25\n"
     ]
    }
   ],
   "source": [
    "class Student:\n",
    "    def __init__(self, name, age):\n",
    "        self.name = name\n",
    "        self.age = age \n",
    "        print('__init__ method - Constructor method for value Intialization')\n",
    "\n",
    "    def details(self):\n",
    "        print(self.name, ' your age is ', self.age)\n",
    "\n",
    "print('-----------------------------------------------------------')\n",
    "\n",
    "stud01 = Student('Admin', 25)\n",
    "\n",
    "print('-----------------------------------------------------------')\n",
    "\n",
    "stud01.details()\n",
    "\n",
    "print('-----------------------------------------------------------')\n",
    "\n",
    "# Create Onther Object for Student Class\n",
    "\n",
    "stud02 = Student('Selva', 25)\n",
    "\n",
    "print('-----------------------------------------------------------')\n",
    "\n",
    "stud02.details()\n",
    "\n",
    "\n"
   ]
  },
  {
   "cell_type": "code",
   "execution_count": null,
   "id": "264b9289-18ac-4ba9-b97d-804610248c51",
   "metadata": {},
   "outputs": [],
   "source": []
  }
 ],
 "metadata": {
  "kernelspec": {
   "display_name": "Python 3 (ipykernel)",
   "language": "python",
   "name": "python3"
  },
  "language_info": {
   "codemirror_mode": {
    "name": "ipython",
    "version": 3
   },
   "file_extension": ".py",
   "mimetype": "text/x-python",
   "name": "python",
   "nbconvert_exporter": "python",
   "pygments_lexer": "ipython3",
   "version": "3.13.2"
  }
 },
 "nbformat": 4,
 "nbformat_minor": 5
}
