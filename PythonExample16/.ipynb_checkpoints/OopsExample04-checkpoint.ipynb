{
 "cells": [
  {
   "cell_type": "markdown",
   "id": "cd0ac262-7769-49c6-a31c-724535e33b56",
   "metadata": {},
   "source": [
    "Inheritance:\n",
    "------------"
   ]
  },
  {
   "cell_type": "markdown",
   "id": "088596ce-8cd9-43f8-ad05-1c9b577a6b3a",
   "metadata": {},
   "source": [
    "# 01. Single Inheritance\n",
    "------------------------"
   ]
  },
  {
   "cell_type": "code",
   "execution_count": 3,
   "id": "925d39d2-207e-49b6-8221-0ba0ed410832",
   "metadata": {},
   "outputs": [
    {
     "name": "stdout",
     "output_type": "stream",
     "text": [
      "---------------------------------------------------------\n",
      "---------------------------------------------------------\n",
      "---------------------------------------------------------\n",
      "10  -  Mathematics\n",
      "SRM  -  srm.in\n"
     ]
    }
   ],
   "source": [
    "# Class Creation - No. One \n",
    "# Parent Class\n",
    "\n",
    "class College:\n",
    "    collegeName = 'SRM'\n",
    "    collegeWesite = 'srm.in'\n",
    "\n",
    "print('---------------------------------------------------------')\n",
    "\n",
    "# Class Creation - No. Two\n",
    "# Child Class\n",
    "\n",
    "class Department(College): \n",
    "    departmentName = 'Mathematics'\n",
    "    departmentId = 10\n",
    "\n",
    "print('---------------------------------------------------------')\n",
    "\n",
    "# Object Creation For Department Class\n",
    "\n",
    "details = Department()\n",
    "\n",
    "print('---------------------------------------------------------')\n",
    "\n",
    "# Call the Variable using Object for Department Class\n",
    "\n",
    "print(details.departmentId, ' - ', details.departmentName)\n",
    "\n",
    "# Call the Variable using Object for College Class\n",
    "\n",
    "print(details.collegeName, ' - ', details.collegeWesite)"
   ]
  },
  {
   "cell_type": "markdown",
   "id": "b6be675f-6a50-439b-bf6e-9e1ba7e827ba",
   "metadata": {},
   "source": [
    "# 02. Multiple Inheritance\n",
    "--------------------------"
   ]
  },
  {
   "cell_type": "code",
   "execution_count": 7,
   "id": "ec6c719b-258e-4334-aad6-1b0cca134df0",
   "metadata": {},
   "outputs": [
    {
     "name": "stdout",
     "output_type": "stream",
     "text": [
      "---------------------------------------------------------\n",
      "---------------------------------------------------------\n",
      "---------------------------------------------------------\n",
      "Sara  -  25\n",
      "---------------------------------------------------------\n",
      "10  -  Mathematics\n",
      "---------------------------------------------------------\n",
      "SRM  -  srm.in\n"
     ]
    }
   ],
   "source": [
    "# Class Creation - No. One \n",
    "# Parent Class\n",
    "\n",
    "class College:\n",
    "    collegeName = 'SRM'\n",
    "    collegeWesite = 'srm.in'\n",
    "\n",
    "print('---------------------------------------------------------')\n",
    "\n",
    "# Class Creation - No. Two\n",
    "# Parent Class\n",
    "\n",
    "class Department: \n",
    "    departmentName = 'Mathematics'\n",
    "    departmentId = 10\n",
    "\n",
    "# Class Creation - No. Three\n",
    "# Child Class\n",
    "\n",
    "class Student(Department, College): \n",
    "    studentName = 'Sara'\n",
    "    studentAge = 25\n",
    "\n",
    "print('---------------------------------------------------------')\n",
    "\n",
    "# Object Creation For Department Class\n",
    "\n",
    "details = Student()\n",
    "\n",
    "print('---------------------------------------------------------')\n",
    "\n",
    "# Call the Variable using Object for Student Class\n",
    "\n",
    "print(details.studentName, ' - ', details.studentAge)\n",
    "\n",
    "print('---------------------------------------------------------')\n",
    "\n",
    "# Call the Variable using Object for Department Class\n",
    "\n",
    "print(details.departmentId, ' - ', details.departmentName)\n",
    "\n",
    "print('---------------------------------------------------------')\n",
    "\n",
    "# Call the Variable using Object for College Class\n",
    "\n",
    "print(details.collegeName, ' - ', details.collegeWesite)"
   ]
  },
  {
   "cell_type": "markdown",
   "id": "e1f95d74-1b03-45d6-9aef-8063e4e3d373",
   "metadata": {},
   "source": [
    "# 03. Multilevel Inheritance\n",
    "----------------------------"
   ]
  },
  {
   "cell_type": "code",
   "execution_count": 9,
   "id": "6e6a68ab-29ee-4288-a534-155c6167249b",
   "metadata": {},
   "outputs": [
    {
     "name": "stdout",
     "output_type": "stream",
     "text": [
      "---------------------------------------------------------\n",
      "---------------------------------------------------------\n",
      "---------------------------------------------------------\n",
      "Sara  -  25\n",
      "---------------------------------------------------------\n",
      "10  -  Mathematics\n",
      "---------------------------------------------------------\n",
      "SRM  -  srm.in\n"
     ]
    }
   ],
   "source": [
    "# Class Creation - No. One \n",
    "# Parent Class\n",
    "\n",
    "class College:\n",
    "    collegeName = 'SRM'\n",
    "    collegeWesite = 'srm.in'\n",
    "\n",
    "print('---------------------------------------------------------')\n",
    "\n",
    "# Class Creation - No. Two\n",
    "# Parent Class\n",
    "\n",
    "class Department(College): \n",
    "    departmentName = 'Mathematics'\n",
    "    departmentId = 10\n",
    "\n",
    "# Class Creation - No. Three\n",
    "# Child Class\n",
    "\n",
    "class Student(Department): \n",
    "    studentName = 'Sara'\n",
    "    studentAge = 25\n",
    "\n",
    "print('---------------------------------------------------------')\n",
    "\n",
    "# Object Creation For Department Class\n",
    "\n",
    "details = Student()\n",
    "\n",
    "print('---------------------------------------------------------')\n",
    "\n",
    "# Call the Variable using Object for Student Class\n",
    "\n",
    "print(details.studentName, ' - ', details.studentAge)\n",
    "\n",
    "print('---------------------------------------------------------')\n",
    "\n",
    "# Call the Variable using Object for Department Class\n",
    "\n",
    "print(details.departmentId, ' - ', details.departmentName)\n",
    "\n",
    "print('---------------------------------------------------------')\n",
    "\n",
    "# Call the Variable using Object for College Class\n",
    "\n",
    "print(details.collegeName, ' - ', details.collegeWesite)"
   ]
  },
  {
   "cell_type": "code",
   "execution_count": null,
   "id": "674da41d-409d-4456-922f-8e70a40a5c25",
   "metadata": {},
   "outputs": [],
   "source": []
  }
 ],
 "metadata": {
  "kernelspec": {
   "display_name": "Python 3 (ipykernel)",
   "language": "python",
   "name": "python3"
  },
  "language_info": {
   "codemirror_mode": {
    "name": "ipython",
    "version": 3
   },
   "file_extension": ".py",
   "mimetype": "text/x-python",
   "name": "python",
   "nbconvert_exporter": "python",
   "pygments_lexer": "ipython3",
   "version": "3.13.2"
  }
 },
 "nbformat": 4,
 "nbformat_minor": 5
}
