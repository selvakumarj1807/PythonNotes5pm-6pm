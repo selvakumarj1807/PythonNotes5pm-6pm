{
 "cells": [
  {
   "cell_type": "markdown",
   "id": "ecb92d1c-e313-402a-b8e6-4710965a285a",
   "metadata": {},
   "source": [
    "Create Class :\n",
    "--------------"
   ]
  },
  {
   "cell_type": "code",
   "execution_count": 2,
   "id": "1b747f3d-2115-4de4-814a-f717103f9e10",
   "metadata": {},
   "outputs": [
    {
     "name": "stdout",
     "output_type": "stream",
     "text": [
      "10 <class 'int'>\n"
     ]
    }
   ],
   "source": [
    "a = 10\n",
    "\n",
    "print(a, type(a))"
   ]
  },
  {
   "cell_type": "code",
   "execution_count": 1,
   "id": "0189d1d2-6f3b-40b0-8322-12262ee8f168",
   "metadata": {},
   "outputs": [],
   "source": [
    "class car:\n",
    "    pass"
   ]
  },
  {
   "cell_type": "code",
   "execution_count": 4,
   "id": "6edf85b0-1fc8-44b8-87c1-f176e3a35cf9",
   "metadata": {},
   "outputs": [
    {
     "name": "stdout",
     "output_type": "stream",
     "text": [
      "<class '__main__.car'> <class 'type'>\n"
     ]
    }
   ],
   "source": [
    "print(car, type(car))"
   ]
  },
  {
   "cell_type": "markdown",
   "id": "6705fb17-867c-454c-ad39-078b3e7c46c9",
   "metadata": {},
   "source": [
    "Object Creation for car Class:\n",
    "------------------------------"
   ]
  },
  {
   "cell_type": "code",
   "execution_count": 5,
   "id": "16f18f9c-64d4-4281-a985-dbe5dc24c15b",
   "metadata": {},
   "outputs": [
    {
     "name": "stdout",
     "output_type": "stream",
     "text": [
      "<__main__.car object at 0x000001DEE8DE4EC0> <class '__main__.car'>\n"
     ]
    }
   ],
   "source": [
    "swift = car()\n",
    "\n",
    "print(swift, type(swift))"
   ]
  },
  {
   "cell_type": "markdown",
   "id": "777bc63e-d92b-421a-b38f-648bd23a3858",
   "metadata": {},
   "source": [
    "Check the Object's Classes:\n",
    "---------------------------"
   ]
  },
  {
   "cell_type": "code",
   "execution_count": 8,
   "id": "7c95cbfd-6f17-4e71-9b55-d9393f440d6a",
   "metadata": {},
   "outputs": [
    {
     "name": "stdout",
     "output_type": "stream",
     "text": [
      "True\n",
      "False\n"
     ]
    }
   ],
   "source": [
    "print(isinstance(swift, car))\n",
    "\n",
    "print(isinstance(a, int))"
   ]
  },
  {
   "cell_type": "markdown",
   "id": "67a87149-fdbd-446e-b9f6-cca1f1716760",
   "metadata": {},
   "source": [
    "Class Variable Declaration:\n",
    "---------------------------"
   ]
  },
  {
   "cell_type": "code",
   "execution_count": 9,
   "id": "247c9973-64b6-4b0b-9f42-b92ce3d9416c",
   "metadata": {},
   "outputs": [
    {
     "name": "stdout",
     "output_type": "stream",
     "text": [
      "---------------------------------------------------------------\n"
     ]
    }
   ],
   "source": [
    "class Student:\n",
    "    name = 'Dev'\n",
    "    age = 25\n",
    "\n",
    "print('---------------------------------------------------------------')"
   ]
  },
  {
   "cell_type": "markdown",
   "id": "f82d70ef-a868-4e7c-bb74-a52746766dcb",
   "metadata": {},
   "source": [
    "Call the Variable from Student class:\n",
    "-------------------------------------"
   ]
  },
  {
   "cell_type": "code",
   "execution_count": 15,
   "id": "be5bac8e-1f49-4e73-8303-b1a852345c5b",
   "metadata": {},
   "outputs": [
    {
     "name": "stdout",
     "output_type": "stream",
     "text": [
      "Dev\n",
      "25\n",
      "---------------------------------------------------------------\n",
      "Dev\n",
      "25\n"
     ]
    }
   ],
   "source": [
    "# Dot(.) Notation Method\n",
    "\n",
    "print(Student.name)\n",
    "\n",
    "print(Student.age)\n",
    "\n",
    "print('---------------------------------------------------------------')\n",
    "\n",
    "# Get Attribute Method\n",
    "\n",
    "print(getattr(Student, 'name'))\n",
    "\n",
    "print(getattr(Student, 'age'))"
   ]
  },
  {
   "cell_type": "markdown",
   "id": "ce6483ec-c127-4913-8330-14f13667a933",
   "metadata": {},
   "source": [
    "Difference Between two methods:\n",
    "-------------------------------"
   ]
  },
  {
   "cell_type": "code",
   "execution_count": 17,
   "id": "ab657120-316d-42c1-97e7-0312a8eb7e68",
   "metadata": {},
   "outputs": [
    {
     "name": "stdout",
     "output_type": "stream",
     "text": [
      "Male\n"
     ]
    }
   ],
   "source": [
    "# Get Attribute Method\n",
    "\n",
    "print(getattr(Student, 'gender', 'Male'))\n",
    "\n",
    "print('---------------------------------------------------------------')\n",
    "\n",
    "# Do Not Call non Declare Variable from Student Class in Dot (.) Notation method\n"
   ]
  },
  {
   "cell_type": "markdown",
   "id": "efbaa92e-8fb7-4be6-baa5-0668ca3eeedc",
   "metadata": {},
   "source": [
    "Create class Without Variable:\n",
    "------------------------------"
   ]
  },
  {
   "cell_type": "code",
   "execution_count": 18,
   "id": "9041abb1-f455-4a06-ad8f-3b5f2595de25",
   "metadata": {},
   "outputs": [],
   "source": [
    "class Employee:\n",
    "    pass"
   ]
  },
  {
   "cell_type": "code",
   "execution_count": 21,
   "id": "8726cac0-294c-4b68-bc30-e90ec725455a",
   "metadata": {},
   "outputs": [
    {
     "name": "stdout",
     "output_type": "stream",
     "text": [
      "Sara\n"
     ]
    }
   ],
   "source": [
    "# Assign a variable into the class using SetAttribute Method\n",
    "\n",
    "setattr(Employee, 'name', 'Sara')\n",
    "\n",
    "# Call the Variable from the Employee class\n",
    "\n",
    "print(Employee.name)"
   ]
  },
  {
   "cell_type": "code",
   "execution_count": 22,
   "id": "e08d4bc1-2478-493f-a002-689591e38518",
   "metadata": {},
   "outputs": [
    {
     "name": "stdout",
     "output_type": "stream",
     "text": [
      "28\n"
     ]
    }
   ],
   "source": [
    "# Assign a variable into the class using Dot (.) Notation Method\n",
    "\n",
    "Employee.age = 28\n",
    "\n",
    "# Call the Variable from the Employee class\n",
    "\n",
    "print(Employee.age)"
   ]
  },
  {
   "cell_type": "markdown",
   "id": "555e5042-974f-4a4b-95bc-aa0ac63686a7",
   "metadata": {},
   "source": [
    "Delete the Variable from the class:\n",
    "-----------------------------------"
   ]
  },
  {
   "cell_type": "code",
   "execution_count": 26,
   "id": "6dbafc01-7774-44e7-95b0-b1010af40cc4",
   "metadata": {},
   "outputs": [],
   "source": [
    "class Department:\n",
    "    deptId = 10\n",
    "    deptName = 'BA'"
   ]
  },
  {
   "cell_type": "code",
   "execution_count": 27,
   "id": "8b50ab44-dd66-46c2-86ad-79d01292c2f0",
   "metadata": {},
   "outputs": [
    {
     "name": "stdout",
     "output_type": "stream",
     "text": [
      "10\n",
      "BA\n",
      "-----------------------------------------------------------\n",
      "-----------------------------------------------------------\n"
     ]
    },
    {
     "ename": "AttributeError",
     "evalue": "type object 'Department' has no attribute 'deptId'",
     "output_type": "error",
     "traceback": [
      "\u001b[31m---------------------------------------------------------------------------\u001b[39m",
      "\u001b[31mAttributeError\u001b[39m                            Traceback (most recent call last)",
      "\u001b[36mCell\u001b[39m\u001b[36m \u001b[39m\u001b[32mIn[27]\u001b[39m\u001b[32m, line 15\u001b[39m\n\u001b[32m     11\u001b[39m \u001b[38;5;28mdelattr\u001b[39m(Department,\u001b[33m'\u001b[39m\u001b[33mdeptId\u001b[39m\u001b[33m'\u001b[39m)\n\u001b[32m     13\u001b[39m \u001b[38;5;28mprint\u001b[39m(\u001b[33m'\u001b[39m\u001b[33m-----------------------------------------------------------\u001b[39m\u001b[33m'\u001b[39m)\n\u001b[32m---> \u001b[39m\u001b[32m15\u001b[39m \u001b[38;5;28mprint\u001b[39m(\u001b[43mDepartment\u001b[49m\u001b[43m.\u001b[49m\u001b[43mdeptId\u001b[49m)\n",
      "\u001b[31mAttributeError\u001b[39m: type object 'Department' has no attribute 'deptId'"
     ]
    }
   ],
   "source": [
    "# call the Variable from the class\n",
    "\n",
    "print(Department.deptId)\n",
    "\n",
    "print(Department.deptName)\n",
    "\n",
    "print('-----------------------------------------------------------')\n",
    "\n",
    "# Delete value using delattribute method\n",
    "\n",
    "delattr(Department,'deptId')\n",
    "\n",
    "print('-----------------------------------------------------------')\n",
    "\n",
    "print(Department.deptId)"
   ]
  },
  {
   "cell_type": "code",
   "execution_count": null,
   "id": "05f3f721-faa4-4970-9b1f-3242e0b0533e",
   "metadata": {},
   "outputs": [],
   "source": []
  }
 ],
 "metadata": {
  "kernelspec": {
   "display_name": "Python 3 (ipykernel)",
   "language": "python",
   "name": "python3"
  },
  "language_info": {
   "codemirror_mode": {
    "name": "ipython",
    "version": 3
   },
   "file_extension": ".py",
   "mimetype": "text/x-python",
   "name": "python",
   "nbconvert_exporter": "python",
   "pygments_lexer": "ipython3",
   "version": "3.13.2"
  }
 },
 "nbformat": 4,
 "nbformat_minor": 5
}
