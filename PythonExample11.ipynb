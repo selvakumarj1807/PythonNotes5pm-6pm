{
 "cells": [
  {
   "cell_type": "markdown",
   "id": "5601feaf-d756-4540-aaed-aecb387e8e40",
   "metadata": {},
   "source": [
    "Function\n",
    "--------\n",
    "\n",
    "1. Function is a block of code. Which only runs when it is called\n"
   ]
  },
  {
   "cell_type": "markdown",
   "id": "a7145652-071d-4f8a-9dd3-66adeeca0ea2",
   "metadata": {},
   "source": [
    "# 1. No return type with Out Argument\n",
    "-------------------------------------"
   ]
  },
  {
   "cell_type": "code",
   "execution_count": 3,
   "id": "4bcbeebe-f3ad-4edd-9226-d3fe5235e4f3",
   "metadata": {},
   "outputs": [
    {
     "name": "stdout",
     "output_type": "stream",
     "text": [
      "----------------------------------------------------------------\n",
      "Welcome Session\n",
      "Welcome Session\n",
      "Welcome Session\n"
     ]
    }
   ],
   "source": [
    "# Function Creation\n",
    "\n",
    "def sum():\n",
    "    print('Welcome Session')\n",
    "\n",
    "print('----------------------------------------------------------------')\n",
    "\n",
    "# Call the function\n",
    "\n",
    "sum()\n",
    "\n",
    "sum()\n",
    "\n",
    "sum()"
   ]
  },
  {
   "cell_type": "code",
   "execution_count": 4,
   "id": "967223a3-f7e7-4f08-ae37-e11f540aa829",
   "metadata": {},
   "outputs": [
    {
     "name": "stdout",
     "output_type": "stream",
     "text": [
      "----------------------------------------------------------------\n"
     ]
    },
    {
     "name": "stdin",
     "output_type": "stream",
     "text": [
      "Enter a value 01 :  23\n",
      "Enter a value 02 :  21\n"
     ]
    },
    {
     "name": "stdout",
     "output_type": "stream",
     "text": [
      "23  +  21  =  44\n"
     ]
    },
    {
     "name": "stdin",
     "output_type": "stream",
     "text": [
      "Enter a value 01 :  22\n",
      "Enter a value 02 :  33\n"
     ]
    },
    {
     "name": "stdout",
     "output_type": "stream",
     "text": [
      "22  +  33  =  55\n"
     ]
    },
    {
     "name": "stdin",
     "output_type": "stream",
     "text": [
      "Enter a value 01 :  44\n",
      "Enter a value 02 :  55\n"
     ]
    },
    {
     "name": "stdout",
     "output_type": "stream",
     "text": [
      "44  +  55  =  99\n"
     ]
    }
   ],
   "source": [
    "# Function Creation\n",
    "\n",
    "def sum():\n",
    "    a = int(input('Enter a value 01 : '))\n",
    "    b = int(input('Enter a value 02 : '))\n",
    "\n",
    "    print(a, ' + ', b, ' = ', a + b)\n",
    "    print('')\n",
    "\n",
    "print('----------------------------------------------------------------')\n",
    "\n",
    "# Call the function\n",
    "\n",
    "sum()\n",
    "\n",
    "sum()\n",
    "\n",
    "sum()"
   ]
  },
  {
   "cell_type": "markdown",
   "id": "85114de0-e6a0-4737-8277-6edf20c83dca",
   "metadata": {},
   "source": [
    "# 2. No Return Type With Argument\n",
    "---------------------------------"
   ]
  },
  {
   "cell_type": "code",
   "execution_count": 5,
   "id": "4b32ef5f-3425-4804-8096-3883668b580b",
   "metadata": {},
   "outputs": [
    {
     "name": "stdout",
     "output_type": "stream",
     "text": [
      "----------------------------------------------------------------\n",
      "10  +  20  =  30\n",
      "\n",
      "22  +  33  =  55\n",
      "\n",
      "44  +  55  =  99\n",
      "\n"
     ]
    }
   ],
   "source": [
    "# Function Creation\n",
    "\n",
    "def sum(a, b):\n",
    "    print(a, ' + ', b, ' = ', a + b)\n",
    "    print('')\n",
    "\n",
    "print('----------------------------------------------------------------')\n",
    "\n",
    "# Call the function\n",
    "\n",
    "sum(10, 20)\n",
    "\n",
    "sum(22, 33)\n",
    "\n",
    "sum(44, 55)"
   ]
  },
  {
   "cell_type": "markdown",
   "id": "fce06fbb-d401-48db-9ff4-76e7a9342f6b",
   "metadata": {},
   "source": [
    "# 3. Return Type With out Argument\n",
    "----------------------------------"
   ]
  },
  {
   "cell_type": "code",
   "execution_count": 7,
   "id": "1618a4e4-6964-413b-bf1b-775936d7ae2b",
   "metadata": {},
   "outputs": [
    {
     "name": "stdout",
     "output_type": "stream",
     "text": [
      "----------------------------------------------------------------\n"
     ]
    },
    {
     "name": "stdin",
     "output_type": "stream",
     "text": [
      "Enter a value 01 :  22\n",
      "Enter a value 02 :  33\n"
     ]
    },
    {
     "name": "stdout",
     "output_type": "stream",
     "text": [
      "Use Print Statement  55\n"
     ]
    },
    {
     "name": "stdin",
     "output_type": "stream",
     "text": [
      "Enter a value 01 :  11\n",
      "Enter a value 02 :  22\n"
     ]
    },
    {
     "name": "stdout",
     "output_type": "stream",
     "text": [
      "Variable  33\n"
     ]
    }
   ],
   "source": [
    "\n",
    "# Function Creation\n",
    "\n",
    "def sum():\n",
    "    a = int(input('Enter a value 01 : '))\n",
    "    b = int(input('Enter a value 02 : '))\n",
    "    c = a + b\n",
    "    \n",
    "    return c\n",
    "\n",
    "print('----------------------------------------------------------------')\n",
    "\n",
    "# Call the function\n",
    "\n",
    "print('Use Print Statement ', sum())\n",
    "\n",
    "answer = sum()\n",
    "\n",
    "print('Variable ', answer)"
   ]
  },
  {
   "cell_type": "markdown",
   "id": "41c4c250-58a5-4860-b103-88ab74ffe4c1",
   "metadata": {},
   "source": [
    "# 4. Return Type with Argument\n",
    "------------------------------"
   ]
  },
  {
   "cell_type": "code",
   "execution_count": 8,
   "id": "bd734206-92d3-486e-88ee-ff6bfd2efce7",
   "metadata": {},
   "outputs": [
    {
     "name": "stdout",
     "output_type": "stream",
     "text": [
      "----------------------------------------------------------------\n",
      "Use Print Statement  53\n",
      "Variable  30\n"
     ]
    }
   ],
   "source": [
    "\n",
    "# Function Creation\n",
    "\n",
    "def sum(a, b):\n",
    "    c = a + b\n",
    "    \n",
    "    return c\n",
    "\n",
    "print('----------------------------------------------------------------')\n",
    "\n",
    "# Call the function\n",
    "\n",
    "print('Use Print Statement ', sum(21, 32))\n",
    "\n",
    "answer = sum(10,20)\n",
    "\n",
    "print('Variable ', answer)"
   ]
  },
  {
   "cell_type": "code",
   "execution_count": null,
   "id": "a791f59c-442e-49af-b46f-72417348e509",
   "metadata": {},
   "outputs": [],
   "source": [
    "'''\n",
    "ToDay Work\n",
    "----------\n",
    "\n",
    "How to the python code for below output Using Python Function\n",
    "\n",
    "Output 01: Using No Return type With Argument\n",
    "----------\n",
    "\n",
    "Sara you age is 25\n",
    "Dev you age is 22\n",
    "\n",
    "Output 02: Using return type with argument\n",
    "\n",
    "10 + 10 = 20\n",
    "10 - 10 = 0\n",
    "10 * 10 = 100\n",
    "10 / 10 = 1\n",
    "'''"
   ]
  },
  {
   "cell_type": "markdown",
   "id": "365371f8-45c2-40f7-9b9f-0caa5a82856b",
   "metadata": {},
   "source": [
    "Functions Methods:\n",
    "------------------"
   ]
  },
  {
   "cell_type": "markdown",
   "id": "67705c34-3f28-4927-b2f5-543959b27ea2",
   "metadata": {},
   "source": [
    "# 01. Aribtrary Argument Function\n",
    "---------------------------------"
   ]
  },
  {
   "cell_type": "code",
   "execution_count": 7,
   "id": "9ff05628-72fb-4bd6-968a-bc5c09e9762c",
   "metadata": {},
   "outputs": [
    {
     "name": "stdout",
     "output_type": "stream",
     "text": [
      "------------------------------------------------\n",
      "('Sara', 25, 'male') <class 'tuple'>\n",
      "('Developer', 27, 'Female') <class 'tuple'>\n"
     ]
    }
   ],
   "source": [
    "def details(*detail):\n",
    "    print(detail, type(detail))\n",
    "\n",
    "print('------------------------------------------------')\n",
    "\n",
    "details('Sara', 25, 'male')\n",
    "\n",
    "details('Developer', 27, 'Female')"
   ]
  },
  {
   "cell_type": "markdown",
   "id": "58411dda-67f5-477d-a800-e18edf7ca5eb",
   "metadata": {},
   "source": [
    "# 02. Keyword Argument Function\n",
    "-------------------------------"
   ]
  },
  {
   "cell_type": "code",
   "execution_count": 11,
   "id": "55b5ddef-62b6-4b7d-9e42-05104c67f77d",
   "metadata": {},
   "outputs": [
    {
     "name": "stdout",
     "output_type": "stream",
     "text": [
      "------------------------------------------------\n",
      "Sara  -  25  -  male\n",
      "Developer  -  27  -  Female\n"
     ]
    }
   ],
   "source": [
    "def details(name, age, gender):\n",
    "    print(name, ' - ', age, ' - ', gender)\n",
    "\n",
    "print('------------------------------------------------')\n",
    "\n",
    "details(name = 'Sara', gender =  'male', age =  25)\n",
    "\n",
    "details(name = 'Developer', age = 27, gender = 'Female')"
   ]
  },
  {
   "cell_type": "markdown",
   "id": "15d3634d-af8f-44fa-8637-1a7687d27584",
   "metadata": {},
   "source": [
    "# 03. Keyword Arbitrary Argument Function\n",
    "-----------------------------------------"
   ]
  },
  {
   "cell_type": "code",
   "execution_count": 12,
   "id": "25518124-4b97-4b8b-84e2-0299a1f8b821",
   "metadata": {},
   "outputs": [
    {
     "name": "stdout",
     "output_type": "stream",
     "text": [
      "------------------------------------------------\n",
      "{'name': 'Sara', 'gender': 'male', 'age': 25} <class 'dict'>\n",
      "{'name': 'Developer', 'age': 27, 'gender': 'Female'} <class 'dict'>\n"
     ]
    }
   ],
   "source": [
    "def details(**detail):\n",
    "    print(detail, type(detail))\n",
    "\n",
    "print('------------------------------------------------')\n",
    "\n",
    "details(name = 'Sara', gender =  'male', age =  25)\n",
    "\n",
    "details(name = 'Developer', age = 27, gender = 'Female')"
   ]
  },
  {
   "cell_type": "markdown",
   "id": "64f327a1-2906-40c7-9a84-328199ecbac6",
   "metadata": {},
   "source": [
    "# 04. Default Parameter Argument Function:\n",
    "------------------------------------------"
   ]
  },
  {
   "cell_type": "code",
   "execution_count": 14,
   "id": "d0ff1094-a41c-4be2-b35b-756dcef5658d",
   "metadata": {},
   "outputs": [
    {
     "name": "stdout",
     "output_type": "stream",
     "text": [
      "------------------------------------------------\n",
      "Sara  -  25  -  male  -  Kerala\n",
      "Developer  -  27  -  Female  -  TamilNadu\n"
     ]
    }
   ],
   "source": [
    "def details(name, age, gender, state = 'TamilNadu'):\n",
    "    print(name, ' - ', age, ' - ', gender, ' - ', state)\n",
    "\n",
    "print('------------------------------------------------')\n",
    "\n",
    "details(name = 'Sara', gender =  'male', age =  25, state = 'Kerala')\n",
    "\n",
    "details(name = 'Developer', age = 27, gender = 'Female')"
   ]
  },
  {
   "cell_type": "code",
   "execution_count": null,
   "id": "0a305404-5cd4-4f4e-9f2c-842d34812fd9",
   "metadata": {},
   "outputs": [],
   "source": []
  }
 ],
 "metadata": {
  "kernelspec": {
   "display_name": "Python 3 (ipykernel)",
   "language": "python",
   "name": "python3"
  },
  "language_info": {
   "codemirror_mode": {
    "name": "ipython",
    "version": 3
   },
   "file_extension": ".py",
   "mimetype": "text/x-python",
   "name": "python",
   "nbconvert_exporter": "python",
   "pygments_lexer": "ipython3",
   "version": "3.13.2"
  }
 },
 "nbformat": 4,
 "nbformat_minor": 5
}
