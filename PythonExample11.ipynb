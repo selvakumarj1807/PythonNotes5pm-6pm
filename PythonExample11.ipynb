{
 "cells": [
  {
   "cell_type": "markdown",
   "id": "0e1dd131-d285-4890-a716-fd1abc27193d",
   "metadata": {},
   "source": [
    "List:\n",
    "-----\n",
    "\n",
    "1. List is Collection of Data Type. It can store n number values and different Datatype values.\n",
    "2. List Declar follwed by [ ]\n"
   ]
  },
  {
   "cell_type": "code",
   "execution_count": 2,
   "id": "f337ef07-0bd6-4590-8ab3-09fe397a2a5a",
   "metadata": {},
   "outputs": [
    {
     "name": "stdout",
     "output_type": "stream",
     "text": [
      "[26, 27, 28, 29] <class 'list'>\n"
     ]
    }
   ],
   "source": [
    "age = [26, 27, 28, 29]\n",
    "\n",
    "print(age, type(age))"
   ]
  },
  {
   "cell_type": "code",
   "execution_count": 3,
   "id": "ce8cc9f8-6378-4185-b381-a1a6067706da",
   "metadata": {},
   "outputs": [
    {
     "name": "stdout",
     "output_type": "stream",
     "text": [
      "[10, 'Dev', 'male', 25, True] <class 'list'>\n"
     ]
    }
   ],
   "source": [
    "studentDetails = [10, 'Dev', 'male', 25, True]\n",
    "\n",
    "print(studentDetails, type(studentDetails))"
   ]
  },
  {
   "cell_type": "code",
   "execution_count": 4,
   "id": "5de12a1a-a96a-42c3-ad53-7fde313aedbc",
   "metadata": {},
   "outputs": [
    {
     "name": "stdout",
     "output_type": "stream",
     "text": [
      "male\n"
     ]
    }
   ],
   "source": [
    "# Select a Single value using Index\n",
    "\n",
    "print(studentDetails[2])"
   ]
  },
  {
   "cell_type": "code",
   "execution_count": 10,
   "id": "fbe2b461-987c-4a79-b4d0-406ff6529429",
   "metadata": {},
   "outputs": [
    {
     "name": "stdout",
     "output_type": "stream",
     "text": [
      "[10, 'Dev', 'male', 25, True]\n",
      "--------------------------------------------------\n",
      "10\n",
      "Dev\n",
      "male\n",
      "25\n",
      "True\n",
      "--------------------------------------------------\n",
      "Values not in your Variable\n"
     ]
    }
   ],
   "source": [
    "studentDetails = [10, 'Dev', 'male', 25, True]\n",
    "\n",
    "print(studentDetails)\n",
    "\n",
    "print('--------------------------------------------------')\n",
    "\n",
    "for i in studentDetails:\n",
    "    print(i)\n",
    "\n",
    "print('--------------------------------------------------')\n",
    "\n",
    "if 'dev' in studentDetails:\n",
    "    print('Values is there')\n",
    "\n",
    "else:\n",
    "    print('Values not in your Variable')"
   ]
  },
  {
   "cell_type": "code",
   "execution_count": null,
   "id": "b9204838-1250-4e43-b7c9-890b275d53f0",
   "metadata": {},
   "outputs": [],
   "source": [
    "'''\n",
    "ToDay Task\n",
    "----------\n",
    "\n",
    "To Write the python code for below output. Using List, String Function\n",
    "-----------------------------------------\n",
    "\n",
    "[10, 'Dev', 'male', 25, True]\n",
    "--------------------------------------------------\n",
    "\n",
    "Enter Your Values : dev\n",
    "\n",
    "yes dev is in your Variable.\n",
    "'''"
   ]
  }
 ],
 "metadata": {
  "kernelspec": {
   "display_name": "Python 3 (ipykernel)",
   "language": "python",
   "name": "python3"
  },
  "language_info": {
   "codemirror_mode": {
    "name": "ipython",
    "version": 3
   },
   "file_extension": ".py",
   "mimetype": "text/x-python",
   "name": "python",
   "nbconvert_exporter": "python",
   "pygments_lexer": "ipython3",
   "version": "3.13.2"
  }
 },
 "nbformat": 4,
 "nbformat_minor": 5
}
