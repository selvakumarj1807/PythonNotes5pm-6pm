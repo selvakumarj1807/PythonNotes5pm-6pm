{
 "cells": [
  {
   "cell_type": "markdown",
   "id": "34bf5ce2-934d-4734-915f-be922f4c9e6a",
   "metadata": {},
   "source": [
    "DataTypes & Variables :\n",
    "-----------------------"
   ]
  },
  {
   "cell_type": "code",
   "execution_count": 1,
   "id": "c6fbb681-c855-41b5-9c88-be5596f53f81",
   "metadata": {},
   "outputs": [
    {
     "name": "stdout",
     "output_type": "stream",
     "text": [
      "Welcome to Python DataTypes & Variable\n",
      "---------------------------------------------------------------------\n",
      "admin\n",
      "25\n",
      "80.5\n"
     ]
    }
   ],
   "source": [
    "# Variables\n",
    "\n",
    "name = 'admin'\n",
    "\n",
    "age = 25\n",
    "\n",
    "average = 80.5\n",
    "\n",
    "print('Welcome to Python DataTypes & Variable')\n",
    "\n",
    "print('---------------------------------------------------------------------')\n",
    "\n",
    "print(name)\n",
    "\n",
    "print(age)\n",
    "\n",
    "print(average)"
   ]
  },
  {
   "cell_type": "markdown",
   "id": "c3e4a2d5-8c71-468e-b735-26e4ac6c4fa2",
   "metadata": {},
   "source": [
    "DataTypes :\n",
    "-----------\n",
    "\n",
    "1. int(Integer Values) = 0 - 9\n",
    "2. float(Decimal Values) = 10.5,....\n",
    "3. str(String Values) = a - z, A - Z, All Special Characters (!,@,#,$,%,^,&,..) followed by with in single or double quote.\n",
    "4. bool(Boolean) = True, False"
   ]
  },
  {
   "cell_type": "code",
   "execution_count": 4,
   "id": "dac0b07a-49dd-45b3-86ab-dd68947be460",
   "metadata": {},
   "outputs": [
    {
     "name": "stdout",
     "output_type": "stream",
     "text": [
      "Welcome to Python DataTypes & Variable\n",
      "---------------------------------------------------------------------\n",
      "admin <class 'str'>\n",
      "25 <class 'int'>\n",
      "80.5 <class 'float'>\n",
      "True <class 'bool'>\n"
     ]
    }
   ],
   "source": [
    "# DataTypes\n",
    "\n",
    "name = 'admin'\n",
    "\n",
    "age = 25\n",
    "\n",
    "average = 80.5\n",
    "\n",
    "subject = True\n",
    "\n",
    "print('Welcome to Python DataTypes & Variable')\n",
    "\n",
    "print('---------------------------------------------------------------------')\n",
    "\n",
    "print(name, type(name))\n",
    "\n",
    "print(age, type(age))\n",
    "\n",
    "print(average, type(average))\n",
    "\n",
    "print(subject, type(subject))"
   ]
  },
  {
   "cell_type": "code",
   "execution_count": 6,
   "id": "7837ee47-95d8-40f3-b3f8-970708e12c24",
   "metadata": {},
   "outputs": [
    {
     "name": "stdout",
     "output_type": "stream",
     "text": [
      "False\n"
     ]
    }
   ],
   "source": [
    "# Example of Boolean Data Type\n",
    "\n",
    "age = 12\n",
    "\n",
    "print(age >= 18)"
   ]
  },
  {
   "cell_type": "code",
   "execution_count": 13,
   "id": "f926f7a1-72c8-47d6-bec5-6c9583325f40",
   "metadata": {},
   "outputs": [
    {
     "name": "stdout",
     "output_type": "stream",
     "text": [
      "25\n",
      "10 + 2 = 25\n",
      "20  +  5  =  25\n",
      "20  -  5  =  15\n"
     ]
    }
   ],
   "source": [
    "# Example 01\n",
    "\n",
    "n1 = 20\n",
    "\n",
    "n2 = 5\n",
    "\n",
    "addition = n1 + n2\n",
    "\n",
    "print(addition) # 10 + 2 = 12\n",
    "\n",
    "print('10 + 2 =', addition)\n",
    "\n",
    "print(n1, ' + ', n2, ' = ', addition)\n",
    "\n",
    "sutraction = n1 - n2\n",
    "\n",
    "print(n1, ' - ', n2, ' = ', sutraction)"
   ]
  },
  {
   "cell_type": "code",
   "execution_count": null,
   "id": "ddd97a74-64c3-43ca-a972-8ee82d569a01",
   "metadata": {},
   "outputs": [],
   "source": [
    "'''\n",
    "ToDay Work:\n",
    "----------\n",
    "\n",
    "To Write the Python code for below output\n",
    "\n",
    "20  +  5  =  25\n",
    "20  -  5  =  15\n",
    "20  *  5  =  100\n",
    "20  -  5  =  4\n",
    "\n",
    "'''"
   ]
  }
 ],
 "metadata": {
  "kernelspec": {
   "display_name": "Python 3 (ipykernel)",
   "language": "python",
   "name": "python3"
  },
  "language_info": {
   "codemirror_mode": {
    "name": "ipython",
    "version": 3
   },
   "file_extension": ".py",
   "mimetype": "text/x-python",
   "name": "python",
   "nbconvert_exporter": "python",
   "pygments_lexer": "ipython3",
   "version": "3.13.2"
  }
 },
 "nbformat": 4,
 "nbformat_minor": 5
}
